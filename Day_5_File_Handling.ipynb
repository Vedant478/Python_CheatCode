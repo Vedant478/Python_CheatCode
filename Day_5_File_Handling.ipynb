{
  "nbformat": 4,
  "nbformat_minor": 0,
  "metadata": {
    "colab": {
      "provenance": []
    },
    "kernelspec": {
      "name": "python3",
      "display_name": "Python 3"
    },
    "language_info": {
      "name": "python"
    }
  },
  "cells": [
    {
      "cell_type": "code",
      "execution_count": null,
      "metadata": {
        "id": "6cOJpS9BcdS1",
        "colab": {
          "base_uri": "https://localhost:8080/",
          "height": 109
        },
        "outputId": "56bdc363-d9dd-4013-f15d-837137ddb0bc"
      },
      "outputs": [
        {
          "output_type": "error",
          "ename": "SyntaxError",
          "evalue": "invalid decimal literal (<ipython-input-1-7ab7d84951a5>, line 15)",
          "traceback": [
            "\u001b[0;36m  File \u001b[0;32m\"<ipython-input-1-7ab7d84951a5>\"\u001b[0;36m, line \u001b[0;32m15\u001b[0m\n\u001b[0;31m    .read(buffer):read only specified (buffer):amount of data 10-->10characters\u001b[0m\n\u001b[0m                                                                    ^\u001b[0m\n\u001b[0;31mSyntaxError\u001b[0m\u001b[0;31m:\u001b[0m invalid decimal literal\n"
          ]
        }
      ],
      "source": [
        "<file_object>=open(\"path\",\"mode\")\n",
        "<file_object>:ref to file ,used as pointer to read/write to/from file\n",
        "<path>:location+file name of just file name(local dir)\n",
        "<mode>\n",
        "r:read only\n",
        "w:write only/create file/overwrite if already there\n",
        "a:appends data at end of file\n",
        "r+:read and write(writes from start of file)\n",
        "w+:write and read(read your write)\n",
        "a+:create if file not there,appends if file there(at end only),can read from start to end\n",
        "b(r/w/a/r+/w+/a+):binary--->other than text file\n",
        "\n",
        "READ:\n",
        ".read():all file content in a read,+ve:one shot all read, -ve:load on ram\n",
        ".read(buffer):read only specified (buffer):amount of data 10-->10characters\n",
        ".readline():read a line at a time\n",
        ".readlines(n):read n lines at a time\n",
        "\n",
        "write(data):\n",
        "writes data to file\n",
        "\n",
        "close():saves all data to file and then close()"
      ]
    },
    {
      "cell_type": "code",
      "source": [
        "file=open(\"my_data.txt\",\"w\")\n",
        "name=input(\"Who are you>>>>\")\n",
        "file.write(name+\"----->this \\nis data \\nin file\")\n",
        "file.close()"
      ],
      "metadata": {
        "colab": {
          "base_uri": "https://localhost:8080/"
        },
        "id": "pE9Qf3PVgELM",
        "outputId": "4accce84-d90b-4b9f-e32b-dfd1a113aa54"
      },
      "execution_count": null,
      "outputs": [
        {
          "name": "stdout",
          "output_type": "stream",
          "text": [
            "Who are you>>>>dfghjkl\n"
          ]
        }
      ]
    },
    {
      "cell_type": "code",
      "source": [
        "#ask user name,create .txt file of user name,ask native,number and store in\n",
        "Name:--------\n",
        "Native:------\n",
        "Contact:-----\n",
        "in a file"
      ],
      "metadata": {
        "id": "H7wDQo3shAM0"
      },
      "execution_count": null,
      "outputs": []
    },
    {
      "cell_type": "code",
      "source": [
        "name=input(\"Who are you>>>>\")\n",
        "file=open(name+\".txt\",\"w\")\n",
        "native=input(\"where are you from:\")\n",
        "contact=input(\"Enter your contact details:\")\n",
        "file.write(\"Name:\"+name+\"\\nNative:\"+native+\"\\nContact:\"+contact)\n",
        "file.close()"
      ],
      "metadata": {
        "id": "cr-I2bc8iRTe"
      },
      "execution_count": null,
      "outputs": []
    },
    {
      "cell_type": "code",
      "source": [
        "name=input(\"Who are you>>>>\")\n",
        "file=open(name+\".txt\",\"r\")\n",
        "data=file.read()\n",
        "print(\"data in file\\n\",data,sep=\"\")\n",
        "file.close()"
      ],
      "metadata": {
        "id": "uFEsTnscjQdK"
      },
      "execution_count": null,
      "outputs": []
    },
    {
      "cell_type": "code",
      "source": [
        "name=input(\"Who are you>>>>\")\n",
        "file=open(name+\".txt\",\"r\")\n",
        "while True:\n",
        "    data=file.readline()\n",
        "    if data==\"\":\n",
        "        print(\"EOF\".center(30,'-'))\n",
        "        break\n",
        "    print(\"Read Line:\",data)\n",
        "\n",
        "file.close()"
      ],
      "metadata": {
        "id": "wlKFdQpPi8Yq"
      },
      "execution_count": null,
      "outputs": []
    },
    {
      "cell_type": "code",
      "source": [
        "name=input(\"Who are you>>>>\")\n",
        "file=open(name+\".txt\",\"r\")\n",
        "while True:\n",
        "    data=file.read(5)\n",
        "    if data==\"\":\n",
        "        print(\"EOF\".center(30,'-'))\n",
        "        break\n",
        "    print(\"Read Line:\",data)\n",
        "\n",
        "file.close()"
      ],
      "metadata": {
        "id": "QXDlpsDCktK4"
      },
      "execution_count": null,
      "outputs": []
    },
    {
      "cell_type": "code",
      "source": [
        "name=input(\"Who are you>>>>\")\n",
        "file=open(name+\".txt\",\"a\")\n",
        "file.write(\"\\n\"+input(\"Enter new data:\"))\n",
        "print(\"Saved\")\n",
        "file.close()"
      ],
      "metadata": {
        "id": "BAO7NM8slNj6"
      },
      "execution_count": null,
      "outputs": []
    },
    {
      "cell_type": "code",
      "source": [
        "name=input(\"Who are you>>>>\")\n",
        "file=open(name+\".txt\",\"w+\")\n",
        "file.write(\"\\n\"+input(\"Enter new data:\"))\n",
        "file.seek(0)#rewind to start of file\n",
        "data=file.read()\n",
        "print(data+\" Saved in file\")\n",
        "file.close()"
      ],
      "metadata": {
        "id": "ym0IYDGBl9ED"
      },
      "execution_count": null,
      "outputs": []
    },
    {
      "cell_type": "code",
      "source": [
        "name=input(\"Who are you>>>>\")\n",
        "file=open(name+\".txt\",\"w\")\n",
        "file.write(\"\\n\"+input(\"Enter new data:\"))\n",
        "print(\"Saved\")\n",
        "file.close()"
      ],
      "metadata": {
        "id": "8Sh1gbrpnDkK"
      },
      "execution_count": null,
      "outputs": []
    },
    {
      "cell_type": "code",
      "source": [
        "name=input(\"Who are you>>>>\")\n",
        "file=open(name+\".txt\",\"r+\")\n",
        "file.write(\"\\n\"+input(\"Enter new data:\"))\n",
        "file.seek(0)#rewind to start of file\n",
        "data=file.read()\n",
        "print(data+\" Saved in file\")\n",
        "file.close()"
      ],
      "metadata": {
        "id": "pR3uavEToApy"
      },
      "execution_count": null,
      "outputs": []
    },
    {
      "cell_type": "code",
      "source": [],
      "metadata": {
        "id": "9jJNENH1mRYs"
      },
      "execution_count": null,
      "outputs": []
    },
    {
      "cell_type": "code",
      "source": [
        "name=input(\"Who are you>>>>\")\n",
        "file=open(name+\".txt\",\"r+\")\n",
        "file.write(\"\\n\"+input(\"Enter new data:\"))\n",
        "file.seek(0)#rewind to start of file\n",
        "data=file.read()\n",
        "print(data+\" Saved in file\")\n",
        "file.close()"
      ],
      "metadata": {
        "id": "WbMZ1A7Em_DI"
      },
      "execution_count": null,
      "outputs": []
    },
    {
      "cell_type": "code",
      "source": [
        "import datetime\n",
        "# Get current date and time\n",
        "now = datetime.datetime.now()\n",
        "print(now)"
      ],
      "metadata": {
        "id": "K0oCgTWnou6-"
      },
      "execution_count": null,
      "outputs": []
    },
    {
      "cell_type": "code",
      "source": [
        "#open file of your name\n",
        "#write log entry\n",
        "#each entry should be with time stamp:\n",
        "#each session of openting a file should have log entry\n",
        "#seesion ends when user gives blank\n",
        "'''\n",
        "time stamp:\n",
        "-----------------------------\n",
        "ASD\n",
        "ad\n",
        "asf\n",
        "das\n",
        "fd\n",
        "asdf\n",
        "time stamp:\n",
        "-----------------------------\n",
        "wdefsgdh\n",
        "fdsg\n",
        "dsfsdg\n",
        "dsfg\n",
        "time stamp:\n",
        "-----------------------------\n",
        "asdsdafasfasf\n",
        "asdad\n",
        "dsada\n",
        "\n",
        "dsada\\\n",
        "\n",
        "\n",
        "TIME:---------------------------\n",
        "'''\n",
        "import datetime\n",
        "\n",
        "now = datetime.datetime.now()# Get current date and time\n",
        "name=input(\"Who are you>>>>\")\n",
        "file=open(name+\"_log.txt\",\"a+\")\n",
        "file.write(\"\\n\"+\"-\"*20)\n",
        "file.write(\"\\n\"+str(now))\n",
        "file.write(\"\\n\"+\"-\"*20)\n",
        "while True:\n",
        "    data=input(\"Enter data:\")\n",
        "    if data==\"\":\n",
        "        break\n",
        "    file.write(\"\\n\"+data)\n",
        "file.seek(0)#rewind to start of file\n",
        "data=file.read()\n",
        "print(\"Data in file:\")\n",
        "print(data)\n",
        "file.close()"
      ],
      "metadata": {
        "id": "FVErq650pDVh"
      },
      "execution_count": null,
      "outputs": []
    },
    {
      "cell_type": "code",
      "source": [
        "Picking a career path can feel like navigating a maze with % symbols at every turn.\n",
        "According to a recent study, 62% of graduates end up in a different field than they originally planned.\n",
        "But fear not!  There are ways to make sense of the confusion.\n",
        "Start by reflecting on your skills and interests.\n",
        "Do numbers excite you, or do you crave creative expression with words and symbols? Research potential careers that align with your strengths.\n",
        "Remember, lifelong learning (symbolized by ) is key to staying relevant  in today's ever-changing job market.\n",
        "#word,line,alphabets,digits,symbols"
      ],
      "metadata": {
        "id": "rXkGKEzktBMm"
      },
      "execution_count": null,
      "outputs": []
    },
    {
      "cell_type": "code",
      "source": [
        "f=open(\"data.txt\",\"r\")\n",
        "data=f.read()\n",
        "print(data)"
      ],
      "metadata": {
        "id": "_WP_oI7Xum4s",
        "colab": {
          "base_uri": "https://localhost:8080/"
        },
        "outputId": "98fd0369-5727-4000-81ce-e4a7e24efc0d"
      },
      "execution_count": null,
      "outputs": [
        {
          "output_type": "stream",
          "name": "stdout",
          "text": [
            "Picking a career path can feel like navigating a maze with % symbols at every turn.\n",
            "According to a recent study, 62% of graduates end up in a different field than they originally planned.\n",
            "But fear not!  There are ways to make sense of the confusion.\n",
            "Start by reflecting on your skills and interests.\n",
            "Do numbers excite you, or do you crave creative expression with words and symbols? Research potential careers that align with your strengths.\n",
            "Remember, lifelong learning (symbolized by ) is key to staying relevant  in today's ever-changing job market.\n"
          ]
        }
      ]
    },
    {
      "cell_type": "code",
      "source": [
        "line_count=0\n",
        "word_count=0\n",
        "alpha_count=0\n",
        "digit_count=0\n",
        "symbol_count=0\n",
        "fr=open(\"data.txt\",\"r\")\n",
        "while True:\n",
        "    line=fr.readline()\n",
        "    if line==\"\":\n",
        "        break\n",
        "    line_count+=1\n",
        "    word_count+=len(line.split())\n",
        "    for char in line:\n",
        "        if char.isalpha():\n",
        "            alpha_count+=1\n",
        "        elif char.isdigit():\n",
        "            digit_count+=1\n",
        "        elif char!=' ':\n",
        "            symbol_count+=1\n",
        "        #print(line)\n",
        "print(\"Line count:\",line_count)\n",
        "print(\"word count:\",word_count)\n",
        "print(\"alpha_count:\",alpha_count)\n",
        "print(\"digit_count:\",digit_count)\n",
        "print(\"symbol_count:\",symbol_count)"
      ],
      "metadata": {
        "colab": {
          "base_uri": "https://localhost:8080/"
        },
        "id": "IYbmVo58vYel",
        "outputId": "85af24d0-e94f-4d64-f94a-c1e2818a5336"
      },
      "execution_count": null,
      "outputs": [
        {
          "output_type": "stream",
          "name": "stdout",
          "text": [
            "Line count: 6\n",
            "word count: 92\n",
            "alpha_count: 439\n",
            "digit_count: 2\n",
            "symbol_count: 22\n"
          ]
        }
      ]
    },
    {
      "cell_type": "code",
      "source": [
        "try:\n",
        "    with open(\"myfile.txt\", \"r\") as f:\n",
        "        # Read and process the file\n",
        "        content = f.read()\n",
        "        print(content)\n",
        "except FileNotFoundError:\n",
        "    print(\"File not found.\")\n",
        "except IOError as e:\n",
        "    print(\"An I/O error occurred:\", e)\n",
        "except PermissionError:\n",
        "    print(\"Permission denied.\")\n",
        "except ValueError:\n",
        "    print(\"Invalid file mode.\")"
      ],
      "metadata": {
        "id": "JqPBVXfPwS2H"
      },
      "execution_count": null,
      "outputs": []
    },
    {
      "cell_type": "code",
      "source": [
        "'''\n",
        "file=open(\"my_data.txt\",\"w\")\n",
        "name=input(\"Who are you>>>>\")\n",
        "file.write(name+\"----->this \\nis data \\nin file\")\n",
        "file.close()\n",
        "'''\n",
        "#auto close when done\n",
        "with open(\"myfile.txt\", \"w\") as f:\n",
        "    f.write(input(\"Enter data\"))"
      ],
      "metadata": {
        "colab": {
          "base_uri": "https://localhost:8080/"
        },
        "id": "fG8JYgaAwnMt",
        "outputId": "230417fe-0b43-49e9-e7a7-fcf9f8ec10a3"
      },
      "execution_count": null,
      "outputs": [
        {
          "name": "stdout",
          "output_type": "stream",
          "text": [
            "Enter datathis is my data\n"
          ]
        }
      ]
    },
    {
      "cell_type": "code",
      "source": [
        "with open(\"amar.txt\", \"r\") as f:\n",
        "    for line in f:\n",
        "        print(\"data--->:\",line)"
      ],
      "metadata": {
        "colab": {
          "base_uri": "https://localhost:8080/"
        },
        "id": "bYrV1i7Lx96N",
        "outputId": "637640ea-6b20-4568-a054-458337b82b24"
      },
      "execution_count": null,
      "outputs": [
        {
          "output_type": "stream",
          "name": "stdout",
          "text": [
            "data--->: \n",
            "\n",
            "data--->: zzzzzzzzzzzzzzzzzzzzzzzContact:9821601163this is new data to be in file\n",
            "\n",
            "data--->: line 2 goes here\n"
          ]
        }
      ]
    },
    {
      "cell_type": "code",
      "source": [],
      "metadata": {
        "id": "cSukSZFN79Ba"
      },
      "execution_count": null,
      "outputs": []
    }
  ]
}