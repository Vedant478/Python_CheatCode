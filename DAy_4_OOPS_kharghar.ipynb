{
  "nbformat": 4,
  "nbformat_minor": 0,
  "metadata": {
    "colab": {
      "provenance": []
    },
    "kernelspec": {
      "name": "python3",
      "display_name": "Python 3"
    },
    "language_info": {
      "name": "python"
    }
  },
  "cells": [
    {
      "cell_type": "code",
      "execution_count": null,
      "metadata": {
        "id": "f-01WcpiF41i"
      },
      "outputs": [],
      "source": [
        "#method in class will create properties and values on them\n",
        "#life concept: anything happening(method) will create properties\n",
        "syntax:\n",
        "class Name:\n",
        "    method(self,other parameters):\n",
        "        self.properties"
      ]
    },
    {
      "cell_type": "code",
      "source": [
        "class Human:\n",
        "    def birth(self,gender):\n",
        "        self.gender=gender\n",
        "        print(f\"{self.gender} took birth\")\n",
        "    def name_it(self,name):\n",
        "        self.name=name\n",
        "        print(f\"{self.name} is your name\")\n",
        "    def intro(self):\n",
        "        print(f\"hi i am {self.name} a {self.gender}\")"
      ],
      "metadata": {
        "id": "N-rdnn9MImPo"
      },
      "execution_count": null,
      "outputs": []
    },
    {
      "cell_type": "code",
      "source": [
        "h=Human()"
      ],
      "metadata": {
        "id": "6Z7etcjfJFxO"
      },
      "execution_count": null,
      "outputs": []
    },
    {
      "cell_type": "code",
      "source": [
        "h.birth(\"male\")"
      ],
      "metadata": {
        "colab": {
          "base_uri": "https://localhost:8080/"
        },
        "id": "rveyeG_oJNn2",
        "outputId": "63f8cb9c-b49b-4cde-c3c6-798e15c2d49e"
      },
      "execution_count": null,
      "outputs": [
        {
          "output_type": "stream",
          "name": "stdout",
          "text": [
            "male took birth\n"
          ]
        }
      ]
    },
    {
      "cell_type": "code",
      "source": [
        "h.gender"
      ],
      "metadata": {
        "colab": {
          "base_uri": "https://localhost:8080/",
          "height": 36
        },
        "id": "wCFvfHE8KVGa",
        "outputId": "6efb29d1-b3b2-4d12-f0b0-1ec8909d754c"
      },
      "execution_count": null,
      "outputs": [
        {
          "output_type": "execute_result",
          "data": {
            "text/plain": [
              "'male'"
            ],
            "application/vnd.google.colaboratory.intrinsic+json": {
              "type": "string"
            }
          },
          "metadata": {},
          "execution_count": 13
        }
      ]
    },
    {
      "cell_type": "code",
      "source": [
        "h.name_it(\"amar\")"
      ],
      "metadata": {
        "colab": {
          "base_uri": "https://localhost:8080/"
        },
        "id": "10BVRhN2Ki0U",
        "outputId": "17161ee6-c8f0-429b-bdcb-6b760b92e1bc"
      },
      "execution_count": null,
      "outputs": [
        {
          "output_type": "stream",
          "name": "stdout",
          "text": [
            "amar is your name\n"
          ]
        }
      ]
    },
    {
      "cell_type": "code",
      "source": [
        "h.name"
      ],
      "metadata": {
        "colab": {
          "base_uri": "https://localhost:8080/",
          "height": 36
        },
        "id": "ilJBquKUKlnD",
        "outputId": "d6c39f8c-b54b-4271-a41f-0f879135e4f5"
      },
      "execution_count": null,
      "outputs": [
        {
          "output_type": "execute_result",
          "data": {
            "text/plain": [
              "'amar'"
            ],
            "application/vnd.google.colaboratory.intrinsic+json": {
              "type": "string"
            }
          },
          "metadata": {},
          "execution_count": 15
        }
      ]
    },
    {
      "cell_type": "code",
      "source": [
        "h.intro()"
      ],
      "metadata": {
        "colab": {
          "base_uri": "https://localhost:8080/"
        },
        "id": "R0ptIVniKqmC",
        "outputId": "ce58488e-7c7e-49a3-e5b2-ab8f1773e3c5"
      },
      "execution_count": null,
      "outputs": [
        {
          "output_type": "stream",
          "name": "stdout",
          "text": [
            "hi i am amar a male\n"
          ]
        }
      ]
    },
    {
      "cell_type": "code",
      "source": [
        "h2=Human()\n",
        "h2.birth(\"female\")\n",
        "h2.name_it(\"wonder woman\")\n",
        "h2.intro()"
      ],
      "metadata": {
        "colab": {
          "base_uri": "https://localhost:8080/"
        },
        "id": "_QqZGaMLK7E-",
        "outputId": "27a6e18d-e88c-4296-b801-ee822b6fbc31"
      },
      "execution_count": null,
      "outputs": [
        {
          "output_type": "stream",
          "name": "stdout",
          "text": [
            "female took birth\n",
            "wonder woman is your name\n",
            "hi i am wonder woman a female\n"
          ]
        }
      ]
    },
    {
      "cell_type": "code",
      "source": [
        "#self is ref of object who is calling\n",
        "class Human:\n",
        "    def birth(self,gender):\n",
        "        self.gender=gender#138774892839984.gender\n",
        "        #138774892840176.gender\n",
        "        print(f\"{self.gender} took birth\",id(self))\n",
        "    def name_it(self,name):\n",
        "        self.name=name\n",
        "        print(f\"{self.name} is your name\",id(self))\n",
        "    def intro(self):\n",
        "        print(f\"hi i am {self.name} a {self.gender}\",id(self))"
      ],
      "metadata": {
        "id": "ir_PQkE1LFjd"
      },
      "execution_count": null,
      "outputs": []
    },
    {
      "cell_type": "code",
      "source": [
        "h=Human()\n",
        "h2=Human()"
      ],
      "metadata": {
        "id": "c0HmI-zGLdVF"
      },
      "execution_count": null,
      "outputs": []
    },
    {
      "cell_type": "code",
      "source": [
        "id(h)"
      ],
      "metadata": {
        "colab": {
          "base_uri": "https://localhost:8080/"
        },
        "id": "Xfr3b8D9Lg2t",
        "outputId": "e5763423-dd88-478d-a972-bea0753210a2"
      },
      "execution_count": null,
      "outputs": [
        {
          "output_type": "execute_result",
          "data": {
            "text/plain": [
              "138774892844592"
            ]
          },
          "metadata": {},
          "execution_count": 36
        }
      ]
    },
    {
      "cell_type": "code",
      "source": [
        "id(h2)"
      ],
      "metadata": {
        "colab": {
          "base_uri": "https://localhost:8080/"
        },
        "id": "ROS9j95fL9dl",
        "outputId": "f9330467-927b-4f50-b590-8e8f12c3f061"
      },
      "execution_count": null,
      "outputs": [
        {
          "output_type": "execute_result",
          "data": {
            "text/plain": [
              "138774892853280"
            ]
          },
          "metadata": {},
          "execution_count": 37
        }
      ]
    },
    {
      "cell_type": "code",
      "source": [
        "h2.birth(\"female\")\n",
        "h.name_it(\"amar\")"
      ],
      "metadata": {
        "colab": {
          "base_uri": "https://localhost:8080/"
        },
        "id": "0nmVRC6KLkxR",
        "outputId": "8838edba-7b4c-4a98-a22e-74c7c680fd23"
      },
      "execution_count": null,
      "outputs": [
        {
          "output_type": "stream",
          "name": "stdout",
          "text": [
            "female took birth 138774892843296\n",
            "amar is your name 138774892842048\n"
          ]
        }
      ]
    },
    {
      "cell_type": "code",
      "source": [
        "id(h2)"
      ],
      "metadata": {
        "colab": {
          "base_uri": "https://localhost:8080/"
        },
        "id": "FPbvap98N8sg",
        "outputId": "deef9e3f-34d9-49ab-a1d1-d0f9466cc012"
      },
      "execution_count": null,
      "outputs": [
        {
          "output_type": "execute_result",
          "data": {
            "text/plain": [
              "138774892843296"
            ]
          },
          "metadata": {},
          "execution_count": 33
        }
      ]
    },
    {
      "cell_type": "code",
      "source": [
        "id(h2.gender)"
      ],
      "metadata": {
        "colab": {
          "base_uri": "https://localhost:8080/"
        },
        "id": "MnTruAhJODlZ",
        "outputId": "72d568f2-d081-4131-86e6-21814d0d3464"
      },
      "execution_count": null,
      "outputs": [
        {
          "output_type": "execute_result",
          "data": {
            "text/plain": [
              "138774327007472"
            ]
          },
          "metadata": {},
          "execution_count": 34
        }
      ]
    },
    {
      "cell_type": "code",
      "source": [
        "h2.name"
      ],
      "metadata": {
        "colab": {
          "base_uri": "https://localhost:8080/",
          "height": 146
        },
        "id": "iscjX7QjNzIE",
        "outputId": "5404fc97-d5a3-4bf1-e8af-43c59a37dc9d"
      },
      "execution_count": null,
      "outputs": [
        {
          "output_type": "error",
          "ename": "AttributeError",
          "evalue": "'Human' object has no attribute 'name'",
          "traceback": [
            "\u001b[0;31m---------------------------------------------------------------------------\u001b[0m",
            "\u001b[0;31mAttributeError\u001b[0m                            Traceback (most recent call last)",
            "\u001b[0;32m<ipython-input-31-5599c42f04e7>\u001b[0m in \u001b[0;36m<cell line: 1>\u001b[0;34m()\u001b[0m\n\u001b[0;32m----> 1\u001b[0;31m \u001b[0mh2\u001b[0m\u001b[0;34m.\u001b[0m\u001b[0mname\u001b[0m\u001b[0;34m\u001b[0m\u001b[0;34m\u001b[0m\u001b[0m\n\u001b[0m",
            "\u001b[0;31mAttributeError\u001b[0m: 'Human' object has no attribute 'name'"
          ]
        }
      ]
    },
    {
      "cell_type": "code",
      "source": [
        "#self is ref of object who is calling\n",
        "class Human:\n",
        "    def birth(self,gender):\n",
        "        self.gender=gender#138774892839984.gender\n",
        "        #138774892840176.gender\n",
        "        print(f\"{self.gender} took birth\",id(self))\n",
        "    def name_it(self,name):\n",
        "        self.name=name\n",
        "        print(f\"{self.name} is your name\",id(self))\n",
        "    def intro(self):\n",
        "        print(f\"hi i am {self.name} a {self.gender}\",id(self))"
      ],
      "metadata": {
        "id": "z9brLYMeWDD3"
      },
      "execution_count": null,
      "outputs": []
    },
    {
      "cell_type": "code",
      "source": [
        "h=Human()\n",
        "h.birth(\"female\")\n",
        "h.name_it(\"xena\")"
      ],
      "metadata": {
        "colab": {
          "base_uri": "https://localhost:8080/"
        },
        "id": "xdhXMsdDWKx4",
        "outputId": "6d4b68c0-2fd4-4be0-87ce-115af8452b2f"
      },
      "execution_count": null,
      "outputs": [
        {
          "output_type": "stream",
          "name": "stdout",
          "text": [
            "female took birth 138774892843152\n",
            "xena is your name 138774892843152\n"
          ]
        }
      ]
    },
    {
      "cell_type": "code",
      "source": [
        "#constuctor\n",
        "def __init__(self):\n",
        "    #init method is built in method\n",
        "    #called on its own when object is created\n",
        "    #init,default value,set to passed value"
      ],
      "metadata": {
        "id": "4S7KkK5FWVcM"
      },
      "execution_count": null,
      "outputs": []
    },
    {
      "cell_type": "code",
      "source": [
        "#self is ref of object who is calling\n",
        "class Human:\n",
        "    def __init__(self):\n",
        "        self.name=\"\"\n",
        "        self.gender=\"\"\n",
        "        print(\"EMpty human created\")\n",
        "    def set_Human(self,gender,name):\n",
        "        self.gender=gender\n",
        "        self.name=name\n",
        "        print(f\"{self.gender} took birth with name {self.name}:\",id(self))\n",
        "    def intro(self):\n",
        "        print(f\"hi i am {self.name} a {self.gender}\",id(self))"
      ],
      "metadata": {
        "id": "_K8ZFR-lWppG"
      },
      "execution_count": null,
      "outputs": []
    },
    {
      "cell_type": "code",
      "source": [
        "h=Human()"
      ],
      "metadata": {
        "colab": {
          "base_uri": "https://localhost:8080/"
        },
        "id": "9uUhyVVHXKDV",
        "outputId": "d8de0b9e-ae16-4a8f-eb31-e8bc8b3f2934"
      },
      "execution_count": null,
      "outputs": [
        {
          "output_type": "stream",
          "name": "stdout",
          "text": [
            "EMpty human created\n"
          ]
        }
      ]
    },
    {
      "cell_type": "code",
      "source": [
        "h.set_Human(\"male\",\"amar\")"
      ],
      "metadata": {
        "colab": {
          "base_uri": "https://localhost:8080/"
        },
        "id": "TRB-7hCtXS8M",
        "outputId": "f0b203f6-1a68-43f5-bf81-9f01d9fdd046"
      },
      "execution_count": null,
      "outputs": [
        {
          "output_type": "stream",
          "name": "stdout",
          "text": [
            "male took birth with name amar: 138774892852272\n"
          ]
        }
      ]
    },
    {
      "cell_type": "code",
      "source": [
        "h.intro()"
      ],
      "metadata": {
        "colab": {
          "base_uri": "https://localhost:8080/"
        },
        "id": "bwzQav2GXZId",
        "outputId": "3dadb9be-d607-4707-88c6-106427da2a48"
      },
      "execution_count": null,
      "outputs": [
        {
          "output_type": "stream",
          "name": "stdout",
          "text": [
            "hi i am amar a male 138774892852272\n"
          ]
        }
      ]
    },
    {
      "cell_type": "code",
      "source": [
        "#self is ref of object who is calling\n",
        "class Human:\n",
        "    def __init__(self,gender=\"\",name=\"\"):\n",
        "        self.name=name\n",
        "        self.gender=gender\n",
        "        print(\"init called:\")\n",
        "        print(f\"{self.gender} took birth with name {self.name}:\",id(self))\n",
        "    def set_Human(self,gender,name):\n",
        "        self.gender=gender\n",
        "        self.name=name\n",
        "        print(f\"{self.gender} took birth with name {self.name}:\",id(self))\n",
        "    def intro(self):\n",
        "        print(f\"hi i am {self.name} a {self.gender}\",id(self))"
      ],
      "metadata": {
        "id": "ap6SNb7KXgjs"
      },
      "execution_count": null,
      "outputs": []
    },
    {
      "cell_type": "code",
      "source": [
        "h=Human(\"male\",\"shaktiman\")"
      ],
      "metadata": {
        "colab": {
          "base_uri": "https://localhost:8080/"
        },
        "id": "LA68KSqlXq7r",
        "outputId": "3be06293-0c99-422c-d850-ede98ea8531a"
      },
      "execution_count": null,
      "outputs": [
        {
          "output_type": "stream",
          "name": "stdout",
          "text": [
            "init called:\n",
            "male took birth with name shaktiman: 138774326646464\n"
          ]
        }
      ]
    },
    {
      "cell_type": "code",
      "source": [
        "#__del__:method called on its own just before object is removed from memory\n",
        "#used to do cleanup task:\n",
        "                #close open file,leave resources taken,close open connection\n",
        "#self is ref of object who is calling\n",
        "class Human:\n",
        "    def __init__(self,gender=\"\",name=\"\"):\n",
        "        self.name=name\n",
        "        self.gender=gender\n",
        "        print(\"init called:\")\n",
        "        print(f\"{self.gender} took birth with name {self.name}:\",id(self))\n",
        "    def __del__(self):\n",
        "        print(f\"R.I.P {self.name}\")\n",
        "    def intro(self):\n",
        "        print(f\"hi i am {self.name} a {self.gender}\",id(self))"
      ],
      "metadata": {
        "id": "Z6fScUpzYA85"
      },
      "execution_count": null,
      "outputs": []
    },
    {
      "cell_type": "code",
      "source": [],
      "metadata": {
        "id": "qfWMx3hCYrHf"
      },
      "execution_count": null,
      "outputs": []
    },
    {
      "cell_type": "code",
      "source": [
        "h=Human(\"male\",\"shaktiman\")"
      ],
      "metadata": {
        "colab": {
          "base_uri": "https://localhost:8080/"
        },
        "id": "0VQINYzXYrvo",
        "outputId": "e868e59c-a423-4d66-beb5-8d9b147a6fc5"
      },
      "execution_count": null,
      "outputs": [
        {
          "output_type": "stream",
          "name": "stdout",
          "text": [
            "init called:\n",
            "male took birth with name shaktiman: 138774326655968\n"
          ]
        }
      ]
    },
    {
      "cell_type": "code",
      "source": [
        "h1=Human(\"femal\",\"Ek stree\")"
      ],
      "metadata": {
        "colab": {
          "base_uri": "https://localhost:8080/"
        },
        "id": "78oreHCUYwcl",
        "outputId": "ab015b91-a89c-440f-e92e-3cda95745f30"
      },
      "execution_count": null,
      "outputs": [
        {
          "output_type": "stream",
          "name": "stdout",
          "text": [
            "init called:\n",
            "femal took birth with name Ek stree: 138774892849056\n",
            "R.I.P shaktiman\n"
          ]
        }
      ]
    },
    {
      "cell_type": "code",
      "source": [
        "print(h1)"
      ],
      "metadata": {
        "colab": {
          "base_uri": "https://localhost:8080/"
        },
        "id": "ko6CzkIBZ8GR",
        "outputId": "a24b7775-0430-45e6-a5a4-247e1df83bb5"
      },
      "execution_count": null,
      "outputs": [
        {
          "output_type": "stream",
          "name": "stdout",
          "text": [
            "<__main__.Human object at 0x7e370c3127a0>\n"
          ]
        }
      ]
    },
    {
      "cell_type": "code",
      "source": [
        "#def __str__()\n",
        "    #should return string only\n",
        "    #called printer method\n",
        "    #one can code what to print if passed to print() directly\n",
        "\n",
        "class Human:\n",
        "    def __init__(self,gender=\"\",name=\"\"):\n",
        "        self.name=name\n",
        "        self.gender=gender\n",
        "        print(\"init called:\")\n",
        "        print(f\"{self.gender} took birth with name {self.name}:\",id(self))\n",
        "    def __del__(self):\n",
        "        print(f\"R.I.P {self.name}\")\n",
        "    def __str__(self):\n",
        "        return \"hi i am \"+self.name+\" a \"+self.gender"
      ],
      "metadata": {
        "id": "vdbolEpPaB8H"
      },
      "execution_count": null,
      "outputs": []
    },
    {
      "cell_type": "code",
      "source": [
        "h1=Human(\"femal\",\"Ek stree2\")"
      ],
      "metadata": {
        "colab": {
          "base_uri": "https://localhost:8080/"
        },
        "id": "uKQmIAyFa9wz",
        "outputId": "11eb1e47-a519-4206-fbc8-d9f82da9f7a6"
      },
      "execution_count": null,
      "outputs": [
        {
          "output_type": "stream",
          "name": "stdout",
          "text": [
            "init called:\n",
            "femal took birth with name Ek stree2: 138774892849536\n",
            "R.I.P Ek stree\n"
          ]
        }
      ]
    },
    {
      "cell_type": "code",
      "source": [
        "print(h)"
      ],
      "metadata": {
        "colab": {
          "base_uri": "https://localhost:8080/"
        },
        "id": "5gsfqgREafJ6",
        "outputId": "8d0800b4-a14d-4eac-8b33-93e6fd38341d"
      },
      "execution_count": null,
      "outputs": [
        {
          "output_type": "stream",
          "name": "stdout",
          "text": [
            "hi i am shaktiman a male\n"
          ]
        }
      ]
    },
    {
      "cell_type": "code",
      "source": [
        "Abstarction:\n",
        "            access specifiers/visibilities:\n",
        "            public: <var>\n",
        "            private: _<var>  hidden/non_reflective but if known will be accessed\n",
        "            strong private: __<var> not accessed outside class/can not be inherited"
      ],
      "metadata": {
        "id": "Uq_RQCg9bXkU"
      },
      "execution_count": null,
      "outputs": []
    },
    {
      "cell_type": "code",
      "source": [
        "class Person:\n",
        "    gender=\"male\"\n",
        "    _name=\"amar\"\n",
        "    __number=\"9821601163\"\n",
        "    def get_info(self):\n",
        "        print(Person.gender,Person._name,Person.__number)\n"
      ],
      "metadata": {
        "id": "5TLuY7nMcEWI"
      },
      "execution_count": null,
      "outputs": []
    },
    {
      "cell_type": "code",
      "source": [
        "p=Person()\n",
        "p.get_info()"
      ],
      "metadata": {
        "colab": {
          "base_uri": "https://localhost:8080/"
        },
        "id": "wELzZ25mcRWv",
        "outputId": "251fec92-838d-47dd-cb04-f5866f95129a"
      },
      "execution_count": null,
      "outputs": [
        {
          "output_type": "stream",
          "name": "stdout",
          "text": [
            "male amar 9821601163\n"
          ]
        }
      ]
    },
    {
      "cell_type": "code",
      "source": [
        "class Human:\n",
        "    def __init__(self,gender=\"\",name=\"\"):\n",
        "        self.__name=name\n",
        "        self.__gender=gender\n",
        "        print(\"init called:\")\n",
        "        print(f\"{self.__gender} took birth with name {self.__name}:\",id(self))\n",
        "    def __del__(self):\n",
        "        print(f\"R.I.P {self.__name}\")\n",
        "    def __str__(self):\n",
        "        return \"hi i am \"+self.__name+\" a \"+self.__gender"
      ],
      "metadata": {
        "id": "OB7uP21IdhaH"
      },
      "execution_count": null,
      "outputs": []
    },
    {
      "cell_type": "code",
      "source": [
        "h=Human(\"male\",\"super_man\")"
      ],
      "metadata": {
        "colab": {
          "base_uri": "https://localhost:8080/"
        },
        "id": "xi3xw4K9drmS",
        "outputId": "e5bb3b1e-2f4c-487a-d142-8a015e63c022"
      },
      "execution_count": null,
      "outputs": [
        {
          "output_type": "stream",
          "name": "stdout",
          "text": [
            "init called:\n",
            "male took birth with name super_man: 138774081988656\n",
            "R.I.P super_man\n"
          ]
        }
      ]
    },
    {
      "cell_type": "code",
      "source": [
        "print(h)"
      ],
      "metadata": {
        "colab": {
          "base_uri": "https://localhost:8080/"
        },
        "id": "ITXxyEiRdzKE",
        "outputId": "71b7339d-1b90-4552-cb3b-6f4c0ab8127a"
      },
      "execution_count": null,
      "outputs": [
        {
          "output_type": "stream",
          "name": "stdout",
          "text": [
            "hi i am super_man a male\n"
          ]
        }
      ]
    },
    {
      "cell_type": "code",
      "source": [
        "h.name=\"super pandu\""
      ],
      "metadata": {
        "id": "kJjwyCIKd1Jd"
      },
      "execution_count": null,
      "outputs": []
    },
    {
      "cell_type": "code",
      "source": [
        "#memberships\n",
        "#local:use to pass values to functions\n",
        "#instance:every object has own copy\n",
        "#class:single copy,maintained by class can be accessed by members(objects)\n",
        "class Human:\n",
        "    Adhar_Card=202400#class member:(static member)\n",
        "    def __init__(self,gender=\"\",name=\"\"):#name,gender local to method\n",
        "        self.__name=name\n",
        "        #self.__name,self.__gender are instance/object members\n",
        "        self.__gender=gender\n",
        "        Human.Adhar_Card+=1\n",
        "        self.__my_acn=Human.Adhar_Card\n",
        "        print(\"init called:\")\n",
        "        print(f\"{self.__gender} took birth with name {self.__name}:\",id(self))\n",
        "    def __str__(self):\n",
        "        return \"hi i am \"+self.__name+\" a \"+self.__gender+\" my Adhar is:\"+ str(self.__my_acn)"
      ],
      "metadata": {
        "id": "QLH077KBd5xl"
      },
      "execution_count": null,
      "outputs": []
    },
    {
      "cell_type": "code",
      "source": [
        "h1=Human(\"male\",\"super man\")\n",
        "h2=Human(\"male\",\"krishh\")\n",
        "h3=Human(\"male\",\"chot bheem\")\n",
        "print(h1)\n",
        "print(h2)\n",
        "print(h3)"
      ],
      "metadata": {
        "colab": {
          "base_uri": "https://localhost:8080/"
        },
        "id": "9npkYBcqgrio",
        "outputId": "d558af80-0ebb-419c-8f40-d86b3cf26fb8"
      },
      "execution_count": null,
      "outputs": [
        {
          "output_type": "stream",
          "name": "stdout",
          "text": [
            "init called:\n",
            "male took birth with name super man: 138774081989136\n",
            "init called:\n",
            "male took birth with name krishh: 138774081983616\n",
            "init called:\n",
            "male took birth with name chot bheem: 138774081992928\n",
            "hi i am super man a male my Adhar is:202401\n",
            "hi i am krishh a male my Adhar is:202402\n",
            "hi i am chot bheem a male my Adhar is:202403\n",
            "R.I.P Ek stree2\n"
          ]
        }
      ]
    },
    {
      "cell_type": "code",
      "source": [
        "\n",
        "#single level\n",
        "class A:\n",
        "    def my_A(self):\n",
        "        print(\"Hi i m from A:\")\n",
        "class B(A):\n",
        "    def my_B(self):\n",
        "        print(\"Hi i m from B:\")"
      ],
      "metadata": {
        "id": "W52vshLjmN3u"
      },
      "execution_count": null,
      "outputs": []
    },
    {
      "cell_type": "code",
      "source": [
        "obj=B()\n",
        "obj.my_B()"
      ],
      "metadata": {
        "colab": {
          "base_uri": "https://localhost:8080/"
        },
        "id": "ofa0o-JqmY-K",
        "outputId": "0a65f862-7867-4d7a-8bac-05198654cff0"
      },
      "execution_count": null,
      "outputs": [
        {
          "output_type": "stream",
          "name": "stdout",
          "text": [
            "Hi i m from B:\n"
          ]
        }
      ]
    },
    {
      "cell_type": "code",
      "source": [
        "obj.__my_A()"
      ],
      "metadata": {
        "colab": {
          "base_uri": "https://localhost:8080/",
          "height": 146
        },
        "id": "hf-41a5WmntR",
        "outputId": "a52157ee-5c81-4861-f3e6-b3045836c86f"
      },
      "execution_count": null,
      "outputs": [
        {
          "output_type": "error",
          "ename": "AttributeError",
          "evalue": "'B' object has no attribute '__my_A'",
          "traceback": [
            "\u001b[0;31m---------------------------------------------------------------------------\u001b[0m",
            "\u001b[0;31mAttributeError\u001b[0m                            Traceback (most recent call last)",
            "\u001b[0;32m<ipython-input-83-1ecd44976d19>\u001b[0m in \u001b[0;36m<cell line: 1>\u001b[0;34m()\u001b[0m\n\u001b[0;32m----> 1\u001b[0;31m \u001b[0mobj\u001b[0m\u001b[0;34m.\u001b[0m\u001b[0m__my_A\u001b[0m\u001b[0;34m(\u001b[0m\u001b[0;34m)\u001b[0m\u001b[0;34m\u001b[0m\u001b[0;34m\u001b[0m\u001b[0m\n\u001b[0m",
            "\u001b[0;31mAttributeError\u001b[0m: 'B' object has no attribute '__my_A'"
          ]
        }
      ]
    },
    {
      "cell_type": "code",
      "source": [
        "#multi_level\n",
        "class A:\n",
        "    def my_A(self):\n",
        "        print(\"Hi i m from A:\")\n",
        "class B(A):\n",
        "    def my_B(self):\n",
        "        print(\"Hi i m from B:\")\n",
        "class C(B):\n",
        "    def my_C(self):\n",
        "        print(\"Hi i m from C:\")"
      ],
      "metadata": {
        "id": "ZnmP-pKnnCdZ"
      },
      "execution_count": null,
      "outputs": []
    },
    {
      "cell_type": "code",
      "source": [
        "obj=C()"
      ],
      "metadata": {
        "id": "eDjt-nEfnM3g"
      },
      "execution_count": null,
      "outputs": []
    },
    {
      "cell_type": "code",
      "source": [
        "#hierarchical\n",
        "class A:\n",
        "    def my_A(self):\n",
        "        print(\"Hi i m from A:\")\n",
        "class B(A):\n",
        "    def my_B(self):\n",
        "        print(\"Hi i m from B:\")\n",
        "class C(A):\n",
        "    def my_C(self):\n",
        "        print(\"Hi i m from C:\")"
      ],
      "metadata": {
        "id": "gGTpgX9SnO7T"
      },
      "execution_count": null,
      "outputs": []
    },
    {
      "cell_type": "code",
      "source": [
        "#mutiple without issues\n",
        "class A:\n",
        "    def my_A(self):\n",
        "        print(\"Hi i m from A:\")\n",
        "class B:\n",
        "    def my_B(self):\n",
        "        print(\"Hi i m from B:\")\n",
        "class C:\n",
        "    def my_C(self):\n",
        "        print(\"Hi i m from C:\")"
      ],
      "metadata": {
        "id": "huB69Ur_4Pg6"
      },
      "execution_count": null,
      "outputs": []
    },
    {
      "cell_type": "code",
      "source": [
        "#mutiple with issues:ambiguity\n",
        "'''Python we could handle this by FCFT\n",
        "(First Come First Taken Method)\n",
        "take from 1st reject from all next\n",
        "'''\n",
        "class A:\n",
        "    def my(self):\n",
        "        print(\"Hi i m from A:\")\n",
        "class B:\n",
        "    def my(self):\n",
        "        print(\"Hi i m from B:\")\n",
        "class C:\n",
        "    def my(self):\n",
        "        print(\"Hi i m from C:\")"
      ],
      "metadata": {
        "id": "foPFtsru4svc"
      },
      "execution_count": null,
      "outputs": []
    },
    {
      "cell_type": "code",
      "source": [
        "class X(C,A,B):\n",
        "    def my_X(self):\n",
        "        print(\"Hi i m from X:\")"
      ],
      "metadata": {
        "id": "zKsriFZS4Nzq"
      },
      "execution_count": null,
      "outputs": []
    },
    {
      "cell_type": "code",
      "source": [
        "obj=X()"
      ],
      "metadata": {
        "id": "gAlD2XRB4hE4"
      },
      "execution_count": null,
      "outputs": []
    },
    {
      "cell_type": "code",
      "source": [
        "obj.my_X()"
      ],
      "metadata": {
        "colab": {
          "base_uri": "https://localhost:8080/"
        },
        "id": "fj5Wgu-n45fE",
        "outputId": "7d57b7f7-6a1e-4466-9147-1c0c26ef18b9"
      },
      "execution_count": null,
      "outputs": [
        {
          "output_type": "stream",
          "name": "stdout",
          "text": [
            "Hi i m from X:\n"
          ]
        }
      ]
    },
    {
      "cell_type": "code",
      "source": [
        "obj.my()"
      ],
      "metadata": {
        "colab": {
          "base_uri": "https://localhost:8080/"
        },
        "id": "iyRgQ14Z48r7",
        "outputId": "784dc315-218b-4224-acdd-2ed21194b63b"
      },
      "execution_count": null,
      "outputs": [
        {
          "output_type": "stream",
          "name": "stdout",
          "text": [
            "Hi i m from C:\n"
          ]
        }
      ]
    },
    {
      "cell_type": "code",
      "source": [
        "class Parents:\n",
        "    def welcome(self,name):\n",
        "        print(\"Parent:Welcome,\",name)\n",
        "\n",
        "    def eat(self):\n",
        "        print(\"Parent:Roti sabji\")\n"
      ],
      "metadata": {
        "id": "-pj4N9fM8Lns"
      },
      "execution_count": null,
      "outputs": []
    },
    {
      "cell_type": "code",
      "source": [
        "class Child(Parents):\n",
        "    pass#pass :is no operation statement used as fillers\n"
      ],
      "metadata": {
        "id": "Lf3s2-768akX"
      },
      "execution_count": null,
      "outputs": []
    },
    {
      "cell_type": "code",
      "source": [
        "obj=Child()"
      ],
      "metadata": {
        "id": "Q1rjbTj58tGT"
      },
      "execution_count": null,
      "outputs": []
    },
    {
      "cell_type": "code",
      "source": [
        "obj.welcome(\"amar\")\n",
        "obj.eat()"
      ],
      "metadata": {
        "colab": {
          "base_uri": "https://localhost:8080/"
        },
        "id": "stJoEKj48vPm",
        "outputId": "f8eaba2c-fdfb-4e21-f299-fb47fd52bdb7"
      },
      "execution_count": null,
      "outputs": [
        {
          "output_type": "stream",
          "name": "stdout",
          "text": [
            "Parent:Welcome, amar\n",
            "Parent:Roti sabji\n"
          ]
        }
      ]
    },
    {
      "cell_type": "code",
      "source": [
        "'''\n",
        "Over-ride:\n",
        "when child child class rewrites parent method it rejects inheritance/rejects inherited method and create own.\n",
        "\n",
        "reason:\n",
        "adapt to changes wrt time and development\n",
        "\n",
        "'''\n",
        "class Parents:\n",
        "    def welcome(self,name):\n",
        "        print(\"Parent:Welcome,\",name)\n",
        "\n",
        "    def eat(self):\n",
        "        print(\"Parent:Roti sabji\")\n",
        "\n",
        "class Child(Parents):\n",
        "    def eat(self):#override\n",
        "        print(\"Child:   Pizza,Burger....\")\n",
        "\n"
      ],
      "metadata": {
        "id": "zm1PIQNP8-Hu"
      },
      "execution_count": null,
      "outputs": []
    },
    {
      "cell_type": "code",
      "source": [
        "obj=Child()\n",
        "obj.welcome(\"amar\")\n",
        "obj.eat()"
      ],
      "metadata": {
        "colab": {
          "base_uri": "https://localhost:8080/"
        },
        "id": "LRb1_SIQ9RhY",
        "outputId": "02854cbc-42b7-43d4-dbf1-d2a5d0927360"
      },
      "execution_count": null,
      "outputs": [
        {
          "output_type": "stream",
          "name": "stdout",
          "text": [
            "Parent:Welcome, amar\n",
            "Child:   Pizza,Burger....\n"
          ]
        }
      ]
    },
    {
      "cell_type": "code",
      "source": [
        "class Human:\n",
        "    #over load only on data type not on signature\n",
        "    def birth(self,name):\n",
        "        print(name,\" birth 2\")\n",
        "    def birth(self):\n",
        "        print(\"birth 1\")\n"
      ],
      "metadata": {
        "id": "SQzaFix8_snd"
      },
      "execution_count": null,
      "outputs": []
    },
    {
      "cell_type": "code",
      "source": [
        "obj=Human()"
      ],
      "metadata": {
        "id": "XLWLIfyx_7fM"
      },
      "execution_count": null,
      "outputs": []
    },
    {
      "cell_type": "code",
      "source": [
        "obj.birth()"
      ],
      "metadata": {
        "colab": {
          "base_uri": "https://localhost:8080/",
          "height": 146
        },
        "id": "1exbj2U1AAA1",
        "outputId": "2accd825-0ffa-4576-b133-bb158e4e3d8d"
      },
      "execution_count": null,
      "outputs": [
        {
          "output_type": "error",
          "ename": "TypeError",
          "evalue": "Human.birth() missing 1 required positional argument: 'name'",
          "traceback": [
            "\u001b[0;31m---------------------------------------------------------------------------\u001b[0m",
            "\u001b[0;31mTypeError\u001b[0m                                 Traceback (most recent call last)",
            "\u001b[0;32m<ipython-input-121-8cfefda4cb31>\u001b[0m in \u001b[0;36m<cell line: 1>\u001b[0;34m()\u001b[0m\n\u001b[0;32m----> 1\u001b[0;31m \u001b[0mobj\u001b[0m\u001b[0;34m.\u001b[0m\u001b[0mbirth\u001b[0m\u001b[0;34m(\u001b[0m\u001b[0;34m)\u001b[0m\u001b[0;34m\u001b[0m\u001b[0;34m\u001b[0m\u001b[0m\n\u001b[0m",
            "\u001b[0;31mTypeError\u001b[0m: Human.birth() missing 1 required positional argument: 'name'"
          ]
        }
      ]
    },
    {
      "cell_type": "code",
      "source": [
        "implement Banking system:\n",
        "operations:\n",
        "1:open account: user would give name,gender,amount(min 5000) and creates account--->gets account number auto generated\n",
        "2:deposit(amount):--->deposite to account number given(amount>0)\n",
        "3:withdraw(amount):--->withdraw to account number given(minmum balance>5000)\n",
        "4:check_balance():----->given account number return balance\n",
        "menu driven code for this\n",
        "every option step is 1.read account number 2.check if there 3.if there operate else update wrong account number"
      ],
      "metadata": {
        "id": "nAoppprIBvq_"
      },
      "execution_count": null,
      "outputs": []
    },
    {
      "cell_type": "code",
      "source": [
        "#dict to store {account_no:account_data}"
      ],
      "metadata": {
        "id": "VXTevRmPCy1T"
      },
      "execution_count": null,
      "outputs": []
    },
    {
      "cell_type": "code",
      "source": [
        "class Account:\n",
        "    account_generator=202400\n",
        "    def check_balance(self):\n",
        "        print(f\"{self.__account_no} has balance of {self.__amount}INR.\")\n",
        "    def create_account(self,name,gender,amount):\n",
        "        self.__name=name\n",
        "        self.__gender=gender\n",
        "        self.__amount=amount\n",
        "        Account.account_generator+=1\n",
        "        self.__account_no=Account.account_generator\n",
        "        print(f\"Account created for {self.__name} with balance {self.__amount}\")\n",
        "        print(f\"Your account number is:\",{self.__account_no})\n",
        "    def deposit(self,amount):\n",
        "        if amount<0:\n",
        "            print(f\"{amount} is negative can not be processed\")\n",
        "        else:\n",
        "            self.__amount+=amount\n",
        "            self.check_balance()\n",
        "    def withdraw(self,amount):\n",
        "        if self.__amount-amount<5000:\n",
        "            print(f\"{__account_no} reached to minimum balance transection cancled\")\n",
        "        else:\n",
        "            self.__amount-=amount\n",
        "            self.check_balance()\n",
        "    def get_account_no(self):\n",
        "        return self.__account_no\n"
      ],
      "metadata": {
        "id": "OH6FpL-qDi3W"
      },
      "execution_count": null,
      "outputs": []
    },
    {
      "cell_type": "code",
      "source": [
        "def Menu():\n",
        "    print(\"\".center(30,'-'))\n",
        "    print(\"Lena Bank\".center(30,'-'))\n",
        "    print(\"\".center(30,'-'))\n",
        "    print(\"1.Create Account:\")\n",
        "    print(\"2.Deposit to Account:\")\n",
        "    print(\"3.Withdraw from Account:\")\n",
        "    print(\"4.Check Balance:\")\n",
        "    print(\":\")\n",
        "\n"
      ],
      "metadata": {
        "id": "wj3lfbYgIV7e"
      },
      "execution_count": null,
      "outputs": []
    },
    {
      "cell_type": "code",
      "source": [
        "Menu()"
      ],
      "metadata": {
        "colab": {
          "base_uri": "https://localhost:8080/"
        },
        "id": "wuST5PK3Ipy0",
        "outputId": "db562a67-236e-4e04-ff7e-5a986797d1af"
      },
      "execution_count": null,
      "outputs": [
        {
          "output_type": "stream",
          "name": "stdout",
          "text": [
            "------------------------------\n",
            "----------Lena Bank-----------\n",
            "------------------------------\n",
            "1.Create Account:\n",
            "2.Deposit to Account:\n",
            "3.Withdraw from Account:\n",
            "4.Check Balance:\n",
            ":\n"
          ]
        }
      ]
    },
    {
      "cell_type": "code",
      "source": [
        "#Bank Menu Driven\n",
        "bank={}\n",
        "while True:\n",
        "    Menu()\n",
        "    ch=int(input())\n",
        "    if ch==1:\n",
        "        print(\"Enter name:\")\n",
        "        name=input(\"Enter name:\")\n",
        "        gender=input(\"Enter gender:\")\n",
        "        while True:\n",
        "            amount=float(input(\"Amount 3000+:\"))\n",
        "            if amount>=3000:\n",
        "                obj_account=Account()\n",
        "                obj_account.create_account(name,gender,amount)\n",
        "                bank[obj_account.get_account_no()]=obj_account\n",
        "                break\n",
        "            else:\n",
        "                print(\"Not Enough fund given............\")\n",
        "    elif ch==2:\n",
        "        ac=int(input(\"Enter account number:\"))\n",
        "        #if account exists\n",
        "        if ac in  bank:\n",
        "            print(\"Account Found\")\n",
        "            account=bank.get(ac)\n",
        "            amt=float(input(\"Enter amount to deposit:\"))\n",
        "            account.deposit(amt)\n",
        "        else:\n",
        "            print(f\"{ac} not found\")\n",
        "    elif ch==4:\n",
        "        ac=int(input(\"Enter account number:\"))\n",
        "        #if account exists\n",
        "        if ac in  bank:\n",
        "            print(\"Account Found\")\n",
        "            account=bank[ac]\n",
        "            account.check_balance()\n",
        "        else:\n",
        "            print(f\"{ac} not found\")\n",
        "    elif ch==0:\n",
        "        print(\"Exiting..........\")\n",
        "        break\n",
        "\n",
        "\n"
      ],
      "metadata": {
        "colab": {
          "base_uri": "https://localhost:8080/"
        },
        "id": "mTlERQxEEaQ5",
        "outputId": "689b7dda-9f4c-4b2a-a6df-9d657f64c9db"
      },
      "execution_count": null,
      "outputs": [
        {
          "output_type": "stream",
          "name": "stdout",
          "text": [
            "------------------------------\n",
            "----------Lena Bank-----------\n",
            "------------------------------\n",
            "1.Create Account:\n",
            "2.Deposit to Account:\n",
            "3.Withdraw from Account:\n",
            "4.Check Balance:\n",
            ":\n",
            "1\n",
            "Enter name:\n",
            "Enter name:amar\n",
            "Enter gender:male\n",
            "Amount 3000+:50000\n",
            "Account created for amar with balance 50000.0\n",
            "Your account number is: {202401}\n",
            "------------------------------\n",
            "----------Lena Bank-----------\n",
            "------------------------------\n",
            "1.Create Account:\n",
            "2.Deposit to Account:\n",
            "3.Withdraw from Account:\n",
            "4.Check Balance:\n",
            ":\n",
            "2\n",
            "Enter account number:202401\n",
            "Account Found\n",
            "Enter amount to deposit:30000\n",
            "202401 has balance of 80000.0INR.\n",
            "------------------------------\n",
            "----------Lena Bank-----------\n",
            "------------------------------\n",
            "1.Create Account:\n",
            "2.Deposit to Account:\n",
            "3.Withdraw from Account:\n",
            "4.Check Balance:\n",
            ":\n",
            "2\n",
            "Enter account number:202401\n",
            "Account Found\n",
            "Enter amount to deposit:-9000\n",
            "-9000.0 is negative can not be processed\n",
            "------------------------------\n",
            "----------Lena Bank-----------\n",
            "------------------------------\n",
            "1.Create Account:\n",
            "2.Deposit to Account:\n",
            "3.Withdraw from Account:\n",
            "4.Check Balance:\n",
            ":\n",
            "9\n",
            "------------------------------\n",
            "----------Lena Bank-----------\n",
            "------------------------------\n",
            "1.Create Account:\n",
            "2.Deposit to Account:\n",
            "3.Withdraw from Account:\n",
            "4.Check Balance:\n",
            ":\n",
            "0\n",
            "Exiting..........\n"
          ]
        }
      ]
    },
    {
      "cell_type": "code",
      "source": [
        "a.deposit(1000)"
      ],
      "metadata": {
        "colab": {
          "base_uri": "https://localhost:8080/"
        },
        "id": "KJ-31v4AGoTP",
        "outputId": "9ab641ce-6426-41e6-bd1b-f175bff51772"
      },
      "execution_count": null,
      "outputs": [
        {
          "output_type": "stream",
          "name": "stdout",
          "text": [
            "202401 has balance of 11000INR.\n"
          ]
        }
      ]
    },
    {
      "cell_type": "code",
      "source": [
        "a.withdraw(3000)"
      ],
      "metadata": {
        "colab": {
          "base_uri": "https://localhost:8080/"
        },
        "id": "OajnCDXWH6f5",
        "outputId": "16d63d69-3f12-4252-e5de-174a51e50d52"
      },
      "execution_count": null,
      "outputs": [
        {
          "output_type": "stream",
          "name": "stdout",
          "text": [
            "202401 has balance of 8000INR.\n"
          ]
        }
      ]
    }
  ]
}