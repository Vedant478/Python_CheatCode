{
  "nbformat": 4,
  "nbformat_minor": 0,
  "metadata": {
    "colab": {
      "provenance": []
    },
    "kernelspec": {
      "name": "python3",
      "display_name": "Python 3"
    },
    "language_info": {
      "name": "python"
    }
  },
  "cells": [
    {
      "cell_type": "code",
      "execution_count": null,
      "metadata": {
        "id": "iM-cHpZtYXYl"
      },
      "outputs": [],
      "source": [
        "html_doc = \"\"\"\n",
        "<html>\n",
        "<head>\n",
        "<title>My Website</title>\n",
        "</head>\n",
        "<body>\n",
        "<div id=\"content\">\n",
        "<h1>Welcome to my website!</h1>\n",
        "<p>This is a paragraph of text.</p>\n",
        "<a href=\"http://www.google.com\">Google</a>\n",
        "</div>\n",
        "</body>\n",
        "</html>\n",
        "\"\"\""
      ]
    },
    {
      "cell_type": "code",
      "source": [
        "from bs4 import BeautifulSoup\n",
        "soup=BeautifulSoup(html_doc,'html.parser')\n",
        "\n",
        "#connected page data to html parser and getting soup object\n",
        "\n",
        "div_tags=soup.find_all('a')\n",
        "for item in div_tags:\n",
        "  print(item.text)"
      ],
      "metadata": {
        "colab": {
          "base_uri": "https://localhost:8080/"
        },
        "id": "cjhmi1tXZDtg",
        "outputId": "a0452727-771a-4f0f-f2c8-3a8b4dc34e3e"
      },
      "execution_count": null,
      "outputs": [
        {
          "output_type": "stream",
          "name": "stdout",
          "text": [
            "Google\n"
          ]
        }
      ]
    },
    {
      "cell_type": "code",
      "source": [
        "from bs4 import BeautifulSoup\n",
        "soup=BeautifulSoup(html_doc,'html.parser')\n",
        "\n",
        "#connected page data to html parser and getting soup object\n",
        "\n",
        "a_tags=soup.find('a')\n",
        "print(a_tags)\n",
        "print(a_tags['href'])"
      ],
      "metadata": {
        "colab": {
          "base_uri": "https://localhost:8080/"
        },
        "id": "yul2bNBma2eF",
        "outputId": "e5a0e0b5-4a4e-4f36-d396-618eef612c9f"
      },
      "execution_count": null,
      "outputs": [
        {
          "output_type": "stream",
          "name": "stdout",
          "text": [
            "<a href=\"http://www.google.com\">Google</a>\n",
            "http://www.google.com\n"
          ]
        }
      ]
    },
    {
      "cell_type": "code",
      "source": [
        "html_doc = \"\"\"\n",
        "<html>\n",
        "<head>\n",
        "<title>My Website</title>\n",
        "</head>\n",
        "<body>\n",
        "<div id=\"content\">\n",
        "<h1>Welcome to my website!</h1>\n",
        "<p>This is a paragraph of text.</p>\n",
        "<a href=\"http://www.google.com\">Google</a>\n",
        "<a href=\"product.asp?id=123\">Running Shoes (Men's)</a>\n",
        "<a href=\"breaking-news-inflation-rises-again\">Inflation Rises Again</a>\n",
        "<a href=\"#user-profile\">John Doe</a>\n",
        "<a href=\"watch?v=dQw4w9WgXcQ\">Funny Cat Compilation (2024)</a>\n",
        "</div>\n",
        "</body>\n",
        "</html>\n",
        "\"\"\""
      ],
      "metadata": {
        "id": "wlbcPDc3dPCZ"
      },
      "execution_count": null,
      "outputs": []
    },
    {
      "cell_type": "code",
      "source": [
        "from bs4 import BeautifulSoup\n",
        "soup=BeautifulSoup(html_doc,'html.parser')\n",
        "\n",
        "#connected page data to html parser and getting soup object\n",
        "\n",
        "a_tags=soup.find_all('a')\n",
        "for i in a_tags:\n",
        "  print(i.text)\n"
      ],
      "metadata": {
        "colab": {
          "base_uri": "https://localhost:8080/"
        },
        "id": "vva1OkvLdvYp",
        "outputId": "ff421c31-e169-43ff-f68c-de8c486ef998"
      },
      "execution_count": null,
      "outputs": [
        {
          "output_type": "stream",
          "name": "stdout",
          "text": [
            "Google\n",
            "Running Shoes (Men's)\n",
            "Inflation Rises Again\n",
            "John Doe\n",
            "Funny Cat Compilation (2024)\n"
          ]
        }
      ]
    },
    {
      "cell_type": "code",
      "source": [
        "html_doc = \"\"\"\n",
        "<html>\n",
        "<head>\n",
        "<title>My Website</title>\n",
        "</head>\n",
        "<body>\n",
        "<div id=\"header\">\n",
        "    <h1>Welcome to my website!</h1>\n",
        "  </div>\n",
        "\n",
        "  <div id=\"content\">\n",
        "    <p>This is a paragraph of text.</p>\n",
        "\n",
        "    <div class=\"links\">\n",
        "      <a href=\"http://www.google.com\">Google</a>\n",
        "      <a href=\"product.asp?id=123\">Running Shoes (Men's)</a>\n",
        "      <a href=\"breaking-news-inflation-rises-again\">Inflation Rises Again</a>\n",
        "      <a href=\"#user-profile\">John Doe</a>\n",
        "      <a href=\"watch?v=dQw4w9WgXcQ\">Funny Cat Compilation (2024)</a>\n",
        "    </div>\n",
        "  </div>\n",
        "\n",
        "  <div id=\"footer\">\n",
        "  ok bye\n",
        "    </div>\n",
        "</body>\n",
        "</html>\n",
        "\"\"\""
      ],
      "metadata": {
        "id": "YmNd2fTudwUQ"
      },
      "execution_count": null,
      "outputs": []
    },
    {
      "cell_type": "code",
      "source": [
        "from bs4 import BeautifulSoup\n",
        "soup=BeautifulSoup(html_doc,'html.parser')\n",
        "\n",
        "#connected page data to html parser and getting soup object\n",
        "\n",
        "div_tags=soup.find_all('div',{'id':'footer'})\n",
        "for item in div_tags:\n",
        "  print(item.text)"
      ],
      "metadata": {
        "colab": {
          "base_uri": "https://localhost:8080/"
        },
        "id": "RB-OsLWwfWI7",
        "outputId": "0e00f14d-3652-4da1-d618-e2bfc8bd0767"
      },
      "execution_count": null,
      "outputs": [
        {
          "output_type": "stream",
          "name": "stdout",
          "text": [
            "\n",
            "  ok bye\n",
            "    \n"
          ]
        }
      ]
    },
    {
      "cell_type": "code",
      "source": [
        "html_doc='''<!DOCTYPE html>\n",
        "<html>\n",
        "<head>\n",
        "  <title>Contact Information</title>\n",
        "  <style>\n",
        "    table {\n",
        "      border-collapse: collapse;\n",
        "      width: 100%;\n",
        "    }\n",
        "\n",
        "    th, td {\n",
        "      text-align: left;\n",
        "      padding: 8px;\n",
        "      border: 1px solid #ddd;\n",
        "    }\n",
        "\n",
        "    tr:nth-child(even) {\n",
        "      background-color: #f2f2f2;\n",
        "    }\n",
        "\n",
        "    th {\n",
        "      background-color: #4CAF50;\n",
        "      color: white;\n",
        "    }\n",
        "  </style>\n",
        "</head>\n",
        "<body>\n",
        "  <table>\n",
        "    <tr>\n",
        "      <th>Name</th>\n",
        "      <th>Email ID</th>\n",
        "      <th>Contact Number</th>\n",
        "    </tr>\n",
        "    <tr>\n",
        "      <td>HR Manager</td>\n",
        "      <td>a@b.com</td>\n",
        "      <td>123-456-7890</td>\n",
        "    </tr>\n",
        "    <tr>\n",
        "      <td>Recruitment Specialist</td>\n",
        "      <td>c@d.com</td>\n",
        "      <td>987-654-3210</td>\n",
        "    </tr>\n",
        "    </table>\n",
        "</body>\n",
        "</html>\n",
        "'''\n",
        "from bs4 import BeautifulSoup\n",
        "soup=BeautifulSoup(html_doc,'html.parser')\n",
        "\n",
        "#connected page data to html parser and getting soup object\n",
        "\n",
        "div_tags=soup.find('td')\n",
        "print(div_tags)\n",
        "contact_det= {\"Name\":['td'],\"Email\":['td'],\"Contact\":['td']}\n",
        "# for item in div_tags:\n",
        "#   print(item.text)"
      ],
      "metadata": {
        "colab": {
          "base_uri": "https://localhost:8080/"
        },
        "id": "ltiAhXQFhMkJ",
        "outputId": "eec2e9bf-6867-4466-f41d-e13bac36952a"
      },
      "execution_count": null,
      "outputs": [
        {
          "output_type": "stream",
          "name": "stdout",
          "text": [
            "<td>HR Manager</td>\n"
          ]
        }
      ]
    },
    {
      "cell_type": "code",
      "source": [
        "n=div_tags.find_next()"
      ],
      "metadata": {
        "id": "SH66dPhGhUYz"
      },
      "execution_count": null,
      "outputs": []
    },
    {
      "cell_type": "code",
      "source": [
        "n"
      ],
      "metadata": {
        "colab": {
          "base_uri": "https://localhost:8080/"
        },
        "id": "SNKYs7OGkm8y",
        "outputId": "402421ed-1c62-4c2b-f3b3-e1dc537f534c"
      },
      "execution_count": null,
      "outputs": [
        {
          "output_type": "execute_result",
          "data": {
            "text/plain": [
              "<td>a@b.com</td>"
            ]
          },
          "metadata": {},
          "execution_count": 66
        }
      ]
    },
    {
      "cell_type": "code",
      "source": [
        "import requests\n",
        "link = requests.get('https://mithibaitechspark.in/')\n",
        "soup=BeautifulSoup(link.content,'html.parser')\n",
        "for tag in soup.find_all(True):\n",
        "  print(tag)"
      ],
      "metadata": {
        "colab": {
          "base_uri": "https://localhost:8080/"
        },
        "id": "qUMogLkwk5ON",
        "outputId": "b43b0675-dd19-410a-f7fd-a8882dee0726"
      },
      "execution_count": null,
      "outputs": [
        {
          "output_type": "stream",
          "name": "stdout",
          "text": [
            "<html><head><meta charset=\"utf-8\"/><meta content=\"width=device-width\" name=\"viewport\"/><title class=\"jsx-3292f5170f95d68d\">TechSpark 2024</title><link class=\"jsx-3292f5170f95d68d\" href=\"\\logo.ico\" rel=\"icon\"/><meta content=\"4\" name=\"next-head-count\"/><link crossorigin=\"anonymous\" data-next-font=\"\" href=\"/\" rel=\"preconnect\"/><link as=\"style\" href=\"/_next/static/css/2b1e76a4c07964e0.css\" rel=\"preload\"/><link data-n-p=\"\" href=\"/_next/static/css/2b1e76a4c07964e0.css\" rel=\"stylesheet\"/><link as=\"style\" href=\"/_next/static/css/0947042259bb4c93.css\" rel=\"preload\"/><link data-n-p=\"\" href=\"/_next/static/css/0947042259bb4c93.css\" rel=\"stylesheet\"/><noscript data-n-css=\"\"></noscript><script defer=\"\" nomodule=\"\" src=\"/_next/static/chunks/polyfills-42372ed130431b0a.js\"></script><script defer=\"\" src=\"/_next/static/chunks/webpack-c28351dfb6a5f52e.js\"></script><script defer=\"\" src=\"/_next/static/chunks/framework-64ad27b21261a9ce.js\"></script><script defer=\"\" src=\"/_next/static/chunks/main-560d12955afd0710.js\"></script><script defer=\"\" src=\"/_next/static/chunks/pages/_app-753213cf38d40131.js\"></script><script defer=\"\" src=\"/_next/static/chunks/94726e6d-18c5d78ac44a7d91.js\"></script><script defer=\"\" src=\"/_next/static/chunks/58a3678d-c8bc9cbc73db2e69.js\"></script><script defer=\"\" src=\"/_next/static/chunks/62347655-28bd14a4af1c71ea.js\"></script><script defer=\"\" src=\"/_next/static/chunks/61-76137de4f80f7ccf.js\"></script><script defer=\"\" src=\"/_next/static/chunks/990-bef0e4540b1a6eb2.js\"></script><script defer=\"\" src=\"/_next/static/chunks/225-fe6179c298fcdd15.js\"></script><script defer=\"\" src=\"/_next/static/chunks/696-1922c2c82a09c1ff.js\"></script><script defer=\"\" src=\"/_next/static/chunks/pages/index-3e44dad312569b2e.js\"></script><script defer=\"\" src=\"/_next/static/lgClpylmxCr9qnctA4x0X/_buildManifest.js\"></script><script defer=\"\" src=\"/_next/static/lgClpylmxCr9qnctA4x0X/_ssgManifest.js\"></script><style id=\"__jsx-913a0a28676bea7a\">main.jsx-3292f5170f95d68d{padding:5rem 0;-webkit-box-flex:1;-webkit-flex:1;-moz-box-flex:1;-ms-flex:1;flex:1;display:-webkit-box;display:-webkit-flex;display:-moz-box;display:-ms-flexbox;display:flex;-webkit-box-orient:vertical;-webkit-box-direction:normal;-webkit-flex-direction:column;-moz-box-orient:vertical;-moz-box-direction:normal;-ms-flex-direction:column;flex-direction:column;-webkit-box-pack:center;-webkit-justify-content:center;-moz-box-pack:center;-ms-flex-pack:center;justify-content:center;-webkit-box-align:center;-webkit-align-items:center;-moz-box-align:center;-ms-flex-align:center;align-items:center;background-image:-webkit-linear-gradient(#4C19BA#A419BA);background-image:-moz-linear-gradient(#4C19BA#A419BA);background-image:-o-linear-gradient(#4C19BA#A419BA);background-image:linear-gradient(#4C19BA#A419BA)}footer.jsx-3292f5170f95d68d{width:100%;height:100px;border-top:1px solid#eaeaea;display:-webkit-box;display:-webkit-flex;display:-moz-box;display:-ms-flexbox;display:flex;-webkit-box-pack:center;-webkit-justify-content:center;-moz-box-pack:center;-ms-flex-pack:center;justify-content:center;-webkit-box-align:center;-webkit-align-items:center;-moz-box-align:center;-ms-flex-align:center;align-items:center}footer.jsx-3292f5170f95d68d img.jsx-3292f5170f95d68d{margin-left:.5rem}footer.jsx-3292f5170f95d68d a.jsx-3292f5170f95d68d{display:-webkit-box;display:-webkit-flex;display:-moz-box;display:-ms-flexbox;display:flex;-webkit-box-pack:center;-webkit-justify-content:center;-moz-box-pack:center;-ms-flex-pack:center;justify-content:center;-webkit-box-align:center;-webkit-align-items:center;-moz-box-align:center;-ms-flex-align:center;align-items:center;text-decoration:none;color:inherit}code.jsx-3292f5170f95d68d{background:#fafafa;-webkit-border-radius:5px;-moz-border-radius:5px;border-radius:5px;padding:.75rem;font-size:1.1rem;font-family:Menlo,Monaco,Lucida Console,Liberation Mono,DejaVu Sans Mono,Bitstream Vera Sans Mono,Courier New,monospace}</style><style id=\"__jsx-4551b3fae6b1eae8\">html,body{padding:0;margin:0;font-family:-apple-system,BlinkMacSystemFont,Segoe UI,Roboto,Oxygen,Ubuntu,Cantarell,Fira Sans,Droid Sans,Helvetica Neue,sans-serif}*{-webkit-box-sizing:border-box;-moz-box-sizing:border-box;box-sizing:border-box}</style></head><body><div id=\"__next\"><div class=\"jsx-3292f5170f95d68d Home_container__d256j\" id=\"container\"><div class=\"Navbar_header__NDFlY\"><div class=\"Navbar_logo__YNqJh\"><img data-nimg=\"1\" decoding=\"async\" height=\"50\" loading=\"lazy\" src=\"/TechSpark.png\" srcset=\"/TechSpark.png 1x, /TechSpark.png 2x\" style=\"color:transparent\" width=\"50\"/></div><button class=\"Navbar_menuButton__EL8Lz\">☰<!-- --> </button><ul class=\"Navbar_links__8A5d2\"><li class=\"links\"><a href=\"/\">Home</a></li><li class=\"links\"><a href=\"/aboutus\">About Us</a></li><li class=\"links\"><a href=\"/team\">Team</a></li><li class=\"links\"><a href=\"/contactUs\">Contact Us</a></li><li class=\"links\"><a href=\"/events\">Events</a></li></ul></div><main class=\"jsx-3292f5170f95d68d\"><h1 class=\"jsx-3292f5170f95d68d Home_title__hYX6j\" id=\"title\">Techspark '24</h1><div class=\"jsx-3292f5170f95d68d Home_rocket__FXVle\" id=\"rocket\"><div style=\"width:100%;height:100%\"><canvas style=\"display:none\"></canvas></div></div></main></div></div><script id=\"__NEXT_DATA__\" type=\"application/json\">{\"props\":{\"pageProps\":{}},\"page\":\"/\",\"query\":{},\"buildId\":\"lgClpylmxCr9qnctA4x0X\",\"nextExport\":true,\"autoExport\":true,\"isFallback\":false,\"scriptLoader\":[]}</script></body></html>\n",
            "<head><meta charset=\"utf-8\"/><meta content=\"width=device-width\" name=\"viewport\"/><title class=\"jsx-3292f5170f95d68d\">TechSpark 2024</title><link class=\"jsx-3292f5170f95d68d\" href=\"\\logo.ico\" rel=\"icon\"/><meta content=\"4\" name=\"next-head-count\"/><link crossorigin=\"anonymous\" data-next-font=\"\" href=\"/\" rel=\"preconnect\"/><link as=\"style\" href=\"/_next/static/css/2b1e76a4c07964e0.css\" rel=\"preload\"/><link data-n-p=\"\" href=\"/_next/static/css/2b1e76a4c07964e0.css\" rel=\"stylesheet\"/><link as=\"style\" href=\"/_next/static/css/0947042259bb4c93.css\" rel=\"preload\"/><link data-n-p=\"\" href=\"/_next/static/css/0947042259bb4c93.css\" rel=\"stylesheet\"/><noscript data-n-css=\"\"></noscript><script defer=\"\" nomodule=\"\" src=\"/_next/static/chunks/polyfills-42372ed130431b0a.js\"></script><script defer=\"\" src=\"/_next/static/chunks/webpack-c28351dfb6a5f52e.js\"></script><script defer=\"\" src=\"/_next/static/chunks/framework-64ad27b21261a9ce.js\"></script><script defer=\"\" src=\"/_next/static/chunks/main-560d12955afd0710.js\"></script><script defer=\"\" src=\"/_next/static/chunks/pages/_app-753213cf38d40131.js\"></script><script defer=\"\" src=\"/_next/static/chunks/94726e6d-18c5d78ac44a7d91.js\"></script><script defer=\"\" src=\"/_next/static/chunks/58a3678d-c8bc9cbc73db2e69.js\"></script><script defer=\"\" src=\"/_next/static/chunks/62347655-28bd14a4af1c71ea.js\"></script><script defer=\"\" src=\"/_next/static/chunks/61-76137de4f80f7ccf.js\"></script><script defer=\"\" src=\"/_next/static/chunks/990-bef0e4540b1a6eb2.js\"></script><script defer=\"\" src=\"/_next/static/chunks/225-fe6179c298fcdd15.js\"></script><script defer=\"\" src=\"/_next/static/chunks/696-1922c2c82a09c1ff.js\"></script><script defer=\"\" src=\"/_next/static/chunks/pages/index-3e44dad312569b2e.js\"></script><script defer=\"\" src=\"/_next/static/lgClpylmxCr9qnctA4x0X/_buildManifest.js\"></script><script defer=\"\" src=\"/_next/static/lgClpylmxCr9qnctA4x0X/_ssgManifest.js\"></script><style id=\"__jsx-913a0a28676bea7a\">main.jsx-3292f5170f95d68d{padding:5rem 0;-webkit-box-flex:1;-webkit-flex:1;-moz-box-flex:1;-ms-flex:1;flex:1;display:-webkit-box;display:-webkit-flex;display:-moz-box;display:-ms-flexbox;display:flex;-webkit-box-orient:vertical;-webkit-box-direction:normal;-webkit-flex-direction:column;-moz-box-orient:vertical;-moz-box-direction:normal;-ms-flex-direction:column;flex-direction:column;-webkit-box-pack:center;-webkit-justify-content:center;-moz-box-pack:center;-ms-flex-pack:center;justify-content:center;-webkit-box-align:center;-webkit-align-items:center;-moz-box-align:center;-ms-flex-align:center;align-items:center;background-image:-webkit-linear-gradient(#4C19BA#A419BA);background-image:-moz-linear-gradient(#4C19BA#A419BA);background-image:-o-linear-gradient(#4C19BA#A419BA);background-image:linear-gradient(#4C19BA#A419BA)}footer.jsx-3292f5170f95d68d{width:100%;height:100px;border-top:1px solid#eaeaea;display:-webkit-box;display:-webkit-flex;display:-moz-box;display:-ms-flexbox;display:flex;-webkit-box-pack:center;-webkit-justify-content:center;-moz-box-pack:center;-ms-flex-pack:center;justify-content:center;-webkit-box-align:center;-webkit-align-items:center;-moz-box-align:center;-ms-flex-align:center;align-items:center}footer.jsx-3292f5170f95d68d img.jsx-3292f5170f95d68d{margin-left:.5rem}footer.jsx-3292f5170f95d68d a.jsx-3292f5170f95d68d{display:-webkit-box;display:-webkit-flex;display:-moz-box;display:-ms-flexbox;display:flex;-webkit-box-pack:center;-webkit-justify-content:center;-moz-box-pack:center;-ms-flex-pack:center;justify-content:center;-webkit-box-align:center;-webkit-align-items:center;-moz-box-align:center;-ms-flex-align:center;align-items:center;text-decoration:none;color:inherit}code.jsx-3292f5170f95d68d{background:#fafafa;-webkit-border-radius:5px;-moz-border-radius:5px;border-radius:5px;padding:.75rem;font-size:1.1rem;font-family:Menlo,Monaco,Lucida Console,Liberation Mono,DejaVu Sans Mono,Bitstream Vera Sans Mono,Courier New,monospace}</style><style id=\"__jsx-4551b3fae6b1eae8\">html,body{padding:0;margin:0;font-family:-apple-system,BlinkMacSystemFont,Segoe UI,Roboto,Oxygen,Ubuntu,Cantarell,Fira Sans,Droid Sans,Helvetica Neue,sans-serif}*{-webkit-box-sizing:border-box;-moz-box-sizing:border-box;box-sizing:border-box}</style></head>\n",
            "<meta charset=\"utf-8\"/>\n",
            "<meta content=\"width=device-width\" name=\"viewport\"/>\n",
            "<title class=\"jsx-3292f5170f95d68d\">TechSpark 2024</title>\n",
            "<link class=\"jsx-3292f5170f95d68d\" href=\"\\logo.ico\" rel=\"icon\"/>\n",
            "<meta content=\"4\" name=\"next-head-count\"/>\n",
            "<link crossorigin=\"anonymous\" data-next-font=\"\" href=\"/\" rel=\"preconnect\"/>\n",
            "<link as=\"style\" href=\"/_next/static/css/2b1e76a4c07964e0.css\" rel=\"preload\"/>\n",
            "<link data-n-p=\"\" href=\"/_next/static/css/2b1e76a4c07964e0.css\" rel=\"stylesheet\"/>\n",
            "<link as=\"style\" href=\"/_next/static/css/0947042259bb4c93.css\" rel=\"preload\"/>\n",
            "<link data-n-p=\"\" href=\"/_next/static/css/0947042259bb4c93.css\" rel=\"stylesheet\"/>\n",
            "<noscript data-n-css=\"\"></noscript>\n",
            "<script defer=\"\" nomodule=\"\" src=\"/_next/static/chunks/polyfills-42372ed130431b0a.js\"></script>\n",
            "<script defer=\"\" src=\"/_next/static/chunks/webpack-c28351dfb6a5f52e.js\"></script>\n",
            "<script defer=\"\" src=\"/_next/static/chunks/framework-64ad27b21261a9ce.js\"></script>\n",
            "<script defer=\"\" src=\"/_next/static/chunks/main-560d12955afd0710.js\"></script>\n",
            "<script defer=\"\" src=\"/_next/static/chunks/pages/_app-753213cf38d40131.js\"></script>\n",
            "<script defer=\"\" src=\"/_next/static/chunks/94726e6d-18c5d78ac44a7d91.js\"></script>\n",
            "<script defer=\"\" src=\"/_next/static/chunks/58a3678d-c8bc9cbc73db2e69.js\"></script>\n",
            "<script defer=\"\" src=\"/_next/static/chunks/62347655-28bd14a4af1c71ea.js\"></script>\n",
            "<script defer=\"\" src=\"/_next/static/chunks/61-76137de4f80f7ccf.js\"></script>\n",
            "<script defer=\"\" src=\"/_next/static/chunks/990-bef0e4540b1a6eb2.js\"></script>\n",
            "<script defer=\"\" src=\"/_next/static/chunks/225-fe6179c298fcdd15.js\"></script>\n",
            "<script defer=\"\" src=\"/_next/static/chunks/696-1922c2c82a09c1ff.js\"></script>\n",
            "<script defer=\"\" src=\"/_next/static/chunks/pages/index-3e44dad312569b2e.js\"></script>\n",
            "<script defer=\"\" src=\"/_next/static/lgClpylmxCr9qnctA4x0X/_buildManifest.js\"></script>\n",
            "<script defer=\"\" src=\"/_next/static/lgClpylmxCr9qnctA4x0X/_ssgManifest.js\"></script>\n",
            "<style id=\"__jsx-913a0a28676bea7a\">main.jsx-3292f5170f95d68d{padding:5rem 0;-webkit-box-flex:1;-webkit-flex:1;-moz-box-flex:1;-ms-flex:1;flex:1;display:-webkit-box;display:-webkit-flex;display:-moz-box;display:-ms-flexbox;display:flex;-webkit-box-orient:vertical;-webkit-box-direction:normal;-webkit-flex-direction:column;-moz-box-orient:vertical;-moz-box-direction:normal;-ms-flex-direction:column;flex-direction:column;-webkit-box-pack:center;-webkit-justify-content:center;-moz-box-pack:center;-ms-flex-pack:center;justify-content:center;-webkit-box-align:center;-webkit-align-items:center;-moz-box-align:center;-ms-flex-align:center;align-items:center;background-image:-webkit-linear-gradient(#4C19BA#A419BA);background-image:-moz-linear-gradient(#4C19BA#A419BA);background-image:-o-linear-gradient(#4C19BA#A419BA);background-image:linear-gradient(#4C19BA#A419BA)}footer.jsx-3292f5170f95d68d{width:100%;height:100px;border-top:1px solid#eaeaea;display:-webkit-box;display:-webkit-flex;display:-moz-box;display:-ms-flexbox;display:flex;-webkit-box-pack:center;-webkit-justify-content:center;-moz-box-pack:center;-ms-flex-pack:center;justify-content:center;-webkit-box-align:center;-webkit-align-items:center;-moz-box-align:center;-ms-flex-align:center;align-items:center}footer.jsx-3292f5170f95d68d img.jsx-3292f5170f95d68d{margin-left:.5rem}footer.jsx-3292f5170f95d68d a.jsx-3292f5170f95d68d{display:-webkit-box;display:-webkit-flex;display:-moz-box;display:-ms-flexbox;display:flex;-webkit-box-pack:center;-webkit-justify-content:center;-moz-box-pack:center;-ms-flex-pack:center;justify-content:center;-webkit-box-align:center;-webkit-align-items:center;-moz-box-align:center;-ms-flex-align:center;align-items:center;text-decoration:none;color:inherit}code.jsx-3292f5170f95d68d{background:#fafafa;-webkit-border-radius:5px;-moz-border-radius:5px;border-radius:5px;padding:.75rem;font-size:1.1rem;font-family:Menlo,Monaco,Lucida Console,Liberation Mono,DejaVu Sans Mono,Bitstream Vera Sans Mono,Courier New,monospace}</style>\n",
            "<style id=\"__jsx-4551b3fae6b1eae8\">html,body{padding:0;margin:0;font-family:-apple-system,BlinkMacSystemFont,Segoe UI,Roboto,Oxygen,Ubuntu,Cantarell,Fira Sans,Droid Sans,Helvetica Neue,sans-serif}*{-webkit-box-sizing:border-box;-moz-box-sizing:border-box;box-sizing:border-box}</style>\n",
            "<body><div id=\"__next\"><div class=\"jsx-3292f5170f95d68d Home_container__d256j\" id=\"container\"><div class=\"Navbar_header__NDFlY\"><div class=\"Navbar_logo__YNqJh\"><img data-nimg=\"1\" decoding=\"async\" height=\"50\" loading=\"lazy\" src=\"/TechSpark.png\" srcset=\"/TechSpark.png 1x, /TechSpark.png 2x\" style=\"color:transparent\" width=\"50\"/></div><button class=\"Navbar_menuButton__EL8Lz\">☰<!-- --> </button><ul class=\"Navbar_links__8A5d2\"><li class=\"links\"><a href=\"/\">Home</a></li><li class=\"links\"><a href=\"/aboutus\">About Us</a></li><li class=\"links\"><a href=\"/team\">Team</a></li><li class=\"links\"><a href=\"/contactUs\">Contact Us</a></li><li class=\"links\"><a href=\"/events\">Events</a></li></ul></div><main class=\"jsx-3292f5170f95d68d\"><h1 class=\"jsx-3292f5170f95d68d Home_title__hYX6j\" id=\"title\">Techspark '24</h1><div class=\"jsx-3292f5170f95d68d Home_rocket__FXVle\" id=\"rocket\"><div style=\"width:100%;height:100%\"><canvas style=\"display:none\"></canvas></div></div></main></div></div><script id=\"__NEXT_DATA__\" type=\"application/json\">{\"props\":{\"pageProps\":{}},\"page\":\"/\",\"query\":{},\"buildId\":\"lgClpylmxCr9qnctA4x0X\",\"nextExport\":true,\"autoExport\":true,\"isFallback\":false,\"scriptLoader\":[]}</script></body>\n",
            "<div id=\"__next\"><div class=\"jsx-3292f5170f95d68d Home_container__d256j\" id=\"container\"><div class=\"Navbar_header__NDFlY\"><div class=\"Navbar_logo__YNqJh\"><img data-nimg=\"1\" decoding=\"async\" height=\"50\" loading=\"lazy\" src=\"/TechSpark.png\" srcset=\"/TechSpark.png 1x, /TechSpark.png 2x\" style=\"color:transparent\" width=\"50\"/></div><button class=\"Navbar_menuButton__EL8Lz\">☰<!-- --> </button><ul class=\"Navbar_links__8A5d2\"><li class=\"links\"><a href=\"/\">Home</a></li><li class=\"links\"><a href=\"/aboutus\">About Us</a></li><li class=\"links\"><a href=\"/team\">Team</a></li><li class=\"links\"><a href=\"/contactUs\">Contact Us</a></li><li class=\"links\"><a href=\"/events\">Events</a></li></ul></div><main class=\"jsx-3292f5170f95d68d\"><h1 class=\"jsx-3292f5170f95d68d Home_title__hYX6j\" id=\"title\">Techspark '24</h1><div class=\"jsx-3292f5170f95d68d Home_rocket__FXVle\" id=\"rocket\"><div style=\"width:100%;height:100%\"><canvas style=\"display:none\"></canvas></div></div></main></div></div>\n",
            "<div class=\"jsx-3292f5170f95d68d Home_container__d256j\" id=\"container\"><div class=\"Navbar_header__NDFlY\"><div class=\"Navbar_logo__YNqJh\"><img data-nimg=\"1\" decoding=\"async\" height=\"50\" loading=\"lazy\" src=\"/TechSpark.png\" srcset=\"/TechSpark.png 1x, /TechSpark.png 2x\" style=\"color:transparent\" width=\"50\"/></div><button class=\"Navbar_menuButton__EL8Lz\">☰<!-- --> </button><ul class=\"Navbar_links__8A5d2\"><li class=\"links\"><a href=\"/\">Home</a></li><li class=\"links\"><a href=\"/aboutus\">About Us</a></li><li class=\"links\"><a href=\"/team\">Team</a></li><li class=\"links\"><a href=\"/contactUs\">Contact Us</a></li><li class=\"links\"><a href=\"/events\">Events</a></li></ul></div><main class=\"jsx-3292f5170f95d68d\"><h1 class=\"jsx-3292f5170f95d68d Home_title__hYX6j\" id=\"title\">Techspark '24</h1><div class=\"jsx-3292f5170f95d68d Home_rocket__FXVle\" id=\"rocket\"><div style=\"width:100%;height:100%\"><canvas style=\"display:none\"></canvas></div></div></main></div>\n",
            "<div class=\"Navbar_header__NDFlY\"><div class=\"Navbar_logo__YNqJh\"><img data-nimg=\"1\" decoding=\"async\" height=\"50\" loading=\"lazy\" src=\"/TechSpark.png\" srcset=\"/TechSpark.png 1x, /TechSpark.png 2x\" style=\"color:transparent\" width=\"50\"/></div><button class=\"Navbar_menuButton__EL8Lz\">☰<!-- --> </button><ul class=\"Navbar_links__8A5d2\"><li class=\"links\"><a href=\"/\">Home</a></li><li class=\"links\"><a href=\"/aboutus\">About Us</a></li><li class=\"links\"><a href=\"/team\">Team</a></li><li class=\"links\"><a href=\"/contactUs\">Contact Us</a></li><li class=\"links\"><a href=\"/events\">Events</a></li></ul></div>\n",
            "<div class=\"Navbar_logo__YNqJh\"><img data-nimg=\"1\" decoding=\"async\" height=\"50\" loading=\"lazy\" src=\"/TechSpark.png\" srcset=\"/TechSpark.png 1x, /TechSpark.png 2x\" style=\"color:transparent\" width=\"50\"/></div>\n",
            "<img data-nimg=\"1\" decoding=\"async\" height=\"50\" loading=\"lazy\" src=\"/TechSpark.png\" srcset=\"/TechSpark.png 1x, /TechSpark.png 2x\" style=\"color:transparent\" width=\"50\"/>\n",
            "<button class=\"Navbar_menuButton__EL8Lz\">☰<!-- --> </button>\n",
            "<ul class=\"Navbar_links__8A5d2\"><li class=\"links\"><a href=\"/\">Home</a></li><li class=\"links\"><a href=\"/aboutus\">About Us</a></li><li class=\"links\"><a href=\"/team\">Team</a></li><li class=\"links\"><a href=\"/contactUs\">Contact Us</a></li><li class=\"links\"><a href=\"/events\">Events</a></li></ul>\n",
            "<li class=\"links\"><a href=\"/\">Home</a></li>\n",
            "<a href=\"/\">Home</a>\n",
            "<li class=\"links\"><a href=\"/aboutus\">About Us</a></li>\n",
            "<a href=\"/aboutus\">About Us</a>\n",
            "<li class=\"links\"><a href=\"/team\">Team</a></li>\n",
            "<a href=\"/team\">Team</a>\n",
            "<li class=\"links\"><a href=\"/contactUs\">Contact Us</a></li>\n",
            "<a href=\"/contactUs\">Contact Us</a>\n",
            "<li class=\"links\"><a href=\"/events\">Events</a></li>\n",
            "<a href=\"/events\">Events</a>\n",
            "<main class=\"jsx-3292f5170f95d68d\"><h1 class=\"jsx-3292f5170f95d68d Home_title__hYX6j\" id=\"title\">Techspark '24</h1><div class=\"jsx-3292f5170f95d68d Home_rocket__FXVle\" id=\"rocket\"><div style=\"width:100%;height:100%\"><canvas style=\"display:none\"></canvas></div></div></main>\n",
            "<h1 class=\"jsx-3292f5170f95d68d Home_title__hYX6j\" id=\"title\">Techspark '24</h1>\n",
            "<div class=\"jsx-3292f5170f95d68d Home_rocket__FXVle\" id=\"rocket\"><div style=\"width:100%;height:100%\"><canvas style=\"display:none\"></canvas></div></div>\n",
            "<div style=\"width:100%;height:100%\"><canvas style=\"display:none\"></canvas></div>\n",
            "<canvas style=\"display:none\"></canvas>\n",
            "<script id=\"__NEXT_DATA__\" type=\"application/json\">{\"props\":{\"pageProps\":{}},\"page\":\"/\",\"query\":{},\"buildId\":\"lgClpylmxCr9qnctA4x0X\",\"nextExport\":true,\"autoExport\":true,\"isFallback\":false,\"scriptLoader\":[]}</script>\n"
          ]
        }
      ]
    },
    {
      "cell_type": "code",
      "source": [],
      "metadata": {
        "id": "6SRK4aFtmaNI"
      },
      "execution_count": null,
      "outputs": []
    }
  ]
}