{
  "nbformat": 4,
  "nbformat_minor": 0,
  "metadata": {
    "colab": {
      "provenance": []
    },
    "kernelspec": {
      "name": "python3",
      "display_name": "Python 3"
    },
    "language_info": {
      "name": "python"
    }
  },
  "cells": [
    {
      "cell_type": "code",
      "execution_count": null,
      "metadata": {
        "colab": {
          "base_uri": "https://localhost:8080/",
          "height": 36
        },
        "id": "QDl70hBAx0ol",
        "outputId": "8f3b7060-5e34-411d-b517-2aa81efde883"
      },
      "outputs": [
        {
          "output_type": "execute_result",
          "data": {
            "text/plain": [
              "'super'"
            ],
            "application/vnd.google.colaboratory.intrinsic+json": {
              "type": "string"
            }
          },
          "metadata": {},
          "execution_count": 2
        }
      ],
      "source": [
        "#GHOST CLASS / POLYMORPHIC CLASS\n",
        "# class without any properties\n",
        "# as per need one can add / set / access properties\n",
        "\n",
        "class Human:\n",
        "  pass\n",
        "\n",
        "h1=Human()\n",
        "h2=Human()\n",
        "#setattr()/getattr():works on objects only, property set will be only for object that called it\n",
        "# object,property, value\n",
        "setattr(h1,\"name\",\"super\")\n",
        "setattr(h2,\"gender\",\"female\")\n",
        "\n",
        "h1.name"
      ]
    },
    {
      "cell_type": "code",
      "source": [
        "getattr(h1,\"name\")"
      ],
      "metadata": {
        "colab": {
          "base_uri": "https://localhost:8080/",
          "height": 36
        },
        "id": "xsZbN3lzyxX3",
        "outputId": "03d34333-4517-43db-9a58-604ec488ac16"
      },
      "execution_count": null,
      "outputs": [
        {
          "output_type": "execute_result",
          "data": {
            "text/plain": [
              "'super'"
            ],
            "application/vnd.google.colaboratory.intrinsic+json": {
              "type": "string"
            }
          },
          "metadata": {},
          "execution_count": 3
        }
      ]
    },
    {
      "cell_type": "code",
      "source": [
        "getattr(h1,\"gender\",None)"
      ],
      "metadata": {
        "id": "4mr_QBx0y_Hu"
      },
      "execution_count": null,
      "outputs": []
    },
    {
      "cell_type": "markdown",
      "source": [
        "LIST COMPREHENSION"
      ],
      "metadata": {
        "id": "ng8Ni0Tm0sVI"
      }
    },
    {
      "cell_type": "code",
      "source": [
        "#can alter/update content of list (in place)\n",
        "#can combine/add/change lists to single list\n",
        "new_list=[expression for item in list if condition]"
      ],
      "metadata": {
        "id": "-S98qFWbzKod"
      },
      "execution_count": null,
      "outputs": []
    },
    {
      "cell_type": "code",
      "source": [
        "l1=[i for i in range(1,11)]\n",
        "print(l1)"
      ],
      "metadata": {
        "colab": {
          "base_uri": "https://localhost:8080/"
        },
        "id": "yvolcuXs1OG4",
        "outputId": "b65f2647-0904-4be7-d9dd-9f4a60840f8f"
      },
      "execution_count": null,
      "outputs": [
        {
          "output_type": "stream",
          "name": "stdout",
          "text": [
            "[1, 2, 3, 4, 5, 6, 7, 8, 9, 10]\n"
          ]
        }
      ]
    },
    {
      "cell_type": "code",
      "source": [
        "# l2<--------l1*2 for each item\n",
        "\n",
        "l2 = [i*2 for i in l1]\n",
        "print(l2)"
      ],
      "metadata": {
        "colab": {
          "base_uri": "https://localhost:8080/"
        },
        "id": "_eKzuDfc1UJX",
        "outputId": "4474555a-b54e-48bc-c196-f3b203a20f7d"
      },
      "execution_count": null,
      "outputs": [
        {
          "output_type": "stream",
          "name": "stdout",
          "text": [
            "[2, 4, 6, 8, 10, 12, 14, 16, 18, 20]\n"
          ]
        }
      ]
    },
    {
      "cell_type": "code",
      "source": [
        "#l3 keep only odd number\n",
        "\n",
        "l3=[i for i in l1 if i%2==1]\n",
        "l3"
      ],
      "metadata": {
        "colab": {
          "base_uri": "https://localhost:8080/"
        },
        "id": "cwvlFOPl1dVz",
        "outputId": "192edf2c-6968-401e-b1c9-04a0da6e3786"
      },
      "execution_count": null,
      "outputs": [
        {
          "output_type": "execute_result",
          "data": {
            "text/plain": [
              "[1, 3, 5, 7, 9]"
            ]
          },
          "metadata": {},
          "execution_count": 9
        }
      ]
    },
    {
      "cell_type": "code",
      "source": [
        "l1=[1,2,3,4,5]\n",
        "l2=['abby','dabby','cabby','chubby','flubby']\n",
        "\n",
        "l3= [(i,j) for i,j in zip(l1,l2)]\n",
        "l3"
      ],
      "metadata": {
        "colab": {
          "base_uri": "https://localhost:8080/"
        },
        "id": "FE7XeT5N1sTi",
        "outputId": "d74a804a-314f-4d10-dc8d-0414284eccf0"
      },
      "execution_count": null,
      "outputs": [
        {
          "output_type": "execute_result",
          "data": {
            "text/plain": [
              "[(1, 'abby'), (2, 'dabby'), (3, 'cabby'), (4, 'chubby'), (5, 'flubby')]"
            ]
          },
          "metadata": {},
          "execution_count": 11
        }
      ]
    },
    {
      "cell_type": "code",
      "source": [
        "'''\n",
        "1+8=9\n",
        "2+7=9\n",
        "\n",
        "\n",
        "8+1=9\n",
        "'''\n",
        "pairs = [f\"{x} + {9 - x} = 9\" for x in range(1, 9)]\n",
        "pairs"
      ],
      "metadata": {
        "colab": {
          "base_uri": "https://localhost:8080/"
        },
        "id": "AdtghK-W2vqr",
        "outputId": "9e04b900-02c1-4d4f-c07e-1cc168964b21"
      },
      "execution_count": null,
      "outputs": [
        {
          "output_type": "execute_result",
          "data": {
            "text/plain": [
              "['1 + 8 = 9',\n",
              " '2 + 7 = 9',\n",
              " '3 + 6 = 9',\n",
              " '4 + 5 = 9',\n",
              " '5 + 4 = 9',\n",
              " '6 + 3 = 9',\n",
              " '7 + 2 = 9',\n",
              " '8 + 1 = 9']"
            ]
          },
          "metadata": {},
          "execution_count": 18
        }
      ]
    },
    {
      "cell_type": "code",
      "source": [
        "l=[[1,2,3],[4,5,6],[7,8,9]]\n",
        "#reduce to 1d\n",
        "d1=[j for i in l for j in i]\n",
        "d1"
      ],
      "metadata": {
        "colab": {
          "base_uri": "https://localhost:8080/"
        },
        "id": "J_0K0ZvY4Zge",
        "outputId": "009efcaf-80e8-4de3-d7f4-760145124b9e"
      },
      "execution_count": null,
      "outputs": [
        {
          "output_type": "execute_result",
          "data": {
            "text/plain": [
              "[1, 2, 3, 4, 5, 6, 7, 8, 9]"
            ]
          },
          "metadata": {},
          "execution_count": 19
        }
      ]
    },
    {
      "cell_type": "markdown",
      "source": [
        "Lambda Function"
      ],
      "metadata": {
        "id": "7OKus0kB6uSV"
      }
    },
    {
      "cell_type": "code",
      "source": [
        "# function without name\n",
        "# called by variable that represents it\n",
        "\n",
        "x=lambda x:x*2\n",
        "print(x(12))"
      ],
      "metadata": {
        "colab": {
          "base_uri": "https://localhost:8080/"
        },
        "id": "JsxajgR35lWD",
        "outputId": "6163339a-1ebe-44b0-8b10-e25ccf61014b"
      },
      "execution_count": null,
      "outputs": [
        {
          "output_type": "stream",
          "name": "stdout",
          "text": [
            "24\n"
          ]
        }
      ]
    },
    {
      "cell_type": "code",
      "source": [
        "l1=[11,22,33,44,55,66]\n",
        "l2=list(map(lambda item:item/2,l1))\n",
        "print(l2)"
      ],
      "metadata": {
        "colab": {
          "base_uri": "https://localhost:8080/"
        },
        "id": "CjpsdMk-7CyD",
        "outputId": "fa74a6a7-16fb-4396-b0bc-4451b1530f3f"
      },
      "execution_count": null,
      "outputs": [
        {
          "output_type": "stream",
          "name": "stdout",
          "text": [
            "[5.5, 11.0, 16.5, 22.0, 27.5, 33.0]\n"
          ]
        }
      ]
    },
    {
      "cell_type": "code",
      "source": [
        "#count vowels\n",
        "\n",
        "def count_vowels(line):\n",
        "  count=0\n",
        "  line=line.lower()\n",
        "  for i in \"aeiou\":\n",
        "    count+=line.count(i)\n",
        "  return count\n",
        "\n",
        "print(\"total vowels are:\" , count_vowels(input(\"Enter a line:\")))"
      ],
      "metadata": {
        "id": "KdkzZvYU7-gW",
        "colab": {
          "base_uri": "https://localhost:8080/"
        },
        "outputId": "283d131a-e68b-4ae3-bf83-2017769bb04e"
      },
      "execution_count": null,
      "outputs": [
        {
          "output_type": "stream",
          "name": "stdout",
          "text": [
            "Enter a line:my name is vedant\n",
            "total vowels are: 5\n"
          ]
        }
      ]
    },
    {
      "cell_type": "code",
      "source": [
        "#anagram listen=silent\n",
        "def anagram(word1,word2):\n",
        "  return sorted(word1)==sorted(word2)\n",
        "print(\"Are anagrams:\",anagram(input(\"Enter word1 to check:\"),input(\"Enter word2 to check:\")))\n"
      ],
      "metadata": {
        "colab": {
          "base_uri": "https://localhost:8080/"
        },
        "id": "KRmV19n9UoBF",
        "outputId": "8ae9ea36-ddce-45e3-87f4-585b8f803f55"
      },
      "execution_count": null,
      "outputs": [
        {
          "output_type": "stream",
          "name": "stdout",
          "text": [
            "Enter word1 to check:silent\n",
            "Enter word2 to check:listen\n",
            "Are anagrams: True\n"
          ]
        }
      ]
    },
    {
      "cell_type": "code",
      "source": [
        "# tree up to n using function\n",
        "\n",
        "def print_tree(n):\n",
        "    for i in range(1,n+1):\n",
        "        print(' ' * (n - i) + 'X' * (2 * i - 1))\n",
        "\n",
        "\n",
        "n = 30\n",
        "print_tree(n)\n"
      ],
      "metadata": {
        "colab": {
          "base_uri": "https://localhost:8080/"
        },
        "id": "arwKU6oGWtAB",
        "outputId": "3c1079a8-c6f5-43c2-8476-c4aafad7e2b3"
      },
      "execution_count": null,
      "outputs": [
        {
          "output_type": "stream",
          "name": "stdout",
          "text": [
            "                             X\n",
            "                            XXX\n",
            "                           XXXXX\n",
            "                          XXXXXXX\n",
            "                         XXXXXXXXX\n",
            "                        XXXXXXXXXXX\n",
            "                       XXXXXXXXXXXXX\n",
            "                      XXXXXXXXXXXXXXX\n",
            "                     XXXXXXXXXXXXXXXXX\n",
            "                    XXXXXXXXXXXXXXXXXXX\n",
            "                   XXXXXXXXXXXXXXXXXXXXX\n",
            "                  XXXXXXXXXXXXXXXXXXXXXXX\n",
            "                 XXXXXXXXXXXXXXXXXXXXXXXXX\n",
            "                XXXXXXXXXXXXXXXXXXXXXXXXXXX\n",
            "               XXXXXXXXXXXXXXXXXXXXXXXXXXXXX\n",
            "              XXXXXXXXXXXXXXXXXXXXXXXXXXXXXXX\n",
            "             XXXXXXXXXXXXXXXXXXXXXXXXXXXXXXXXX\n",
            "            XXXXXXXXXXXXXXXXXXXXXXXXXXXXXXXXXXX\n",
            "           XXXXXXXXXXXXXXXXXXXXXXXXXXXXXXXXXXXXX\n",
            "          XXXXXXXXXXXXXXXXXXXXXXXXXXXXXXXXXXXXXXX\n",
            "         XXXXXXXXXXXXXXXXXXXXXXXXXXXXXXXXXXXXXXXXX\n",
            "        XXXXXXXXXXXXXXXXXXXXXXXXXXXXXXXXXXXXXXXXXXX\n",
            "       XXXXXXXXXXXXXXXXXXXXXXXXXXXXXXXXXXXXXXXXXXXXX\n",
            "      XXXXXXXXXXXXXXXXXXXXXXXXXXXXXXXXXXXXXXXXXXXXXXX\n",
            "     XXXXXXXXXXXXXXXXXXXXXXXXXXXXXXXXXXXXXXXXXXXXXXXXX\n",
            "    XXXXXXXXXXXXXXXXXXXXXXXXXXXXXXXXXXXXXXXXXXXXXXXXXXX\n",
            "   XXXXXXXXXXXXXXXXXXXXXXXXXXXXXXXXXXXXXXXXXXXXXXXXXXXXX\n",
            "  XXXXXXXXXXXXXXXXXXXXXXXXXXXXXXXXXXXXXXXXXXXXXXXXXXXXXXX\n",
            " XXXXXXXXXXXXXXXXXXXXXXXXXXXXXXXXXXXXXXXXXXXXXXXXXXXXXXXXX\n",
            "XXXXXXXXXXXXXXXXXXXXXXXXXXXXXXXXXXXXXXXXXXXXXXXXXXXXXXXXXXX\n"
          ]
        }
      ]
    },
    {
      "cell_type": "code",
      "source": [
        "#given a para return max repeated word\n",
        "def repeated(para):\n",
        "  words=para.lower().split()\n",
        "\n",
        "  word_dict={}\n",
        "  for word in words:\n",
        "    if word in word_dict:\n",
        "      word_dict[word]+=1\n",
        "    else :\n",
        "      word_dict[word]=1\n",
        "\n",
        "\n",
        "  max_word = max(word_dict, key=word_dict.get)\n",
        "\n",
        "  return max_word,word_dict[max_word]\n",
        "\n",
        "\n",
        "para = \"In the vast expanse of the universe, stars twinkle in the night sky, each one telling its own story. Some stars are born from swirling clouds of gas, while others end their lives in dramatic explosions. The universe is constantly changing, and as it evolves, so do the stars within it. Despite the differences in size, color, and age, all stars share a common fate: they will eventually burn out, leaving behind remnants that tell the tale of their existence.\"\n",
        "print(\"Max used word is: \",repeated(para))"
      ],
      "metadata": {
        "colab": {
          "base_uri": "https://localhost:8080/"
        },
        "id": "qHLcXSXpZAMZ",
        "outputId": "61612fbb-0ee5-4f2d-e8b5-246f6c580f41"
      },
      "execution_count": null,
      "outputs": [
        {
          "output_type": "stream",
          "name": "stdout",
          "text": [
            "Max used word is:  ('the', 7)\n"
          ]
        }
      ]
    },
    {
      "cell_type": "code",
      "source": [
        "def filler(data_list):\n",
        "    full_list=[x for x in range(min(data_list),max(data_list)+1)]\n",
        "    missing=len(full_list)-len(data_list)\n",
        "    m_elem=sorted(set(full_list)-set(data_list))\n",
        "    return missing,full_list,m_elem"
      ],
      "metadata": {
        "id": "7LFzbg0sdVyu"
      },
      "execution_count": null,
      "outputs": []
    },
    {
      "cell_type": "code",
      "source": [
        "data_list=[1,2,4,5,7,9,10]\n",
        "missing,full_list,m_elem = filler(data_list)\n",
        "print(f\"How many missing {m_elem}\")\n",
        "print(f\"No. of elements {missing}\")\n",
        "print(f\"Full List {full_list}\")"
      ],
      "metadata": {
        "colab": {
          "base_uri": "https://localhost:8080/"
        },
        "id": "nSmbO_95ilpI",
        "outputId": "24c2eaac-bcd2-48a5-d75d-a518e065430a"
      },
      "execution_count": null,
      "outputs": [
        {
          "output_type": "stream",
          "name": "stdout",
          "text": [
            "How many missing [3, 6, 8]\n",
            "No. of elements 3\n",
            "Full List [1, 2, 3, 4, 5, 6, 7, 8, 9, 10]\n"
          ]
        }
      ]
    },
    {
      "cell_type": "code",
      "source": [],
      "metadata": {
        "id": "VyEpe4lHivim"
      },
      "execution_count": null,
      "outputs": []
    }
  ]
}