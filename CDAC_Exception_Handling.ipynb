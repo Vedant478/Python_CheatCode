{
  "nbformat": 4,
  "nbformat_minor": 0,
  "metadata": {
    "colab": {
      "provenance": []
    },
    "kernelspec": {
      "name": "python3",
      "display_name": "Python 3"
    }
  },
  "cells": [
    {
      "cell_type": "code",
      "metadata": {
        "id": "y8KyoWpZAje3",
        "colab": {
          "base_uri": "https://localhost:8080/",
          "height": 254
        },
        "outputId": "3fc1f80f-b6a4-4043-c679-9553c5d4987e",
        "collapsed": true
      },
      "source": [
        "i=int(input(\"enter i:\"))#wrong input\n",
        "j=int(input(\"enter j:\"))\n",
        "k=i/j#9/0 div by zero\n",
        "print(\"Answer is:\",k)\n",
        "print(\"normal end of file and code if any\")"
      ],
      "execution_count": null,
      "outputs": [
        {
          "name": "stdout",
          "output_type": "stream",
          "text": [
            "enter i:6\n",
            "enter j:0\n"
          ]
        },
        {
          "output_type": "error",
          "ename": "ZeroDivisionError",
          "evalue": "division by zero",
          "traceback": [
            "\u001b[0;31m---------------------------------------------------------------------------\u001b[0m",
            "\u001b[0;31mZeroDivisionError\u001b[0m                         Traceback (most recent call last)",
            "\u001b[0;32m<ipython-input-2-9144c3e3232c>\u001b[0m in \u001b[0;36m<cell line: 3>\u001b[0;34m()\u001b[0m\n\u001b[1;32m      1\u001b[0m \u001b[0mi\u001b[0m\u001b[0;34m=\u001b[0m\u001b[0mint\u001b[0m\u001b[0;34m(\u001b[0m\u001b[0minput\u001b[0m\u001b[0;34m(\u001b[0m\u001b[0;34m\"enter i:\"\u001b[0m\u001b[0;34m)\u001b[0m\u001b[0;34m)\u001b[0m\u001b[0;31m#wrong input\u001b[0m\u001b[0;34m\u001b[0m\u001b[0;34m\u001b[0m\u001b[0m\n\u001b[1;32m      2\u001b[0m \u001b[0mj\u001b[0m\u001b[0;34m=\u001b[0m\u001b[0mint\u001b[0m\u001b[0;34m(\u001b[0m\u001b[0minput\u001b[0m\u001b[0;34m(\u001b[0m\u001b[0;34m\"enter j:\"\u001b[0m\u001b[0;34m)\u001b[0m\u001b[0;34m)\u001b[0m\u001b[0;34m\u001b[0m\u001b[0;34m\u001b[0m\u001b[0m\n\u001b[0;32m----> 3\u001b[0;31m \u001b[0mk\u001b[0m\u001b[0;34m=\u001b[0m\u001b[0mi\u001b[0m\u001b[0;34m/\u001b[0m\u001b[0mj\u001b[0m\u001b[0;31m#9/0 div by zero\u001b[0m\u001b[0;34m\u001b[0m\u001b[0;34m\u001b[0m\u001b[0m\n\u001b[0m\u001b[1;32m      4\u001b[0m \u001b[0mprint\u001b[0m\u001b[0;34m(\u001b[0m\u001b[0;34m\"Answer is:\"\u001b[0m\u001b[0;34m,\u001b[0m\u001b[0mk\u001b[0m\u001b[0;34m)\u001b[0m\u001b[0;34m\u001b[0m\u001b[0;34m\u001b[0m\u001b[0m\n\u001b[1;32m      5\u001b[0m \u001b[0mprint\u001b[0m\u001b[0;34m(\u001b[0m\u001b[0;34m\"normal end of file and code if any\"\u001b[0m\u001b[0;34m)\u001b[0m\u001b[0;34m\u001b[0m\u001b[0;34m\u001b[0m\u001b[0m\n",
            "\u001b[0;31mZeroDivisionError\u001b[0m: division by zero"
          ]
        }
      ]
    },
    {
      "cell_type": "code",
      "source": [
        "try:\n",
        "     i=int(input(\"enter i:\"))#wrong input\n",
        "     j=int(input(\"enter j:\"))\n",
        "     k=i/j#9/0 div by zero\n",
        "     print(\"Answer is:\",k)\n",
        "except Exception :\n",
        "   print (\"Exception raised:\")\n",
        "print(\"normal end of file and code if any\")"
      ],
      "metadata": {
        "id": "GyKZUnrtPMzo",
        "colab": {
          "base_uri": "https://localhost:8080/"
        },
        "outputId": "48b90cca-4463-465b-fea9-41d3a4b73b4b"
      },
      "execution_count": null,
      "outputs": [
        {
          "output_type": "stream",
          "name": "stdout",
          "text": [
            "enter i:amar\n",
            "Exception raised:\n",
            "normal end of file and code if any\n"
          ]
        }
      ]
    },
    {
      "cell_type": "code",
      "source": [
        "try:\n",
        "     i=int(input(\"enter i:\"))#wrong input\n",
        "     j=int(input(\"enter j:\"))\n",
        "     k=i/j#9/0 div by zero\n",
        "     print(\"Answer is:\",k)\n",
        "except Exception as msg :\n",
        "   print (\"Exception raised:\",msg)\n",
        "\n",
        "print(\"normal end of file and code if any\")"
      ],
      "metadata": {
        "colab": {
          "base_uri": "https://localhost:8080/"
        },
        "id": "ZSJcteWQP8Of",
        "outputId": "67bd97b4-7d70-4e91-9856-093b2a9e558a"
      },
      "execution_count": null,
      "outputs": [
        {
          "output_type": "stream",
          "name": "stdout",
          "text": [
            "enter i:9\n",
            "enter j:asdfgh\n",
            "Exception raised: invalid literal for int() with base 10: 'asdfgh'\n",
            "normal end of file and code if any\n"
          ]
        }
      ]
    },
    {
      "cell_type": "code",
      "source": [
        "try:\n",
        "     i=int(input(\"enter i:\"))#wrong input\n",
        "     j=int(input(\"enter j:\"))\n",
        "     k=i/j#9/0 div by zero\n",
        "\n",
        "except Exception as msg :\n",
        "   print (\"Exception raised:\",msg)\n",
        "\n",
        "else:\n",
        "  print(\"Answer:\",k)\n",
        "\n",
        "finally:\n",
        "  print(\"the End....\")\n",
        "\n",
        "print(\"normal end of file and code if any\")"
      ],
      "metadata": {
        "colab": {
          "base_uri": "https://localhost:8080/"
        },
        "id": "QSx4xShkhbc_",
        "outputId": "f5782c3f-862c-4830-a64b-51a911210f38",
        "collapsed": true
      },
      "execution_count": null,
      "outputs": [
        {
          "output_type": "stream",
          "name": "stdout",
          "text": [
            "enter i:2\n",
            "enter j:9\n",
            "Answer: 0.2222222222222222\n",
            "the End....\n",
            "normal end of file and code if any\n"
          ]
        }
      ]
    },
    {
      "cell_type": "code",
      "source": [
        "try:\n",
        "     i=int(input(\"enter i:\"))#wrong input\n",
        "     j=int(input(\"enter j:\"))\n",
        "     k=i/j#9/0 div by zero\n",
        "     print(\"Answer:\",k)\n",
        "except Exception as msg :\n",
        "   print (\"Exception raised:\",msg)\n",
        "\n",
        "\n",
        "print(\"normal end of file and code if any\")"
      ],
      "metadata": {
        "id": "2ltdEaf1jRbF"
      },
      "execution_count": null,
      "outputs": []
    },
    {
      "cell_type": "code",
      "metadata": {
        "colab": {
          "base_uri": "https://localhost:8080/",
          "height": 272
        },
        "id": "qRfzsICADiF9",
        "outputId": "269f39d8-cdcb-4d6b-864a-8c73647909c2"
      },
      "source": [
        "#try and finally ---normal execution works\n",
        "#in case of error finally is executed then code will stop with error\n",
        "try:\n",
        "     i=int(input(\"enter i:\"))\n",
        "     j=int(input(\"enter j:\"))\n",
        "     k=i/j#9/0\n",
        "     print(\"Answer:\",k)\n",
        "finally:\n",
        "    print(\"the End....\")\n",
        "\n",
        "print(\"normal end of file and code if any\")"
      ],
      "execution_count": null,
      "outputs": [
        {
          "output_type": "stream",
          "name": "stdout",
          "text": [
            "enter i:9\n",
            "enter j:0\n",
            "the End....\n"
          ]
        },
        {
          "output_type": "error",
          "ename": "ZeroDivisionError",
          "evalue": "division by zero",
          "traceback": [
            "\u001b[0;31m---------------------------------------------------------------------------\u001b[0m",
            "\u001b[0;31mZeroDivisionError\u001b[0m                         Traceback (most recent call last)",
            "\u001b[0;32m<ipython-input-2-410857ac93e7>\u001b[0m in \u001b[0;36m<cell line: 3>\u001b[0;34m()\u001b[0m\n\u001b[1;32m      4\u001b[0m      \u001b[0mi\u001b[0m\u001b[0;34m=\u001b[0m\u001b[0mint\u001b[0m\u001b[0;34m(\u001b[0m\u001b[0minput\u001b[0m\u001b[0;34m(\u001b[0m\u001b[0;34m\"enter i:\"\u001b[0m\u001b[0;34m)\u001b[0m\u001b[0;34m)\u001b[0m\u001b[0;34m\u001b[0m\u001b[0;34m\u001b[0m\u001b[0m\n\u001b[1;32m      5\u001b[0m      \u001b[0mj\u001b[0m\u001b[0;34m=\u001b[0m\u001b[0mint\u001b[0m\u001b[0;34m(\u001b[0m\u001b[0minput\u001b[0m\u001b[0;34m(\u001b[0m\u001b[0;34m\"enter j:\"\u001b[0m\u001b[0;34m)\u001b[0m\u001b[0;34m)\u001b[0m\u001b[0;34m\u001b[0m\u001b[0;34m\u001b[0m\u001b[0m\n\u001b[0;32m----> 6\u001b[0;31m      \u001b[0mk\u001b[0m\u001b[0;34m=\u001b[0m\u001b[0mi\u001b[0m\u001b[0;34m/\u001b[0m\u001b[0mj\u001b[0m\u001b[0;31m#9/0\u001b[0m\u001b[0;34m\u001b[0m\u001b[0;34m\u001b[0m\u001b[0m\n\u001b[0m\u001b[1;32m      7\u001b[0m      \u001b[0mprint\u001b[0m\u001b[0;34m(\u001b[0m\u001b[0;34m\"Answer:\"\u001b[0m\u001b[0;34m,\u001b[0m\u001b[0mk\u001b[0m\u001b[0;34m)\u001b[0m\u001b[0;34m\u001b[0m\u001b[0;34m\u001b[0m\u001b[0m\n\u001b[1;32m      8\u001b[0m \u001b[0;32mfinally\u001b[0m\u001b[0;34m:\u001b[0m\u001b[0;34m\u001b[0m\u001b[0;34m\u001b[0m\u001b[0m\n",
            "\u001b[0;31mZeroDivisionError\u001b[0m: division by zero"
          ]
        }
      ]
    },
    {
      "cell_type": "code",
      "metadata": {
        "colab": {
          "base_uri": "https://localhost:8080/"
        },
        "id": "Ywk_CFAdLZcg",
        "outputId": "29453202-4811-40ca-feb4-b13eb12ca424"
      },
      "source": [
        "#exception is thrown from inner to outter manner if not handled\n",
        "def c():\n",
        "  print(\"c called:\")\n",
        "  #try:\n",
        "  k=3/0\n",
        "  #except Exception as msg:\n",
        "   #   print (\"Exception raised in c :\",msg)\n",
        "\n",
        "\n",
        "def b():\n",
        "  print(\"B called:\")\n",
        "  try:\n",
        "      c()\n",
        "      pass\n",
        "  except Exception as msg:\n",
        "        print (\"Exception raised in b :\",msg)\n",
        "\n",
        "\n",
        "def a():\n",
        "  print(\"A called:\")\n",
        "\n",
        "  try:\n",
        "      b()\n",
        "      pass\n",
        "  except Exception as msg:\n",
        "    print (\"Exception raised in a:\",msg)\n",
        "\n",
        "print(\"Normal Script\")\n",
        "a()\n",
        "\n",
        "\n"
      ],
      "execution_count": null,
      "outputs": [
        {
          "output_type": "stream",
          "name": "stdout",
          "text": [
            "Normal Script\n",
            "A called:\n",
            "B called:\n",
            "c called:\n",
            "Exception raised in b : division by zero\n"
          ]
        }
      ]
    },
    {
      "cell_type": "code",
      "metadata": {
        "id": "YNHyjKvcSAbJ"
      },
      "source": [
        "#assertion:gets activated if condition is false\n",
        "#unit test for checking extreem condition\n",
        "def doubler(no):\n",
        "  assert (no>0),\"-ve value not acceptted\"\n",
        "  print(no*2)"
      ],
      "execution_count": null,
      "outputs": []
    },
    {
      "cell_type": "code",
      "metadata": {
        "colab": {
          "base_uri": "https://localhost:8080/",
          "height": 254
        },
        "id": "IXNW0Hh5SFMT",
        "outputId": "a223e3a6-2740-4d5f-d90a-e09db1eb845d"
      },
      "source": [
        "doubler(-203)"
      ],
      "execution_count": null,
      "outputs": [
        {
          "output_type": "error",
          "ename": "AssertionError",
          "evalue": "-ve value not acceptted",
          "traceback": [
            "\u001b[0;31m---------------------------------------------------------------------------\u001b[0m",
            "\u001b[0;31mAssertionError\u001b[0m                            Traceback (most recent call last)",
            "\u001b[0;32m<ipython-input-9-9e8b9e2948a9>\u001b[0m in \u001b[0;36m<cell line: 1>\u001b[0;34m()\u001b[0m\n\u001b[0;32m----> 1\u001b[0;31m \u001b[0mdoubler\u001b[0m\u001b[0;34m(\u001b[0m\u001b[0;34m-\u001b[0m\u001b[0;36m203\u001b[0m\u001b[0;34m)\u001b[0m\u001b[0;34m\u001b[0m\u001b[0;34m\u001b[0m\u001b[0m\n\u001b[0m",
            "\u001b[0;32m<ipython-input-7-0c7bf8c09b8e>\u001b[0m in \u001b[0;36mdoubler\u001b[0;34m(no)\u001b[0m\n\u001b[1;32m      2\u001b[0m \u001b[0;31m#unit test for checking extreem condition\u001b[0m\u001b[0;34m\u001b[0m\u001b[0;34m\u001b[0m\u001b[0m\n\u001b[1;32m      3\u001b[0m \u001b[0;32mdef\u001b[0m \u001b[0mdoubler\u001b[0m\u001b[0;34m(\u001b[0m\u001b[0mno\u001b[0m\u001b[0;34m)\u001b[0m\u001b[0;34m:\u001b[0m\u001b[0;34m\u001b[0m\u001b[0;34m\u001b[0m\u001b[0m\n\u001b[0;32m----> 4\u001b[0;31m   \u001b[0;32massert\u001b[0m \u001b[0;34m(\u001b[0m\u001b[0mno\u001b[0m\u001b[0;34m>\u001b[0m\u001b[0;36m0\u001b[0m\u001b[0;34m)\u001b[0m\u001b[0;34m,\u001b[0m\u001b[0;34m\"-ve value not acceptted\"\u001b[0m\u001b[0;34m\u001b[0m\u001b[0;34m\u001b[0m\u001b[0m\n\u001b[0m\u001b[1;32m      5\u001b[0m   \u001b[0mprint\u001b[0m\u001b[0;34m(\u001b[0m\u001b[0mno\u001b[0m\u001b[0;34m*\u001b[0m\u001b[0;36m2\u001b[0m\u001b[0;34m)\u001b[0m\u001b[0;34m\u001b[0m\u001b[0;34m\u001b[0m\u001b[0m\n",
            "\u001b[0;31mAssertionError\u001b[0m: -ve value not acceptted"
          ]
        }
      ]
    },
    {
      "cell_type": "code",
      "source": [
        "class MyException(Exception):#inherite Exception class\n",
        "    def __init__(self,data):#to take error code or message\n",
        "        self.data=data\n",
        "    def __str__(self):#print Error message\n",
        "        return self.data"
      ],
      "metadata": {
        "id": "-VY4RnUIqRH-"
      },
      "execution_count": null,
      "outputs": []
    },
    {
      "cell_type": "code",
      "source": [
        "try:\n",
        "    raise MyException(\"user defined message for error/exception\")\n",
        "except Exception as msg:\n",
        "    print(\"Exception raised:\",msg)"
      ],
      "metadata": {
        "colab": {
          "base_uri": "https://localhost:8080/"
        },
        "id": "tmp09_FwquiI",
        "outputId": "a946bf99-870f-433b-a5d0-558fba097294"
      },
      "execution_count": null,
      "outputs": [
        {
          "output_type": "stream",
          "name": "stdout",
          "text": [
            "Exception raised: user defined message for error/exception\n"
          ]
        }
      ]
    },
    {
      "cell_type": "code",
      "source": [
        "class MyException(Exception):#inherite Exception class\n",
        "    def __init__(self,data):#to take error code or message\n",
        "        self.data=data\n",
        "    def __str__(self):#print Error message\n",
        "        if self.data==101:\n",
        "            return \"Error is:\"+str(self.data)+\" ek nuber error\"\n",
        "        elif self.data==202:\n",
        "            return \"Error is:\"+str(self.data)+\" dont know error\"\n",
        "        else:\n",
        "            return \"Error is:\"+str(self.data)+\" Unknown Error\""
      ],
      "metadata": {
        "id": "Ubc1A_m4rsyD"
      },
      "execution_count": null,
      "outputs": []
    },
    {
      "cell_type": "code",
      "source": [
        "try:\n",
        "    n=int(input(\"Error:\"))\n",
        "    raise MyException(n)\n",
        "except Exception as msg:\n",
        "    print(msg)"
      ],
      "metadata": {
        "id": "4uV_9ZL_sLeD"
      },
      "execution_count": null,
      "outputs": []
    },
    {
      "cell_type": "code",
      "source": [
        "class AgeException(Exception):\n",
        "    def __init__(self,data):\n",
        "        self.data=data\n",
        "    def __str__(self):\n",
        "        return \"Exception : \"+str(self.data)+\" Under 18\"\n",
        "\n",
        "try:\n",
        "    n=int(input(\"Enter age : \"))\n",
        "    if n>=18:\n",
        "      print(\"You can vote, your age is \",n)\n",
        "    else:\n",
        "      raise AgeException(n)\n",
        "except Exception as msg:\n",
        "    print(msg)\n"
      ],
      "metadata": {
        "colab": {
          "base_uri": "https://localhost:8080/"
        },
        "id": "PtpB6YqmaZ4v",
        "outputId": "32b15156-7286-47cc-b0c1-43f0631e53da"
      },
      "execution_count": null,
      "outputs": [
        {
          "output_type": "stream",
          "name": "stdout",
          "text": [
            "Enter age : 9\n",
            "Exception : 9 Under 18\n"
          ]
        }
      ]
    }
  ]
}