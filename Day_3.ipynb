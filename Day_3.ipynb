{
  "nbformat": 4,
  "nbformat_minor": 0,
  "metadata": {
    "colab": {
      "provenance": []
    },
    "kernelspec": {
      "name": "python3",
      "display_name": "Python 3"
    },
    "language_info": {
      "name": "python"
    }
  },
  "cells": [
    {
      "cell_type": "code",
      "execution_count": null,
      "metadata": {
        "colab": {
          "base_uri": "https://localhost:8080/"
        },
        "id": "vgyQT5Lvdf3K",
        "outputId": "9cb166ea-1b78-4e2a-cffb-3616b7f61f3a"
      },
      "outputs": [
        {
          "output_type": "stream",
          "name": "stdout",
          "text": [
            "amar amar amar amar\n"
          ]
        }
      ],
      "source": [
        "s1='amar'\n",
        "s2=\"amar\"\n",
        "s3='''amar'''\n",
        "s4=\"\"\"amar\"\"\"\n",
        "\n",
        "print(s1,s2,s3,s4)"
      ]
    },
    {
      "cell_type": "code",
      "source": [
        "s='''amar\n",
        "panchal'''\n",
        "#this is more powerfull way of making string"
      ],
      "metadata": {
        "id": "foJ1s-iPeQrn"
      },
      "execution_count": null,
      "outputs": []
    },
    {
      "cell_type": "code",
      "source": [
        "#itertable\n",
        "s=\"python\"\n",
        "for char in s:\n",
        "  print(char)"
      ],
      "metadata": {
        "colab": {
          "base_uri": "https://localhost:8080/"
        },
        "id": "YH1Vls2Ge8FR",
        "outputId": "444e638a-8bfb-4580-83ff-0d3406685cfb"
      },
      "execution_count": null,
      "outputs": [
        {
          "output_type": "stream",
          "name": "stdout",
          "text": [
            "p\n",
            "y\n",
            "t\n",
            "h\n",
            "o\n",
            "n\n"
          ]
        }
      ]
    },
    {
      "cell_type": "code",
      "source": [
        "#indexed\n",
        "s=\"python\"\n",
        "for index in range(len(s)):\n",
        "    print(f\"at s[{index}] we have :{s[index]}\")"
      ],
      "metadata": {
        "colab": {
          "base_uri": "https://localhost:8080/"
        },
        "id": "_8m2wwikfJ2Y",
        "outputId": "e7a751ff-a337-49ce-f09f-79398ebaad87"
      },
      "execution_count": null,
      "outputs": [
        {
          "output_type": "stream",
          "name": "stdout",
          "text": [
            "at s[0] we have :p\n",
            "at s[1] we have :y\n",
            "at s[2] we have :t\n",
            "at s[3] we have :h\n",
            "at s[4] we have :o\n",
            "at s[5] we have :n\n"
          ]
        }
      ]
    },
    {
      "cell_type": "code",
      "source": [
        "#indexed\n",
        "s=\"python\"\n",
        "for index in range(len(s)-1,0,-1):\n",
        "    print(f\"at s[{index}] we have :{s[index]}\")"
      ],
      "metadata": {
        "colab": {
          "base_uri": "https://localhost:8080/"
        },
        "id": "CU96XI3UgHSx",
        "outputId": "e732222e-ec98-46e1-dbc8-8d6a7d7bc937"
      },
      "execution_count": null,
      "outputs": [
        {
          "output_type": "stream",
          "name": "stdout",
          "text": [
            "at s[5] we have :n\n",
            "at s[4] we have :o\n",
            "at s[3] we have :h\n",
            "at s[2] we have :t\n",
            "at s[1] we have :y\n"
          ]
        }
      ]
    },
    {
      "cell_type": "code",
      "source": [
        "f=\"amar\"\n",
        "s=\"panchal\"\n",
        "fullname=f+\" \"+s\n",
        "print(fullname)"
      ],
      "metadata": {
        "colab": {
          "base_uri": "https://localhost:8080/"
        },
        "id": "vcJaef5wgKCc",
        "outputId": "383b9b03-2a9d-4671-b474-6664cdc5fb08"
      },
      "execution_count": null,
      "outputs": [
        {
          "output_type": "stream",
          "name": "stdout",
          "text": [
            "amar panchal\n"
          ]
        }
      ]
    },
    {
      "cell_type": "code",
      "source": [
        "#Create tree of size n where n is give by user\n",
        "n=int(input(\"Enter number for tree size\"))\n",
        "for i  in range(1,n+1):\n",
        "  print(\" \"*(n-i),\" X\"*i)"
      ],
      "metadata": {
        "colab": {
          "base_uri": "https://localhost:8080/"
        },
        "id": "EvXnc913gMd9",
        "outputId": "339adfe3-afdb-4914-dcb7-ad33f3552dde"
      },
      "execution_count": null,
      "outputs": [
        {
          "output_type": "stream",
          "name": "stdout",
          "text": [
            "Enter number for tree size8\n",
            "         X\n",
            "        X X\n",
            "       X X X\n",
            "      X X X X\n",
            "     X X X X X\n",
            "    X X X X X X\n",
            "   X X X X X X X\n",
            "  X X X X X X X X\n"
          ]
        }
      ]
    },
    {
      "cell_type": "code",
      "source": [
        "#slcing\n",
        "s=\"abcdefgh\"\n",
        "print(s[3:7])\n",
        "print(s[:3])\n"
      ],
      "metadata": {
        "colab": {
          "base_uri": "https://localhost:8080/"
        },
        "id": "ZA3WxzHxiJXX",
        "outputId": "21c7e66b-7d46-455e-c975-a8652b6252ed"
      },
      "execution_count": null,
      "outputs": [
        {
          "output_type": "stream",
          "name": "stdout",
          "text": [
            "defg\n",
            "afc\n"
          ]
        }
      ]
    },
    {
      "cell_type": "code",
      "source": [
        "s=input(\"Enter a word: \")\n",
        "for char in range(1,len(s)+1):\n",
        "  print(s[:char])"
      ],
      "metadata": {
        "colab": {
          "base_uri": "https://localhost:8080/"
        },
        "id": "Kna1kLThjMBn",
        "outputId": "20094349-3299-4cc4-a223-a65ba4548224"
      },
      "execution_count": null,
      "outputs": [
        {
          "output_type": "stream",
          "name": "stdout",
          "text": [
            "Enter a word: vedant\n",
            "v\n",
            "ve\n",
            "ved\n",
            "veda\n",
            "vedan\n",
            "vedant\n"
          ]
        }
      ]
    },
    {
      "cell_type": "code",
      "source": [
        "\"amar\" in \"amarendra bahubali\"\n",
        "#return true if sub string found in string"
      ],
      "metadata": {
        "colab": {
          "base_uri": "https://localhost:8080/"
        },
        "id": "-Ae33zUYjoVq",
        "outputId": "2c44f31e-84c8-4927-b3c7-4337ba6638e0"
      },
      "execution_count": null,
      "outputs": [
        {
          "output_type": "execute_result",
          "data": {
            "text/plain": [
              "True"
            ]
          },
          "metadata": {},
          "execution_count": 17
        }
      ]
    },
    {
      "cell_type": "code",
      "source": [
        "l=[1,2,3,4,5,6,7,8,9]\n",
        "10 in l"
      ],
      "metadata": {
        "colab": {
          "base_uri": "https://localhost:8080/"
        },
        "id": "sLj2w5pHmVCb",
        "outputId": "60844765-7906-4577-c6ed-5a7611ad7507"
      },
      "execution_count": null,
      "outputs": [
        {
          "output_type": "execute_result",
          "data": {
            "text/plain": [
              "False"
            ]
          },
          "metadata": {},
          "execution_count": 18
        }
      ]
    },
    {
      "cell_type": "code",
      "source": [
        "line=\"tHis IS sO MuCh FuN\"\n"
      ],
      "metadata": {
        "id": "EBv4fLzLmXAu"
      },
      "execution_count": null,
      "outputs": []
    },
    {
      "cell_type": "code",
      "source": [
        "line.capitalize()"
      ],
      "metadata": {
        "colab": {
          "base_uri": "https://localhost:8080/",
          "height": 36
        },
        "id": "gLQvnJB-njEJ",
        "outputId": "001abb08-856d-4000-fce2-690c520b579f"
      },
      "execution_count": null,
      "outputs": [
        {
          "output_type": "execute_result",
          "data": {
            "text/plain": [
              "'This is so much fun'"
            ],
            "application/vnd.google.colaboratory.intrinsic+json": {
              "type": "string"
            }
          },
          "metadata": {},
          "execution_count": 20
        }
      ]
    },
    {
      "cell_type": "code",
      "source": [
        "line.title()"
      ],
      "metadata": {
        "colab": {
          "base_uri": "https://localhost:8080/",
          "height": 36
        },
        "id": "UzL0eBOYnlhe",
        "outputId": "d2181157-5a79-4ffa-aa78-dcc051eb3f6d"
      },
      "execution_count": null,
      "outputs": [
        {
          "output_type": "execute_result",
          "data": {
            "text/plain": [
              "'This Is So Much Fun'"
            ],
            "application/vnd.google.colaboratory.intrinsic+json": {
              "type": "string"
            }
          },
          "metadata": {},
          "execution_count": 21
        }
      ]
    },
    {
      "cell_type": "code",
      "source": [
        "line =\"this is so much fun\"\n",
        "line.count(\"is\")"
      ],
      "metadata": {
        "colab": {
          "base_uri": "https://localhost:8080/"
        },
        "id": "inww71fzn2w1",
        "outputId": "7142e9ad-f5b1-4525-da1f-88fad03610f4"
      },
      "execution_count": null,
      "outputs": [
        {
          "output_type": "execute_result",
          "data": {
            "text/plain": [
              "2"
            ]
          },
          "metadata": {},
          "execution_count": 25
        }
      ]
    },
    {
      "cell_type": "code",
      "source": [
        "line.index(\"is\")"
      ],
      "metadata": {
        "colab": {
          "base_uri": "https://localhost:8080/"
        },
        "id": "WAeuHY_JoXLt",
        "outputId": "6cf150b3-1a93-4d7d-fa7e-4dafa6f1ac8c"
      },
      "execution_count": null,
      "outputs": [
        {
          "output_type": "execute_result",
          "data": {
            "text/plain": [
              "2"
            ]
          },
          "metadata": {},
          "execution_count": 26
        }
      ]
    },
    {
      "cell_type": "code",
      "source": [
        "line.find(\"mad\")"
      ],
      "metadata": {
        "colab": {
          "base_uri": "https://localhost:8080/"
        },
        "id": "xANt-t5Jog4j",
        "outputId": "8cad8d6e-4c32-4e3e-f2d8-9399beecfd93"
      },
      "execution_count": null,
      "outputs": [
        {
          "output_type": "execute_result",
          "data": {
            "text/plain": [
              "-1"
            ]
          },
          "metadata": {},
          "execution_count": 28
        }
      ]
    },
    {
      "cell_type": "code",
      "source": [
        "word=\"imagination\"\n",
        "word.index(\"i\")\n",
        "word.rindex(\"i\") # searches from right hand side but no -ve index only"
      ],
      "metadata": {
        "colab": {
          "base_uri": "https://localhost:8080/"
        },
        "id": "rTapAkBpokJr",
        "outputId": "0a4e7009-5e8f-44b7-d763-a95239378cf0"
      },
      "execution_count": null,
      "outputs": [
        {
          "output_type": "execute_result",
          "data": {
            "text/plain": [
              "8"
            ]
          },
          "metadata": {},
          "execution_count": 31
        }
      ]
    },
    {
      "cell_type": "code",
      "source": [
        "word = \"code\"\n",
        "print(word.center(30,'-'))\n",
        "amt=\"12.30\"\n",
        "print(amt.rjust(30))"
      ],
      "metadata": {
        "colab": {
          "base_uri": "https://localhost:8080/"
        },
        "id": "8-LiIuZNo-fU",
        "outputId": "a64dc4cc-ed16-4065-dd4e-ffce00a32f8d"
      },
      "execution_count": null,
      "outputs": [
        {
          "output_type": "stream",
          "name": "stdout",
          "text": [
            "-------------code-------------\n",
            "                         12.30\n"
          ]
        }
      ]
    },
    {
      "cell_type": "code",
      "source": [
        " #print(\" \"*(n-i),\" X\"*i)\n",
        "let=\"X\"\n",
        "print(let)\n",
        "for i in range(1,6):\n",
        "  print(let.ljust(i),let)\n",
        "\n",
        "print(let*7)"
      ],
      "metadata": {
        "colab": {
          "base_uri": "https://localhost:8080/"
        },
        "id": "2960ds2dqbAj",
        "outputId": "09722d5b-8491-4576-f28c-4e74231e7bd7"
      },
      "execution_count": null,
      "outputs": [
        {
          "output_type": "stream",
          "name": "stdout",
          "text": [
            "X\n",
            "X X\n",
            "X  X\n",
            "X   X\n",
            "X    X\n",
            "X     X\n",
            "XXXXXXX\n"
          ]
        }
      ]
    },
    {
      "cell_type": "code",
      "source": [
        "m=1\n",
        "for i in range(1,7):\n",
        "  print((\"X\"*m).center(20))\n",
        "  m+=2"
      ],
      "metadata": {
        "colab": {
          "base_uri": "https://localhost:8080/"
        },
        "id": "iWr5lB91sGH8",
        "outputId": "e9bea6ed-bced-4189-87a0-20cad985906d"
      },
      "execution_count": null,
      "outputs": [
        {
          "output_type": "stream",
          "name": "stdout",
          "text": [
            "         X          \n",
            "        XXX         \n",
            "       XXXXX        \n",
            "      XXXXXXX       \n",
            "     XXXXXXXXX      \n",
            "    XXXXXXXXXXX     \n"
          ]
        }
      ]
    },
    {
      "cell_type": "code",
      "source": [
        "for i in range(1,12,2):\n",
        "  print((\"X\"*i).center(20))"
      ],
      "metadata": {
        "colab": {
          "base_uri": "https://localhost:8080/"
        },
        "id": "KG_Jw7O6usYT",
        "outputId": "74d00858-acbf-42e3-daa8-d65fc0101cda"
      },
      "execution_count": null,
      "outputs": [
        {
          "output_type": "stream",
          "name": "stdout",
          "text": [
            "         X          \n",
            "        XXX         \n",
            "       XXXXX        \n",
            "      XXXXXXX       \n",
            "     XXXXXXXXX      \n",
            "    XXXXXXXXXXX     \n"
          ]
        }
      ]
    },
    {
      "cell_type": "code",
      "source": [
        "line=\"this is done\"\n",
        "line.replace(\" is\",\" was\")"
      ],
      "metadata": {
        "colab": {
          "base_uri": "https://localhost:8080/",
          "height": 36
        },
        "id": "dcmNBom-vNbm",
        "outputId": "8845eea6-7d67-406e-f540-8000176f539e"
      },
      "execution_count": null,
      "outputs": [
        {
          "output_type": "execute_result",
          "data": {
            "text/plain": [
              "'this was done'"
            ],
            "application/vnd.google.colaboratory.intrinsic+json": {
              "type": "string"
            }
          },
          "metadata": {},
          "execution_count": 61
        }
      ]
    },
    {
      "cell_type": "code",
      "source": [
        "line=\"1,22,45,678\"\n",
        "print(line.split(\",\"))"
      ],
      "metadata": {
        "colab": {
          "base_uri": "https://localhost:8080/"
        },
        "id": "gt0QPRpWw1Kn",
        "outputId": "38c7d989-92f7-45f0-936b-28b315434758"
      },
      "execution_count": null,
      "outputs": [
        {
          "output_type": "stream",
          "name": "stdout",
          "text": [
            "['1', '22', '45', '678']\n"
          ]
        }
      ]
    },
    {
      "cell_type": "code",
      "source": [
        "#in on line given word count of line should also hnadle extra space\n",
        "\n",
        "n=input(\"enter a string \")\n",
        "print(\"total words: \",len(n.split()))"
      ],
      "metadata": {
        "colab": {
          "base_uri": "https://localhost:8080/"
        },
        "id": "Y3IXFAjWxThg",
        "outputId": "d8d6f0c9-16eb-43fc-b8c9-d930228eac57"
      },
      "execution_count": null,
      "outputs": [
        {
          "output_type": "stream",
          "name": "stdout",
          "text": [
            "enter a string my name is vedant\n",
            "total words:  4\n"
          ]
        }
      ]
    },
    {
      "cell_type": "code",
      "source": [
        "#print a to z with ascii value\n",
        "c=\"a\"\n",
        "ord(\"a\")"
      ],
      "metadata": {
        "colab": {
          "base_uri": "https://localhost:8080/"
        },
        "id": "e1AHgsy4zG7p",
        "outputId": "d75966f2-2262-4214-d58d-79ac82749134"
      },
      "execution_count": null,
      "outputs": [
        {
          "output_type": "execute_result",
          "data": {
            "text/plain": [
              "97"
            ]
          },
          "metadata": {},
          "execution_count": 66
        }
      ]
    },
    {
      "cell_type": "code",
      "source": [
        "for i in range(ord(\"A\"),ord(\"Z\")+1):\n",
        "  print(chr(i),i)"
      ],
      "metadata": {
        "colab": {
          "base_uri": "https://localhost:8080/"
        },
        "id": "iH1DcYIE0Byd",
        "outputId": "d37dd625-3a6d-475a-de80-34ee4c8da5cd"
      },
      "execution_count": null,
      "outputs": [
        {
          "output_type": "stream",
          "name": "stdout",
          "text": [
            "A 65\n",
            "B 66\n",
            "C 67\n",
            "D 68\n",
            "E 69\n",
            "F 70\n",
            "G 71\n",
            "H 72\n",
            "I 73\n",
            "J 74\n",
            "K 75\n",
            "L 76\n",
            "M 77\n",
            "N 78\n",
            "O 79\n",
            "P 80\n",
            "Q 81\n",
            "R 82\n",
            "S 83\n",
            "T 84\n",
            "U 85\n",
            "V 86\n",
            "W 87\n",
            "X 88\n",
            "Y 89\n",
            "Z 90\n"
          ]
        }
      ]
    },
    {
      "cell_type": "code",
      "source": [
        "c=\"9\"\n",
        "c.isdigit()"
      ],
      "metadata": {
        "colab": {
          "base_uri": "https://localhost:8080/"
        },
        "id": "M7vCqQBz0eza",
        "outputId": "a3394e8a-fee3-4916-db69-9b331597dfa7"
      },
      "execution_count": null,
      "outputs": [
        {
          "output_type": "execute_result",
          "data": {
            "text/plain": [
              "True"
            ]
          },
          "metadata": {},
          "execution_count": 76
        }
      ]
    },
    {
      "cell_type": "code",
      "source": [
        "#palindrome\n",
        "word=\"racecar\"\n",
        "if(word==word[::-1]):\n",
        "  print(\"IS a palindrome\")"
      ],
      "metadata": {
        "colab": {
          "base_uri": "https://localhost:8080/"
        },
        "id": "LPnvi_WT1qje",
        "outputId": "a38b8c50-aed9-4724-af58-fc4b4d0afb8a"
      },
      "execution_count": null,
      "outputs": [
        {
          "output_type": "stream",
          "name": "stdout",
          "text": [
            "IS a palindrome\n"
          ]
        }
      ]
    },
    {
      "cell_type": "code",
      "source": [
        "#check vowels in a string\n",
        "line=input(\"enter line: \").lower()\n",
        "count=0\n",
        "for character in \"aeiou\":\n",
        "  count+=line.count(character)\n",
        "print(\"Total vowels are: \",count)"
      ],
      "metadata": {
        "colab": {
          "base_uri": "https://localhost:8080/"
        },
        "id": "Ac8NQa5K2SR3",
        "outputId": "b93de261-8d51-4414-b86f-abbc2221b840"
      },
      "execution_count": null,
      "outputs": [
        {
          "output_type": "stream",
          "name": "stdout",
          "text": [
            "enter line: My name is vedant\n",
            "Total vowels are:  5\n"
          ]
        }
      ]
    },
    {
      "cell_type": "code",
      "source": [
        "#syntax :\n",
        "#def <name>(<parameter>):\n",
        "        # code block\n",
        "        # code block\n",
        "\n",
        "#out of function\n"
      ],
      "metadata": {
        "id": "9SIZvfiq3SJz"
      },
      "execution_count": null,
      "outputs": []
    },
    {
      "cell_type": "code",
      "source": [
        "def intro(name,native):\n",
        "  print(f\"hi {name}, so you are from {native}\")"
      ],
      "metadata": {
        "id": "XnKIT-1EGODh"
      },
      "execution_count": null,
      "outputs": []
    },
    {
      "cell_type": "code",
      "source": [
        "intro(\"amar\",\"mumbai\")"
      ],
      "metadata": {
        "colab": {
          "base_uri": "https://localhost:8080/"
        },
        "id": "ZpQj6uFwG2jK",
        "outputId": "5bcfc4b6-55a2-40f3-9bea-acc5e51cac0b"
      },
      "execution_count": null,
      "outputs": [
        {
          "output_type": "stream",
          "name": "stdout",
          "text": [
            "hi amar, so you are from mumbai\n"
          ]
        }
      ]
    },
    {
      "cell_type": "code",
      "source": [
        "intro(native=\"surat\",name=\"jignesh\")"
      ],
      "metadata": {
        "colab": {
          "base_uri": "https://localhost:8080/"
        },
        "id": "yhq8lYVDG4Ah",
        "outputId": "a18fec64-668b-43c9-b914-0de7b6b662a3"
      },
      "execution_count": null,
      "outputs": [
        {
          "output_type": "stream",
          "name": "stdout",
          "text": [
            "hi jignesh, so you are from surat\n"
          ]
        }
      ]
    },
    {
      "cell_type": "code",
      "source": [],
      "metadata": {
        "id": "1i0uOZI3G7kt"
      },
      "execution_count": null,
      "outputs": []
    },
    {
      "cell_type": "code",
      "source": [
        "#default value parameter\n",
        "#parameter=default value used only when user failed to supply\n",
        "\n",
        "def intro(name=\"unknown\",native=\"india\"):\n",
        "    print(f\"hi {name}, so you are from {native}\")"
      ],
      "metadata": {
        "id": "xstmL2YuFoVF"
      },
      "execution_count": null,
      "outputs": []
    },
    {
      "cell_type": "code",
      "source": [
        "intro(\"amar\")"
      ],
      "metadata": {
        "colab": {
          "base_uri": "https://localhost:8080/"
        },
        "id": "-xZLzaR2HFCV",
        "outputId": "44110c16-36bc-4143-8dcd-d08fb7d48c4c"
      },
      "execution_count": null,
      "outputs": [
        {
          "output_type": "stream",
          "name": "stdout",
          "text": [
            "hi amar, so you are from india\n"
          ]
        }
      ]
    },
    {
      "cell_type": "code",
      "source": [
        "intro(native=\"pune\")"
      ],
      "metadata": {
        "colab": {
          "base_uri": "https://localhost:8080/"
        },
        "id": "GQ-XZQXVHHhf",
        "outputId": "431a9638-a1cb-412a-a8e6-d071b3dc543c"
      },
      "execution_count": null,
      "outputs": [
        {
          "output_type": "stream",
          "name": "stdout",
          "text": [
            "hi unknown, so you are from pune\n"
          ]
        }
      ]
    },
    {
      "cell_type": "code",
      "source": [
        "def hobbies(*h):  #*<var> variable size parameter at most one used\n",
        "  print(type(h))\n",
        "  print(\"total hobbies are:\",len(h))\n",
        "  for item in h:\n",
        "    print(\"->\",item)"
      ],
      "metadata": {
        "id": "u4s-O8_lHJO4"
      },
      "execution_count": null,
      "outputs": []
    },
    {
      "cell_type": "code",
      "source": [
        "hobbies(\"write\",\"sing\",\"cricekt\")"
      ],
      "metadata": {
        "colab": {
          "base_uri": "https://localhost:8080/"
        },
        "id": "RqXRSTCDHuHA",
        "outputId": "99d684ee-4022-4064-a336-f988657a1227"
      },
      "execution_count": null,
      "outputs": [
        {
          "output_type": "stream",
          "name": "stdout",
          "text": [
            "<class 'tuple'>\n",
            "total hobbies are: 3\n",
            "-> write\n",
            "-> sing\n",
            "-> cricekt\n"
          ]
        }
      ]
    },
    {
      "cell_type": "code",
      "source": [
        "hobbies(\"eat\",\"sleep\")"
      ],
      "metadata": {
        "colab": {
          "base_uri": "https://localhost:8080/"
        },
        "id": "UIQ8E15pH0bs",
        "outputId": "3ba2d60b-f7e2-4225-c164-22112b814b7d"
      },
      "execution_count": null,
      "outputs": [
        {
          "output_type": "stream",
          "name": "stdout",
          "text": [
            "<class 'tuple'>\n",
            "total hobbies are: 2\n",
            "-> eat\n",
            "-> sleep\n"
          ]
        }
      ]
    },
    {
      "cell_type": "code",
      "source": [
        "# write a function to add n parameter passed to function\n",
        "#call fucntion adder\n",
        "\n",
        "def adder(*a):\n",
        "  print(f\"sum of elements {sum(a)}\")"
      ],
      "metadata": {
        "id": "wSGgXoJgH_9V"
      },
      "execution_count": null,
      "outputs": []
    },
    {
      "cell_type": "code",
      "source": [
        "adder(1,2,3,3,4,4)"
      ],
      "metadata": {
        "colab": {
          "base_uri": "https://localhost:8080/"
        },
        "id": "-qXpdHZLIdwX",
        "outputId": "2d812365-c676-4a2b-a3b7-42c25cceaf3d"
      },
      "execution_count": null,
      "outputs": [
        {
          "output_type": "stream",
          "name": "stdout",
          "text": [
            "sum of elements 17\n"
          ]
        }
      ]
    },
    {
      "cell_type": "code",
      "source": [
        "#use of return to return n elements from function\n",
        "def ascending(no1, no2):\n",
        "  if no1<no2:\n",
        "    return no1,no2\n",
        "  else:\n",
        "    return no2,no1"
      ],
      "metadata": {
        "id": "zGM8QyFAIgcr"
      },
      "execution_count": null,
      "outputs": []
    },
    {
      "cell_type": "code",
      "source": [
        "resoonse=ascending(55,3)"
      ],
      "metadata": {
        "id": "G-VSNuakJqUw"
      },
      "execution_count": null,
      "outputs": []
    },
    {
      "cell_type": "code",
      "source": [
        "resoonse"
      ],
      "metadata": {
        "colab": {
          "base_uri": "https://localhost:8080/"
        },
        "id": "1lqd_jM3JvJO",
        "outputId": "e57bca9e-d9c1-4b47-dd37-128d1cf7f569"
      },
      "execution_count": null,
      "outputs": [
        {
          "output_type": "execute_result",
          "data": {
            "text/plain": [
              "(3, 55)"
            ]
          },
          "metadata": {},
          "execution_count": 17
        }
      ]
    },
    {
      "cell_type": "code",
      "source": [
        "#create function to analyse data given as  asequnece of numbers\n",
        "# function should return max,min,sum,average\n",
        "#priting is done is main\n",
        "\n",
        "def analyzer(*numbers):\n",
        "    total_sum = sum(numbers)\n",
        "    maximum = max(numbers)\n",
        "    minimum = min(numbers)\n",
        "    average = total_sum / len(numbers)\n",
        "    return total_sum, maximum, minimum, average\n",
        "\n",
        "total_sum, maximum, minimum, average = analyzer(2, 5, 13, 32, 34, 32, 42, 32, 4, 23, 4, 2, 3)\n",
        "print(f\"Sum: {total_sum}, Max: {maximum}, Min: {minimum}, Avg: {average}\")\n",
        "\n",
        "\n"
      ],
      "metadata": {
        "colab": {
          "base_uri": "https://localhost:8080/"
        },
        "id": "7VDqCqmEJwz6",
        "outputId": "e9c08d90-cf70-41d9-c23a-f95286988b87"
      },
      "execution_count": null,
      "outputs": [
        {
          "output_type": "stream",
          "name": "stdout",
          "text": [
            "Sum: 228, Max: 42, Min: 2, Avg: 17.53846153846154\n"
          ]
        }
      ]
    },
    {
      "cell_type": "code",
      "source": [
        "#reverse line word by word using function\n",
        "\n",
        "def reverse_line(line):\n",
        "\n",
        "  r_list=line.split()[::-1]\n",
        "  r_line=\"\"\n",
        "  for word in r_list:\n",
        "    r_line=r_line+\" \"+word\n",
        "  return r_line"
      ],
      "metadata": {
        "id": "9oghHxv7K4Et"
      },
      "execution_count": null,
      "outputs": []
    },
    {
      "cell_type": "code",
      "source": [
        "r_line = reverse_line(\"this is a test\")\n",
        "print(r_line)"
      ],
      "metadata": {
        "colab": {
          "base_uri": "https://localhost:8080/"
        },
        "id": "hODmUitjM87E",
        "outputId": "358d662b-dfcf-4673-e591-fd34487cf381"
      },
      "execution_count": null,
      "outputs": [
        {
          "output_type": "stream",
          "name": "stdout",
          "text": [
            " test a is this\n"
          ]
        }
      ]
    },
    {
      "cell_type": "code",
      "source": [
        "#Decorator: function polymorphism\n",
        "#wrap old fucntion in new call\n",
        "\n",
        "def eng(name):\n",
        "  print(f\"{name} my dear friend , how are you ? \")\n",
        "def hindi(name):\n",
        "  print(f\"{name} मेरे प्रिय मित्र, आप कैसे हैं? \")\n",
        "def marathi(name):\n",
        "  print(f\"{name} माझ्या प्रिय मित्रा, तू कसा आहेस?\" )\n",
        "def welcome(name,lang):\n",
        "  lang(name)\n",
        "\n",
        "welcome(\"vedant\", hindi)"
      ],
      "metadata": {
        "colab": {
          "base_uri": "https://localhost:8080/"
        },
        "id": "OGnKSAWJPWBN",
        "outputId": "767ab759-e74c-498f-f0b7-95a782a1dff2"
      },
      "execution_count": null,
      "outputs": [
        {
          "output_type": "stream",
          "name": "stdout",
          "text": [
            "vedant मेरे प्रिय मित्र, आप कैसे हैं? \n"
          ]
        }
      ]
    },
    {
      "cell_type": "code",
      "source": [
        "#generator: function that runs in parts\n",
        "#it will generate valvues for every interval \"yeild\":keyword where it stops\n"
      ],
      "metadata": {
        "id": "nYhu5mtcTuen"
      },
      "execution_count": null,
      "outputs": []
    },
    {
      "cell_type": "code",
      "source": [
        "def generator_function(n):\n",
        "  for i in range(1,11):\n",
        "    print(n*i)\n",
        "    yield"
      ],
      "metadata": {
        "id": "WKaHBYWOUOYm"
      },
      "execution_count": null,
      "outputs": []
    },
    {
      "cell_type": "code",
      "source": [
        "data=generator_function(10)"
      ],
      "metadata": {
        "id": "eTS997A2UX1I"
      },
      "execution_count": null,
      "outputs": []
    },
    {
      "cell_type": "code",
      "source": [
        "next(data)"
      ],
      "metadata": {
        "colab": {
          "base_uri": "https://localhost:8080/"
        },
        "id": "mkMQM0vwUbIH",
        "outputId": "3ee8c577-8277-4389-bd7d-fec8d2daa8f1"
      },
      "execution_count": null,
      "outputs": [
        {
          "output_type": "stream",
          "name": "stdout",
          "text": [
            "60\n"
          ]
        }
      ]
    },
    {
      "cell_type": "code",
      "source": [],
      "metadata": {
        "id": "CkVfEskSUrg_"
      },
      "execution_count": null,
      "outputs": []
    }
  ]
}