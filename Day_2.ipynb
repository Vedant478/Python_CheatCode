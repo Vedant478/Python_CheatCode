{
  "nbformat": 4,
  "nbformat_minor": 0,
  "metadata": {
    "colab": {
      "provenance": []
    },
    "kernelspec": {
      "name": "python3",
      "display_name": "Python 3"
    },
    "language_info": {
      "name": "python"
    }
  },
  "cells": [
    {
      "cell_type": "code",
      "execution_count": null,
      "metadata": {
        "id": "w_8bKNrEVzni"
      },
      "outputs": [],
      "source": [
        "# range(start,end,step)\n",
        "# default values : if not given then taken\n",
        "#   start:0\n",
        "#   step:+1\n",
        "#   end:on python we will stop at n-1"
      ]
    },
    {
      "cell_type": "code",
      "source": [
        "# print range given by user  (INTERVIEW QUESTION)\n",
        "#example start:2  end:5  OP : 2 3 4 5\n",
        "#example start:2  end:5  OP : -1 -2  0 1 2 3 4\n",
        "\n",
        "s=int(input(\"enter start number\"))\n",
        "e=int(input(\"enter end number\"))\n",
        "\n",
        "if(s<e):\n",
        "  for i in range(s,e+1,1):\n",
        "    print(i,end=\",\")\n",
        "else :\n",
        "  for i in range(s,e-1,-1):\n",
        "    print(i,end=\",\")"
      ],
      "metadata": {
        "colab": {
          "base_uri": "https://localhost:8080/"
        },
        "id": "-zM_a3v9X5w-",
        "outputId": "a49ca7c6-077f-4fc0-b7f1-1624066e9e50"
      },
      "execution_count": null,
      "outputs": [
        {
          "output_type": "stream",
          "name": "stdout",
          "text": [
            "enter start number2\n",
            "enter end number5\n",
            "2,3,4,5,"
          ]
        }
      ]
    },
    {
      "cell_type": "code",
      "source": [
        "for _ in range(1,10):\n",
        "  print(\"x\")"
      ],
      "metadata": {
        "colab": {
          "base_uri": "https://localhost:8080/"
        },
        "id": "_YR-VTV8ZE14",
        "outputId": "845acd3a-8ee5-4feb-f151-bd78b8578c93"
      },
      "execution_count": null,
      "outputs": [
        {
          "output_type": "stream",
          "name": "stdout",
          "text": [
            "x\n",
            "x\n",
            "x\n",
            "x\n",
            "x\n",
            "x\n",
            "x\n",
            "x\n",
            "x\n"
          ]
        }
      ]
    },
    {
      "cell_type": "code",
      "source": [
        "for i in range(1,4):\n",
        "  for j in range(1,4):\n",
        "    print(f\"i:{i} , j:{j}\")\n",
        "\n",
        "#for each pass of external loop internal loop runs n times"
      ],
      "metadata": {
        "colab": {
          "base_uri": "https://localhost:8080/"
        },
        "id": "Ny6kC1APacDz",
        "outputId": "f4a73fb5-5615-4d16-adf1-d41b9dd37287"
      },
      "execution_count": null,
      "outputs": [
        {
          "output_type": "stream",
          "name": "stdout",
          "text": [
            "i:1 , j:1\n",
            "i:1 , j:2\n",
            "i:1 , j:3\n",
            "i:2 , j:1\n",
            "i:2 , j:2\n",
            "i:2 , j:3\n",
            "i:3 , j:1\n",
            "i:3 , j:2\n",
            "i:3 , j:3\n"
          ]
        }
      ]
    },
    {
      "cell_type": "code",
      "source": [
        "#flag concept:\n",
        "#flag set ---> true flag=reset --->False\n",
        "#set then if fail reset\n",
        "# reset if found/match/got set\n",
        "# check if number is prime or not"
      ],
      "metadata": {
        "id": "Mt9Ya4_mbD6G"
      },
      "execution_count": null,
      "outputs": []
    },
    {
      "cell_type": "code",
      "source": [
        "flag=True\n",
        "no=int(input(\"Enter a number\"))\n",
        "for i in range(2,no):\n",
        "  if no%i==0:\n",
        "    flag==False\n",
        "  if flag == True:\n",
        "    print(no,\"is prime\")\n",
        "  else:\n",
        "    print(no,\"is not prime\")"
      ],
      "metadata": {
        "colab": {
          "base_uri": "https://localhost:8080/"
        },
        "id": "RMCpL5YubwqR",
        "outputId": "090d34b9-9061-4d17-b6fe-b49d4e1f598d"
      },
      "execution_count": null,
      "outputs": [
        {
          "output_type": "stream",
          "name": "stdout",
          "text": [
            "Enter a number5\n",
            "5 is prime\n",
            "5 is prime\n",
            "5 is prime\n"
          ]
        }
      ]
    },
    {
      "cell_type": "code",
      "source": [
        "flag=True\n",
        "no=int(input(\"Enter a number\"))\n",
        "for i in range(2,no):\n",
        "  if no%i==0:\n",
        "    flag=False\n",
        "    break #stop when fail\n",
        "print(no,\"is prime:\",flag)"
      ],
      "metadata": {
        "colab": {
          "base_uri": "https://localhost:8080/"
        },
        "id": "tETZ-Q2ncYV6",
        "outputId": "f0421f7a-ab68-4789-f628-fd4f5136e0a8"
      },
      "execution_count": null,
      "outputs": [
        {
          "output_type": "stream",
          "name": "stdout",
          "text": [
            "Enter a number4\n",
            "4 is prime: False\n"
          ]
        }
      ]
    },
    {
      "cell_type": "code",
      "source": [
        "for no in range(2,51):\n",
        "  flag=True\n",
        "  for i in range(2,no):\n",
        "      if no%i==0:\n",
        "        flag=False\n",
        "        break #stop when fail\n",
        "  if flag:\n",
        "    print(no,\"is prime\")\n"
      ],
      "metadata": {
        "colab": {
          "base_uri": "https://localhost:8080/"
        },
        "id": "9MGzoOH1cs2w",
        "outputId": "348c513b-95f2-413e-9004-77e57e47d946"
      },
      "execution_count": null,
      "outputs": [
        {
          "output_type": "stream",
          "name": "stdout",
          "text": [
            "2 is prime\n",
            "3 is prime\n",
            "5 is prime\n",
            "7 is prime\n",
            "11 is prime\n",
            "13 is prime\n",
            "17 is prime\n",
            "19 is prime\n",
            "23 is prime\n",
            "29 is prime\n",
            "31 is prime\n",
            "37 is prime\n",
            "41 is prime\n",
            "43 is prime\n",
            "47 is prime\n"
          ]
        }
      ]
    },
    {
      "cell_type": "code",
      "source": [
        "#157\n",
        "no=int (input(\"Enter a number\"))\n",
        "temp=no\n",
        "sum=0\n",
        "while no>0:\n",
        "  digit=no%10\n",
        "  no=no//10\n",
        "  sum+=digit**3\n",
        "  print(\"no:\",no,\"digit:\",digit,\"sum\", sum)\n",
        "\n",
        "if (sum==temp):\n",
        "  print(\"No is armstrong\")\n",
        "else:\n",
        "  print(\"aklsjidja\")"
      ],
      "metadata": {
        "colab": {
          "base_uri": "https://localhost:8080/"
        },
        "id": "5g8RapmTddHd",
        "outputId": "7f173944-819a-4a7d-de18-27dbd2563815"
      },
      "execution_count": null,
      "outputs": [
        {
          "output_type": "stream",
          "name": "stdout",
          "text": [
            "Enter a number153\n",
            "no: 15 digit: 3 sum 27\n",
            "no: 1 digit: 5 sum 152\n",
            "no: 0 digit: 1 sum 153\n",
            "No is armstrong\n"
          ]
        }
      ]
    },
    {
      "cell_type": "code",
      "source": [
        "#print all armstrong numbers from 100 to 1000\n",
        "for no in range(100,1001):\n",
        "  temp=no\n",
        "  sum=0\n",
        "  while no>0:\n",
        "    digit=no%10\n",
        "    no=no//10\n",
        "    sum+=digit**3\n",
        "  if (sum==temp):\n",
        "    print(temp)"
      ],
      "metadata": {
        "colab": {
          "base_uri": "https://localhost:8080/"
        },
        "id": "kqw0qu2RgdFO",
        "outputId": "f24d31e8-6074-4ec2-93c2-98af94cd48f2"
      },
      "execution_count": null,
      "outputs": [
        {
          "output_type": "stream",
          "name": "stdout",
          "text": [
            "153\n",
            "370\n",
            "371\n",
            "407\n"
          ]
        }
      ]
    },
    {
      "cell_type": "code",
      "source": [
        "#Infosys question\n",
        "#print all numbers perfectly divisible by 3,5,7 in 1 to 100\n",
        "\n",
        "for no in range(1,100):\n",
        "  if (no%3==0 and no%5==0 and no%7==0):\n",
        "    print(i)\n"
      ],
      "metadata": {
        "id": "BCUBDnRhhWue"
      },
      "execution_count": null,
      "outputs": []
    },
    {
      "cell_type": "code",
      "source": [
        "#Accenture\n",
        "#1/2+3/4+5/6.........nth term\n",
        "#n entered by user using single variable\n",
        "sum=0\n",
        "n = int(input(\"enter a number\"))\n",
        "for i in range(1,2*n+1,+2):\n",
        "  print(f\"{i}/{i+1}\", end=\"+\",)\n",
        "  temp= (i)/(i+1)\n",
        "  sum += temp\n",
        "print(\"=\",sum)"
      ],
      "metadata": {
        "colab": {
          "base_uri": "https://localhost:8080/"
        },
        "id": "B1Edc7_MkAtn",
        "outputId": "0ad27cca-d5a9-4e32-f67d-779e09887fe2"
      },
      "execution_count": null,
      "outputs": [
        {
          "output_type": "stream",
          "name": "stdout",
          "text": [
            "enter a number4\n",
            "1/2+3/4+5/6+7/8+= 2.9583333333333335\n"
          ]
        }
      ]
    },
    {
      "cell_type": "code",
      "source": [
        "for i in range(1,11):\n",
        "    if i==5:\n",
        "\n",
        "        break\n",
        "    print(i)\n",
        "else:#runs at end if end is reached\n",
        "    print(\"ok bye the end.......\")"
      ],
      "metadata": {
        "colab": {
          "base_uri": "https://localhost:8080/"
        },
        "id": "y79yTc84lgBJ",
        "outputId": "277107b7-f6a8-4623-c307-e95f7e0516d0"
      },
      "execution_count": null,
      "outputs": [
        {
          "output_type": "stream",
          "name": "stdout",
          "text": [
            "1\n",
            "2\n",
            "3\n",
            "4\n"
          ]
        }
      ]
    },
    {
      "cell_type": "markdown",
      "source": [
        "Common in all 4\n",
        "- hetrogeneous\n",
        "- created with symbols\n",
        "  \n",
        "  [] list\n",
        "  \n",
        "  () tuple\n",
        "  \n",
        "  {1} set\n",
        "\n",
        "  {1:\"value\"} dictionary\n",
        "\n",
        "  <br>\n",
        "  also construtors/cast types\n",
        "  available\n",
        "  \n",
        "  list()\n",
        "  \n",
        "  set()\n",
        "\n",
        "  tuple()\n",
        "\n",
        "  dict()\n",
        "  "
      ],
      "metadata": {
        "id": "kQMj1M7B1aJ9"
      }
    },
    {
      "cell_type": "markdown",
      "source": [
        "List\n",
        "<br>\n",
        "- hetrogeneous\n",
        "- dynamic: can grow/shrink over runtime\n",
        "- indexed: +ve and -ve\n",
        "- duplicate allowed\n",
        "- printable\n",
        "- iterable\n",
        "- +can concate\n",
        "- *repeats"
      ],
      "metadata": {
        "id": "OnVaon262TAl"
      }
    },
    {
      "cell_type": "code",
      "source": [
        "a=[1,2,3,4,5]\n",
        "print(a)#printable"
      ],
      "metadata": {
        "colab": {
          "base_uri": "https://localhost:8080/"
        },
        "id": "Ljd7CnUHp0nx",
        "outputId": "87ff0daa-f6bb-4bc3-c337-37f2779d0502"
      },
      "execution_count": null,
      "outputs": [
        {
          "output_type": "stream",
          "name": "stdout",
          "text": [
            "[1, 2, 3, 4, 5]\n"
          ]
        }
      ]
    },
    {
      "cell_type": "code",
      "source": [
        "for i in a:\n",
        "  print(i)#iterable"
      ],
      "metadata": {
        "colab": {
          "base_uri": "https://localhost:8080/"
        },
        "id": "RUPCHx3x28RA",
        "outputId": "893d0eeb-b745-483a-f9d5-66ca29b567c4"
      },
      "execution_count": null,
      "outputs": [
        {
          "output_type": "stream",
          "name": "stdout",
          "text": [
            "1\n",
            "2\n",
            "3\n",
            "4\n",
            "5\n"
          ]
        }
      ]
    },
    {
      "cell_type": "code",
      "source": [
        "for i in range(len(a)):\n",
        "  print(i)\n",
        "\n",
        "#len() returns number of element"
      ],
      "metadata": {
        "colab": {
          "base_uri": "https://localhost:8080/"
        },
        "id": "yZiYSEC-3Dg8",
        "outputId": "94a1cd97-08aa-4975-ee1d-0b21d0c26e7b"
      },
      "execution_count": null,
      "outputs": [
        {
          "output_type": "stream",
          "name": "stdout",
          "text": [
            "0\n",
            "1\n",
            "2\n",
            "3\n",
            "4\n"
          ]
        }
      ]
    },
    {
      "cell_type": "code",
      "source": [
        "#  0   1  2  3  4  +ve index\n",
        "a=[10,20,30,40,50]\n",
        "#  -5 -4 -3 -2 -1  -ve index"
      ],
      "metadata": {
        "id": "JArm9Way3SYh"
      },
      "execution_count": null,
      "outputs": []
    },
    {
      "cell_type": "code",
      "source": [
        "b=[23,33,44,55,66]\n",
        "c=a+b # + only concates\n",
        "print(c)"
      ],
      "metadata": {
        "colab": {
          "base_uri": "https://localhost:8080/"
        },
        "id": "cb_U8A6B4AEw",
        "outputId": "17a21d9b-32ec-477b-d6dc-a5b2388f876f"
      },
      "execution_count": null,
      "outputs": [
        {
          "output_type": "stream",
          "name": "stdout",
          "text": [
            "[10, 20, 30, 40, 50, 23, 33, 44, 55, 66]\n"
          ]
        }
      ]
    },
    {
      "cell_type": "code",
      "source": [
        "a*3"
      ],
      "metadata": {
        "colab": {
          "base_uri": "https://localhost:8080/"
        },
        "id": "t2wKIVCQ4Ltk",
        "outputId": "e738a932-3160-463d-a33f-526ff67136c2"
      },
      "execution_count": null,
      "outputs": [
        {
          "output_type": "execute_result",
          "data": {
            "text/plain": [
              "[10, 20, 30, 40, 50, 10, 20, 30, 40, 50, 10, 20, 30, 40, 50]"
            ]
          },
          "metadata": {},
          "execution_count": 21
        }
      ]
    },
    {
      "cell_type": "code",
      "source": [
        "v=[1,2,3]\n",
        "sum(v)"
      ],
      "metadata": {
        "colab": {
          "base_uri": "https://localhost:8080/",
          "height": 162
        },
        "id": "W0OEm83l4YWF",
        "outputId": "18b67478-16f5-4203-b569-31bc7ebe82a5"
      },
      "execution_count": null,
      "outputs": [
        {
          "output_type": "error",
          "ename": "TypeError",
          "evalue": "'float' object is not callable",
          "traceback": [
            "\u001b[0;31m---------------------------------------------------------------------------\u001b[0m",
            "\u001b[0;31mTypeError\u001b[0m                                 Traceback (most recent call last)",
            "\u001b[0;32m<ipython-input-24-474eccecc89b>\u001b[0m in \u001b[0;36m<cell line: 2>\u001b[0;34m()\u001b[0m\n\u001b[1;32m      1\u001b[0m \u001b[0mv\u001b[0m\u001b[0;34m=\u001b[0m\u001b[0;34m[\u001b[0m\u001b[0;36m1\u001b[0m\u001b[0;34m,\u001b[0m\u001b[0;36m2\u001b[0m\u001b[0;34m,\u001b[0m\u001b[0;36m3\u001b[0m\u001b[0;34m]\u001b[0m\u001b[0;34m\u001b[0m\u001b[0;34m\u001b[0m\u001b[0m\n\u001b[0;32m----> 2\u001b[0;31m \u001b[0msum\u001b[0m\u001b[0;34m(\u001b[0m\u001b[0mv\u001b[0m\u001b[0;34m)\u001b[0m\u001b[0;34m\u001b[0m\u001b[0;34m\u001b[0m\u001b[0m\n\u001b[0m",
            "\u001b[0;31mTypeError\u001b[0m: 'float' object is not callable"
          ]
        }
      ]
    },
    {
      "cell_type": "code",
      "source": [
        "l=[25,1,26,10,27]\n",
        "print(\"sorted :\",sorted(l))#returns sorted list"
      ],
      "metadata": {
        "colab": {
          "base_uri": "https://localhost:8080/"
        },
        "id": "X0DlTalK5Pno",
        "outputId": "6c12b36d-c207-442f-c7b6-99750bcdc9da"
      },
      "execution_count": null,
      "outputs": [
        {
          "output_type": "stream",
          "name": "stdout",
          "text": [
            "sorted : [1, 10, 25, 26, 27]\n"
          ]
        }
      ]
    },
    {
      "cell_type": "code",
      "source": [
        "print(l)"
      ],
      "metadata": {
        "colab": {
          "base_uri": "https://localhost:8080/"
        },
        "id": "gwxD992_6wlp",
        "outputId": "48d20ba0-ad22-4474-d55f-497c082119b4"
      },
      "execution_count": null,
      "outputs": [
        {
          "output_type": "stream",
          "name": "stdout",
          "text": [
            "[25, 1, 26, 10, 27]\n"
          ]
        }
      ]
    },
    {
      "cell_type": "code",
      "source": [
        "l"
      ],
      "metadata": {
        "colab": {
          "base_uri": "https://localhost:8080/"
        },
        "id": "XewObSlg6zBv",
        "outputId": "ade6f04b-7db6-4b70-99a0-edb5997860fc"
      },
      "execution_count": null,
      "outputs": [
        {
          "output_type": "execute_result",
          "data": {
            "text/plain": [
              "[25, 1, 26, 10, 27]"
            ]
          },
          "metadata": {},
          "execution_count": 27
        }
      ]
    },
    {
      "cell_type": "code",
      "source": [
        "print(\"sorted:\",l.sort())\n",
        "#will sort inplace but not returning anything"
      ],
      "metadata": {
        "colab": {
          "base_uri": "https://localhost:8080/"
        },
        "id": "btrtQokE6zlL",
        "outputId": "9789ea18-7cf1-478f-e9d8-e21d33e8b4b8"
      },
      "execution_count": null,
      "outputs": [
        {
          "output_type": "stream",
          "name": "stdout",
          "text": [
            "sorted: None\n"
          ]
        }
      ]
    },
    {
      "cell_type": "code",
      "source": [
        "l"
      ],
      "metadata": {
        "colab": {
          "base_uri": "https://localhost:8080/"
        },
        "id": "iKn7XDQh62X_",
        "outputId": "6dead68c-7f0b-40b8-abeb-7d637c24b8fc"
      },
      "execution_count": null,
      "outputs": [
        {
          "output_type": "execute_result",
          "data": {
            "text/plain": [
              "[1, 10, 25, 26, 27]"
            ]
          },
          "metadata": {},
          "execution_count": 29
        }
      ]
    },
    {
      "cell_type": "code",
      "source": [
        "#shellow copy\n",
        "a=[11,22,33,44]\n",
        "b=a\n",
        "print(\"a:\",a,id(a),\" b:\",b,id(b))\n",
        "b[0]=100\n",
        "print(\"a:\",a,id(a),\" b:\",b,id(b))\n"
      ],
      "metadata": {
        "colab": {
          "base_uri": "https://localhost:8080/"
        },
        "id": "zsBA19oa6292",
        "outputId": "040d888f-3945-46b9-df74-f6b9f2066cfa"
      },
      "execution_count": null,
      "outputs": [
        {
          "output_type": "stream",
          "name": "stdout",
          "text": [
            "a: [11, 22, 33, 44] 138668653431232  b: [11, 22, 33, 44] 138668653431232\n",
            "a: [100, 22, 33, 44] 138668653431232  b: [100, 22, 33, 44] 138668653431232\n"
          ]
        }
      ]
    },
    {
      "cell_type": "code",
      "source": [
        "#deep copy\n",
        "a=[11,22,33,44]\n",
        "b=a.copy()\n",
        "print(\"a:\",a,id(a),\" b:\",b,id(b))\n",
        "b[0]=100\n",
        "print(\"a:\",a,id(a),\" b:\",b,id(b))\n"
      ],
      "metadata": {
        "colab": {
          "base_uri": "https://localhost:8080/"
        },
        "id": "XwciiQFT7n8H",
        "outputId": "1bfb3cc6-7ebf-4daf-d1e8-67f5e04a1dee"
      },
      "execution_count": null,
      "outputs": [
        {
          "output_type": "stream",
          "name": "stdout",
          "text": [
            "a: [11, 22, 33, 44] 138668652832576  b: [11, 22, 33, 44] 138668652825984\n",
            "a: [11, 22, 33, 44] 138668652832576  b: [100, 22, 33, 44] 138668652825984\n"
          ]
        }
      ]
    },
    {
      "cell_type": "markdown",
      "source": [
        "Every data structure is shellow copy"
      ],
      "metadata": {
        "id": "yHaDzLKN72SN"
      }
    },
    {
      "cell_type": "code",
      "source": [
        "#slicing\n",
        "l=[11,22,33,44,55,66,77,88,99]\n",
        "\n",
        "#slice [start:end:step]\n",
        "l[2:5:1]\n",
        "print(l[2:5:1])\n",
        "print(l[:3])\n",
        "print(l[6:])\n",
        "print(l[::])\n",
        "print(l[::-1])\n",
        "print(l[::2])\n",
        "print(l[:457947389])"
      ],
      "metadata": {
        "colab": {
          "base_uri": "https://localhost:8080/"
        },
        "id": "3Vw5e0E37xrY",
        "outputId": "ddc7324b-5126-431c-e1c3-2afd66d92019"
      },
      "execution_count": null,
      "outputs": [
        {
          "output_type": "stream",
          "name": "stdout",
          "text": [
            "[33, 44, 55]\n",
            "[11, 22, 33]\n",
            "[77, 88, 99]\n",
            "[11, 22, 33, 44, 55, 66, 77, 88, 99]\n",
            "[99, 88, 77, 66, 55, 44, 33, 22, 11]\n",
            "[11, 33, 55, 77, 99]\n",
            "[11, 22, 33, 44, 55, 66, 77, 88, 99]\n"
          ]
        }
      ]
    },
    {
      "cell_type": "code",
      "source": [
        "l=[[10,20,30],[40,50],[60,70,80]]\n",
        "\n"
      ],
      "metadata": {
        "colab": {
          "base_uri": "https://localhost:8080/"
        },
        "id": "IAtAXKcG8qeo",
        "outputId": "5a227e62-530d-44fb-b7bb-f090a7f56fda"
      },
      "execution_count": null,
      "outputs": [
        {
          "output_type": "stream",
          "name": "stdout",
          "text": [
            "12\n",
            "22\n",
            "32\n",
            "42\n",
            "52\n",
            "62\n",
            "72\n",
            "82\n"
          ]
        }
      ]
    },
    {
      "cell_type": "code",
      "source": [
        "#implement scalar addition to 2d list\n",
        "#means if user gives n=2 add 2 to each element in list\n",
        "\n",
        "l=[[10,20,30],[40,50],[60,70,80,90,100]]\n",
        "n=2\n",
        "for sublist in range(len(l)):\n",
        "  for item in range(len(l[sublist])):\n",
        "    l[sublist][item]+=n\n",
        "\n",
        "print(l)"
      ],
      "metadata": {
        "colab": {
          "base_uri": "https://localhost:8080/"
        },
        "id": "R-KEALFU_Kio",
        "outputId": "f1bd95de-8110-4d81-b903-f214e217a52c"
      },
      "execution_count": null,
      "outputs": [
        {
          "output_type": "stream",
          "name": "stdout",
          "text": [
            "[[12, 22, 32], [42, 52], [62, 72, 82, 92, 102]]\n"
          ]
        }
      ]
    },
    {
      "cell_type": "code",
      "source": [
        "#take numbers from user till first blank\n",
        "#store in list\n",
        "l =[]\n",
        "\n",
        "while True:\n",
        "  n=input(\"Enter a number\")\n",
        "  if (n==''):\n",
        "    break\n",
        "  else:\n",
        "    l.append(int(n))\n",
        "print(l)"
      ],
      "metadata": {
        "colab": {
          "base_uri": "https://localhost:8080/"
        },
        "id": "64KMXYhJAnHK",
        "outputId": "83f762d2-3476-4eae-842b-49897fa98be5"
      },
      "execution_count": null,
      "outputs": [
        {
          "output_type": "stream",
          "name": "stdout",
          "text": [
            "Enter a number3\n",
            "Enter a number4\n",
            "Enter a number5\n",
            "Enter a number6\n",
            "Enter a number\n",
            "[3, 4, 5, 6]\n"
          ]
        }
      ]
    },
    {
      "cell_type": "code",
      "source": [
        "l"
      ],
      "metadata": {
        "colab": {
          "base_uri": "https://localhost:8080/"
        },
        "id": "EeAm8LGWGZJs",
        "outputId": "1e0fb08c-e21d-46e1-b5f5-66d1884460b8"
      },
      "execution_count": null,
      "outputs": [
        {
          "output_type": "execute_result",
          "data": {
            "text/plain": [
              "[3, 4, 5, 6]"
            ]
          },
          "metadata": {},
          "execution_count": 9
        }
      ]
    },
    {
      "cell_type": "code",
      "source": [
        "#when stopped print sum and average of data in listsu\n",
        "sum(l)"
      ],
      "metadata": {
        "colab": {
          "base_uri": "https://localhost:8080/"
        },
        "id": "BR5usZOCG6zp",
        "outputId": "30c45d68-063a-4a6b-9606-665455436017"
      },
      "execution_count": null,
      "outputs": [
        {
          "output_type": "execute_result",
          "data": {
            "text/plain": [
              "18"
            ]
          },
          "metadata": {},
          "execution_count": 10
        }
      ]
    },
    {
      "cell_type": "code",
      "source": [
        "avg=sum(l)/len(l)"
      ],
      "metadata": {
        "id": "Uc0bAQRIHCP9"
      },
      "execution_count": null,
      "outputs": []
    },
    {
      "cell_type": "code",
      "source": [
        "avg"
      ],
      "metadata": {
        "colab": {
          "base_uri": "https://localhost:8080/"
        },
        "id": "NqCKe8qBH4Ev",
        "outputId": "ce134749-ae2f-4b38-ecac-bd4eff9da57c"
      },
      "execution_count": null,
      "outputs": [
        {
          "output_type": "execute_result",
          "data": {
            "text/plain": [
              "4.5"
            ]
          },
          "metadata": {},
          "execution_count": 12
        }
      ]
    },
    {
      "cell_type": "code",
      "source": [
        "#print all numbers greater than avg\n",
        "temp=[]\n",
        "for i in l:\n",
        "  if i>avg:\n",
        "    print(i)\n",
        "    temp.append(i)\n"
      ],
      "metadata": {
        "colab": {
          "base_uri": "https://localhost:8080/"
        },
        "id": "dEjrqfc5H47O",
        "outputId": "3f6c10f5-18d0-4d57-91a5-637e94dc18bb"
      },
      "execution_count": null,
      "outputs": [
        {
          "output_type": "stream",
          "name": "stdout",
          "text": [
            "5\n",
            "6\n"
          ]
        }
      ]
    },
    {
      "cell_type": "code",
      "source": [
        "temp"
      ],
      "metadata": {
        "colab": {
          "base_uri": "https://localhost:8080/"
        },
        "id": "DuryT1EiIgzh",
        "outputId": "5438841b-7c83-4ff4-e3ca-1d743bd61073"
      },
      "execution_count": null,
      "outputs": [
        {
          "output_type": "execute_result",
          "data": {
            "text/plain": [
              "[5, 6]"
            ]
          },
          "metadata": {},
          "execution_count": 16
        }
      ]
    },
    {
      "cell_type": "code",
      "source": [
        "temp"
      ],
      "metadata": {
        "id": "AF6OiBbGJFOX",
        "colab": {
          "base_uri": "https://localhost:8080/"
        },
        "outputId": "28529dc3-cd61-42b3-e0ac-3297a93240f7"
      },
      "execution_count": null,
      "outputs": [
        {
          "output_type": "execute_result",
          "data": {
            "text/plain": [
              "[5, 6]"
            ]
          },
          "metadata": {},
          "execution_count": 17
        }
      ]
    },
    {
      "cell_type": "code",
      "source": [
        "# tuple:()\n",
        "# all from list but static\n",
        "# once created can not change anything in it\n",
        "# tuple has only 2 methods\n",
        "#list with in tuple will be dynamic"
      ],
      "metadata": {
        "id": "rN0F0SNnK2NU"
      },
      "execution_count": null,
      "outputs": []
    },
    {
      "cell_type": "markdown",
      "source": [
        "SET\n",
        "- Intersection : a & b : {3,4}\n",
        "- Union : a|b : {1,2,3,4,5,6,7}\n",
        "- Symmetric Difference : A^B : {1,2,5,6}\n",
        "- Difference : A-B: {1,2}, B-A:{5,6}\n",
        "- Empty set: s=set() // To create empty set"
      ],
      "metadata": {
        "id": "bZn3934Rb13m"
      }
    },
    {
      "cell_type": "code",
      "source": [
        "all={1,2,3,4,5,6,7,8,9,10}\n",
        "dance={2,5,7,8}\n",
        "sing={2,8,9,10}\n",
        "backstage={2,3,5,7,10}"
      ],
      "metadata": {
        "id": "InCTgwD_bKzL"
      },
      "execution_count": null,
      "outputs": []
    },
    {
      "cell_type": "code",
      "source": [
        "#3 Eye Interview\n",
        "#Find who are not part of anything\n",
        "#Find who are part of everything\n",
        "#Find who can dance and sing"
      ],
      "metadata": {
        "id": "dPfWQ0p4ddes"
      },
      "execution_count": null,
      "outputs": []
    },
    {
      "cell_type": "code",
      "source": [
        "all-(dance|sing|backstage)"
      ],
      "metadata": {
        "colab": {
          "base_uri": "https://localhost:8080/"
        },
        "id": "5bLZLLO6d62h",
        "outputId": "9a68b889-79f7-4cfa-9aa2-5b9f819d2835"
      },
      "execution_count": null,
      "outputs": [
        {
          "output_type": "execute_result",
          "data": {
            "text/plain": [
              "{1, 4, 6}"
            ]
          },
          "metadata": {},
          "execution_count": 2
        }
      ]
    },
    {
      "cell_type": "code",
      "source": [
        "dance&sing&backstage"
      ],
      "metadata": {
        "colab": {
          "base_uri": "https://localhost:8080/"
        },
        "id": "3-doiR1leRVk",
        "outputId": "7b3d3417-f88b-42bc-c96f-37f67df37639"
      },
      "execution_count": null,
      "outputs": [
        {
          "output_type": "execute_result",
          "data": {
            "text/plain": [
              "{2}"
            ]
          },
          "metadata": {},
          "execution_count": 7
        }
      ]
    },
    {
      "cell_type": "code",
      "source": [
        "dance&sing"
      ],
      "metadata": {
        "colab": {
          "base_uri": "https://localhost:8080/"
        },
        "id": "f-5BV2yWeiiC",
        "outputId": "2859881a-7d46-4d27-ca8f-5e97f8f93629"
      },
      "execution_count": null,
      "outputs": [
        {
          "output_type": "execute_result",
          "data": {
            "text/plain": [
              "{2, 8}"
            ]
          },
          "metadata": {},
          "execution_count": 9
        }
      ]
    },
    {
      "cell_type": "markdown",
      "source": [
        "Set\n",
        "<br>\n",
        "- {} -----> use set() for creating empty set\n",
        "- hetrogeneous\n",
        "- dynamic: can grow/shrink over runtime\n",
        "- custom indexed hence cannot be accessed via index     stores on its own way\n",
        "- duplicate allowed\n",
        "- printable\n",
        "- iterable"
      ],
      "metadata": {
        "id": "jv-qAMiifGyg"
      }
    },
    {
      "cell_type": "code",
      "source": [
        "#print freq. of each element in list\n",
        "xlist=[1,2,3,1,2,4,1,2,1,2,1,3,4]\n",
        "s = set(xlist)\n",
        "#get unique element\n",
        "\n",
        "#sort item\n",
        "\n",
        "#use sorted elements and search them in list to count\n",
        "print(\"list:\",xlist)\n",
        "xset=set(xlist)\n",
        "print(\"set:\",xset)"
      ],
      "metadata": {
        "colab": {
          "base_uri": "https://localhost:8080/"
        },
        "id": "dPD_51vdeus4",
        "outputId": "31d45af6-29e9-4b19-d64a-adf92fd87e40"
      },
      "execution_count": null,
      "outputs": [
        {
          "output_type": "stream",
          "name": "stdout",
          "text": [
            "list: [1, 2, 3, 1, 2, 4, 1, 2, 1, 2, 1, 3, 4]\n",
            "set: {1, 2, 3, 4}\n"
          ]
        }
      ]
    },
    {
      "cell_type": "code",
      "source": [
        "xlist=[1,2,3,1,2,4,1,2,1,2,1,3,4]\n",
        "for i in list(set(xlist))[::-1]:\n",
        "  c=xlist.count(i)\n",
        "  print(i,c)\n",
        "print(us)"
      ],
      "metadata": {
        "colab": {
          "base_uri": "https://localhost:8080/"
        },
        "id": "G5GtO-24jxNc",
        "outputId": "8b31775f-70fe-400c-c905-c47783b25e87"
      },
      "execution_count": null,
      "outputs": [
        {
          "output_type": "stream",
          "name": "stdout",
          "text": [
            "4 2\n",
            "3 2\n",
            "2 4\n",
            "1 5\n",
            "[1, 2, 3, 4]\n"
          ]
        }
      ]
    },
    {
      "cell_type": "markdown",
      "source": [
        "DICTIONARY:mapping {key:value} ---primary key:data\n",
        "- key:must be unique\n",
        "- value:may/may not be unique\n",
        "- key accessed ---[key]---> value\n",
        "- key,value can be on any type"
      ],
      "metadata": {
        "id": "eOwkv1-2lciT"
      }
    },
    {
      "cell_type": "code",
      "source": [
        "d={1:\"one\",2:\"two\",3:\"three\"}"
      ],
      "metadata": {
        "id": "CnSiToyrj1CD"
      },
      "execution_count": null,
      "outputs": []
    },
    {
      "cell_type": "code",
      "source": [
        "print(d)"
      ],
      "metadata": {
        "colab": {
          "base_uri": "https://localhost:8080/"
        },
        "id": "i4Kay2aEmvsQ",
        "outputId": "222645bb-cf92-4052-8b2e-193295deca6d"
      },
      "execution_count": null,
      "outputs": [
        {
          "output_type": "stream",
          "name": "stdout",
          "text": [
            "{1: 'one', 2: 'two', 3: 'three'}\n"
          ]
        }
      ]
    },
    {
      "cell_type": "code",
      "source": [
        "for key in d:  #by deafault key given\n",
        "  print(key)"
      ],
      "metadata": {
        "colab": {
          "base_uri": "https://localhost:8080/"
        },
        "id": "ih2hbgmrmxXx",
        "outputId": "565e4ed9-2414-4c7b-fdc3-d32d4bbaf742"
      },
      "execution_count": null,
      "outputs": [
        {
          "output_type": "stream",
          "name": "stdout",
          "text": [
            "1\n",
            "2\n",
            "3\n"
          ]
        }
      ]
    },
    {
      "cell_type": "code",
      "source": [
        "for key in d:\n",
        "  print(f\"d[{key}]--->{d[key]}\")"
      ],
      "metadata": {
        "colab": {
          "base_uri": "https://localhost:8080/"
        },
        "id": "kyrJOGo5m700",
        "outputId": "5d7f8d3d-7c5b-419e-f6b7-6ac024e7a5f0"
      },
      "execution_count": null,
      "outputs": [
        {
          "output_type": "stream",
          "name": "stdout",
          "text": [
            "d[1]--->one\n",
            "d[2]--->two\n",
            "d[3]--->three\n"
          ]
        }
      ]
    },
    {
      "cell_type": "code",
      "source": [
        "d[0]=\"zero\""
      ],
      "metadata": {
        "id": "FM9jtRkSnMHZ"
      },
      "execution_count": null,
      "outputs": []
    },
    {
      "cell_type": "code",
      "source": [
        "d.keys()"
      ],
      "metadata": {
        "colab": {
          "base_uri": "https://localhost:8080/"
        },
        "id": "xW1rFEXmnXli",
        "outputId": "fc880400-3819-486f-835d-c0dfad07237d"
      },
      "execution_count": null,
      "outputs": [
        {
          "output_type": "execute_result",
          "data": {
            "text/plain": [
              "dict_keys([1, 2, 3, 0])"
            ]
          },
          "metadata": {},
          "execution_count": 32
        }
      ]
    },
    {
      "cell_type": "code",
      "source": [
        "d.values()"
      ],
      "metadata": {
        "colab": {
          "base_uri": "https://localhost:8080/"
        },
        "id": "s5MkMBD4nZFz",
        "outputId": "c7038edf-3c51-4dae-89e1-e6dc041e7d05"
      },
      "execution_count": null,
      "outputs": [
        {
          "output_type": "execute_result",
          "data": {
            "text/plain": [
              "dict_values(['one', 'two', 'three', 'zero'])"
            ]
          },
          "metadata": {},
          "execution_count": 33
        }
      ]
    },
    {
      "cell_type": "code",
      "source": [
        "# accept a number from user print in words\n",
        "# 542\n",
        "# five four two\n",
        "number = input(\"enter:\")\n",
        "digits = int (number [::-1])"
      ],
      "metadata": {
        "id": "o_Qs7Yq3nbLw",
        "colab": {
          "base_uri": "https://localhost:8080/"
        },
        "outputId": "2ecd4f01-2518-42a5-8e06-9216bed992b3"
      },
      "execution_count": null,
      "outputs": [
        {
          "name": "stdout",
          "output_type": "stream",
          "text": [
            "enter:456\n"
          ]
        }
      ]
    },
    {
      "cell_type": "code",
      "source": [
        "print(digits,type(digits))"
      ],
      "metadata": {
        "colab": {
          "base_uri": "https://localhost:8080/"
        },
        "id": "gQ6cQm5ooJVT",
        "outputId": "c85031e4-0b94-475b-a0c4-ed8d2a9ca1fd"
      },
      "execution_count": null,
      "outputs": [
        {
          "output_type": "stream",
          "name": "stdout",
          "text": [
            "654 <class 'int'>\n"
          ]
        }
      ]
    },
    {
      "cell_type": "code",
      "source": [
        "d={1:\"one\",2:\"two\",3:\"three\",4:\"four\",5:\"five\",6:\"six\",7:\"seven\",8:\"eight\",9:\"nine\"}"
      ],
      "metadata": {
        "id": "KIHyz3HIoNfh"
      },
      "execution_count": null,
      "outputs": []
    },
    {
      "cell_type": "code",
      "source": [
        "number_words = {\n",
        "    0: \"Zero\",\n",
        "    1: \"One\",\n",
        "    2: \"Two\",\n",
        "    3: \"Three\",\n",
        "    4: \"Four\",\n",
        "    5: \"Five\",\n",
        "    6: \"Six\",\n",
        "    7: \"Seven\",\n",
        "    8: \"Eight\",\n",
        "    9: \"Nine\"\n",
        "}\n",
        "number=input(\"enter:\")\n",
        "number_int=int(number[::-1])\n",
        "while number_int>0:\n",
        "    digit=number_int%10\n",
        "    number_int//=10\n",
        "    print(number_words[digit],end=\" \")"
      ],
      "metadata": {
        "colab": {
          "base_uri": "https://localhost:8080/"
        },
        "id": "dCoAye90o5RK",
        "outputId": "92e53c59-09ab-4f20-eca7-4c176ffbfbd3"
      },
      "execution_count": null,
      "outputs": [
        {
          "output_type": "stream",
          "name": "stdout",
          "text": [
            "enter:768\n",
            "Seven Six Eight "
          ]
        }
      ]
    },
    {
      "cell_type": "code",
      "source": [
        "xlist=[1,2,3,1,2,4,1,2,1,2,1,3,4]\n",
        "dic = {}\n",
        "for i in set(xlist):\n",
        "  dic[i]=xlist.count(i)\n",
        "print(dic)"
      ],
      "metadata": {
        "colab": {
          "base_uri": "https://localhost:8080/"
        },
        "id": "w-zpV5TTppwU",
        "outputId": "c96853c1-1e86-42ae-f54c-ac34f604f0d9"
      },
      "execution_count": null,
      "outputs": [
        {
          "output_type": "stream",
          "name": "stdout",
          "text": [
            "{1: 5, 2: 4, 3: 2, 4: 2}\n"
          ]
        }
      ]
    },
    {
      "cell_type": "code",
      "source": [
        "#accept n comma separated values print maximum , minimun sum\n",
        "data_list=list(map(int,input(\"enter comma separarted values:\").split(\",\")))"
      ],
      "metadata": {
        "colab": {
          "base_uri": "https://localhost:8080/"
        },
        "id": "V3iSvB8Jr6qj",
        "outputId": "eb6b821a-c5bb-45a4-882e-754f96328f32"
      },
      "execution_count": null,
      "outputs": [
        {
          "name": "stdout",
          "output_type": "stream",
          "text": [
            "enter comma separarted values:2,4,5,7,9\n"
          ]
        }
      ]
    },
    {
      "cell_type": "code",
      "source": [
        "data_list"
      ],
      "metadata": {
        "colab": {
          "base_uri": "https://localhost:8080/"
        },
        "id": "C5Khqqzasmvk",
        "outputId": "c2688da4-5479-4129-cb25-3225e0a09d15"
      },
      "execution_count": null,
      "outputs": [
        {
          "output_type": "execute_result",
          "data": {
            "text/plain": [
              "[2, 4, 5, 7, 9]"
            ]
          },
          "metadata": {},
          "execution_count": 55
        }
      ]
    },
    {
      "cell_type": "code",
      "source": [
        "sum(data_list)"
      ],
      "metadata": {
        "colab": {
          "base_uri": "https://localhost:8080/"
        },
        "id": "mBkPyYRIsriT",
        "outputId": "214fe1bd-ed2f-4b0e-c4e7-c986e654d2f8"
      },
      "execution_count": null,
      "outputs": [
        {
          "output_type": "execute_result",
          "data": {
            "text/plain": [
              "27"
            ]
          },
          "metadata": {},
          "execution_count": 57
        }
      ]
    },
    {
      "cell_type": "code",
      "source": [
        "max=data_list[4]\n",
        "min=data_list[0]"
      ],
      "metadata": {
        "id": "WCADvQ75tCoN"
      },
      "execution_count": null,
      "outputs": []
    },
    {
      "cell_type": "code",
      "source": [
        "max"
      ],
      "metadata": {
        "colab": {
          "base_uri": "https://localhost:8080/"
        },
        "id": "rkEylppntHs2",
        "outputId": "dffb6d88-8b5f-414e-cf26-41c21351f6c7"
      },
      "execution_count": null,
      "outputs": [
        {
          "output_type": "execute_result",
          "data": {
            "text/plain": [
              "9"
            ]
          },
          "metadata": {},
          "execution_count": 68
        }
      ]
    },
    {
      "cell_type": "code",
      "source": [
        "min"
      ],
      "metadata": {
        "colab": {
          "base_uri": "https://localhost:8080/"
        },
        "id": "VgDlsRSttIVW",
        "outputId": "fed1bfc1-ee88-40a2-c9a8-ae430ae5b742"
      },
      "execution_count": null,
      "outputs": [
        {
          "output_type": "execute_result",
          "data": {
            "text/plain": [
              "<function min>"
            ]
          },
          "metadata": {},
          "execution_count": 69
        }
      ]
    },
    {
      "cell_type": "code",
      "source": [
        "#accept list from user and add total at end of list\n",
        "l=[1,2,3,4,5,6]\n",
        "l.append(sum(l))\n",
        "print(l)"
      ],
      "metadata": {
        "colab": {
          "base_uri": "https://localhost:8080/"
        },
        "id": "6g449pHhtuoj",
        "outputId": "7115b3ce-01d5-4edb-94b3-fcf32e4219bc"
      },
      "execution_count": null,
      "outputs": [
        {
          "output_type": "stream",
          "name": "stdout",
          "text": [
            "[1, 2, 3, 4, 5, 6, 21]\n"
          ]
        }
      ]
    },
    {
      "cell_type": "code",
      "source": [
        "#accept n comma separated values print 2nd largest and smallest\n",
        "data_list=list(map(int,input(\"enter comma separarted values:\").split(\",\")))"
      ],
      "metadata": {
        "colab": {
          "base_uri": "https://localhost:8080/"
        },
        "id": "4x6oSWkDt8pP",
        "outputId": "5d5f92b6-a466-4dde-87d7-8f62566e4ad3"
      },
      "execution_count": null,
      "outputs": [
        {
          "name": "stdout",
          "output_type": "stream",
          "text": [
            "enter comma separarted values:2,3,4,5,6,7,8,9\n"
          ]
        }
      ]
    },
    {
      "cell_type": "code",
      "source": [
        "data_list"
      ],
      "metadata": {
        "colab": {
          "base_uri": "https://localhost:8080/"
        },
        "id": "hhN5nftVuPiX",
        "outputId": "2190b847-4cb9-4023-b2f1-edd1df537286"
      },
      "execution_count": null,
      "outputs": [
        {
          "output_type": "execute_result",
          "data": {
            "text/plain": [
              "[2, 3, 4, 5, 6, 7, 8, 9]"
            ]
          },
          "metadata": {},
          "execution_count": 73
        }
      ]
    },
    {
      "cell_type": "code",
      "source": [
        "sort=list(sorted(set(data_list)))\n"
      ],
      "metadata": {
        "id": "v0R3koAiuUfM"
      },
      "execution_count": null,
      "outputs": []
    },
    {
      "cell_type": "code",
      "source": [
        "sort"
      ],
      "metadata": {
        "colab": {
          "base_uri": "https://localhost:8080/"
        },
        "id": "IvQKf3bgudPb",
        "outputId": "4499b8cc-7c65-47ff-e54e-99f6c3e5d7a7"
      },
      "execution_count": null,
      "outputs": [
        {
          "output_type": "execute_result",
          "data": {
            "text/plain": [
              "[2, 3, 4, 5, 6, 7, 8, 9]"
            ]
          },
          "metadata": {},
          "execution_count": 76
        }
      ]
    },
    {
      "cell_type": "code",
      "source": [
        "sort[-2]"
      ],
      "metadata": {
        "colab": {
          "base_uri": "https://localhost:8080/"
        },
        "id": "at7APiQkuysD",
        "outputId": "9f24c4c7-80d7-4399-b2b7-3e087aeffc3f"
      },
      "execution_count": null,
      "outputs": [
        {
          "output_type": "execute_result",
          "data": {
            "text/plain": [
              "8"
            ]
          },
          "metadata": {},
          "execution_count": 77
        }
      ]
    },
    {
      "cell_type": "code",
      "source": [
        "sort[1]"
      ],
      "metadata": {
        "colab": {
          "base_uri": "https://localhost:8080/"
        },
        "id": "4PVbqI43u2CP",
        "outputId": "96d58bbf-2643-4644-f8b2-6e59d4f44e80"
      },
      "execution_count": null,
      "outputs": [
        {
          "output_type": "execute_result",
          "data": {
            "text/plain": [
              "3"
            ]
          },
          "metadata": {},
          "execution_count": 78
        }
      ]
    },
    {
      "cell_type": "code",
      "source": [
        "#rotation in list\n",
        "#clockwise rotate by n-times given by user\n",
        "n=int(input(\"Enter number\"))\n",
        "\n",
        "clist=[10,20,30,40]\n",
        "while n>0:\n",
        "  clist.append(clist.pop(0))\n",
        "  print(clist)\n",
        "  n-=1"
      ],
      "metadata": {
        "colab": {
          "base_uri": "https://localhost:8080/"
        },
        "id": "KKHFtUGYu5xT",
        "outputId": "f9f46b30-fa23-4061-e2a1-2a321522d22b"
      },
      "execution_count": null,
      "outputs": [
        {
          "output_type": "stream",
          "name": "stdout",
          "text": [
            "Enter number4\n",
            "[20, 30, 40, 10]\n",
            "[30, 40, 10, 20]\n",
            "[40, 10, 20, 30]\n",
            "[10, 20, 30, 40]\n"
          ]
        }
      ]
    },
    {
      "cell_type": "code",
      "source": [
        "#rotation in list\n",
        "#anticlockwise rotate by n-times given by user\n",
        "n=int(input(\"Enter number\"))\n",
        "\n",
        "clist=[10,20,30,40]\n",
        "while n>0:\n",
        "  temp=clist.pop()\n",
        "  clist.insert(0,temp)\n",
        "  print(clist)\n",
        "  n-=1"
      ],
      "metadata": {
        "colab": {
          "base_uri": "https://localhost:8080/"
        },
        "id": "BGs8HH3oxw6k",
        "outputId": "345b11d0-7642-48f7-df70-0371d92ae19e"
      },
      "execution_count": null,
      "outputs": [
        {
          "output_type": "stream",
          "name": "stdout",
          "text": [
            "Enter number4\n",
            "[40, 10, 20, 30]\n",
            "[30, 40, 10, 20]\n",
            "[20, 30, 40, 10]\n",
            "[10, 20, 30, 40]\n"
          ]
        }
      ]
    },
    {
      "cell_type": "code",
      "source": [],
      "metadata": {
        "id": "Im0TRBQKSVhM"
      },
      "execution_count": null,
      "outputs": []
    }
  ]
}